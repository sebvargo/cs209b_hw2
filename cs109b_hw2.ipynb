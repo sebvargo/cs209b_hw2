{
 "cells": [
  {
   "cell_type": "markdown",
   "metadata": {
    "tags": []
   },
   "source": [
    "# <img style=\"float: left; padding-right: 10px; width: 45px\" src=\"https://raw.githubusercontent.com/Harvard-IACS/2018-CS109A/master/content/styles/iacs.png\"> Data Science 2: Advanced Topics in Data Science \n",
    "\n",
    "## Homework 2: Bayesian Analysis\n",
    "\n",
    "\n",
    "\n",
    "**Harvard University**<br/>\n",
    "**Spring 2022**<br/>\n",
    "**Instructors**: Mark Glickman & Pavlos Protopapas\n",
    "\n",
    "\n",
    "<hr style=\"height:2pt\">"
   ]
  },
  {
   "cell_type": "code",
   "execution_count": 1,
   "metadata": {},
   "outputs": [
    {
     "data": {
      "text/html": [
       "<style>\n",
       "blockquote { background: #AEDE94; }\n",
       "h1 { \n",
       "    padding-top: 25px;\n",
       "    padding-bottom: 25px;\n",
       "    text-align: left; \n",
       "    padding-left: 10px;\n",
       "    background-color: #DDDDDD; \n",
       "    color: black;\n",
       "}\n",
       "h2 { \n",
       "    padding-top: 10px;\n",
       "    padding-bottom: 10px;\n",
       "    text-align: left; \n",
       "    padding-left: 5px;\n",
       "    background-color: #EEEEEE; \n",
       "    color: black;\n",
       "}\n",
       "\n",
       "div.exercise {\n",
       "\tbackground-color: #ffcccc;\n",
       "\tborder-color: #E9967A; \t\n",
       "\tborder-left: 5px solid #800080; \n",
       "\tpadding: 0.5em;\n",
       "}\n",
       "\n",
       "div.exercise-r {\n",
       "\tbackground-color: #fce8e8;\n",
       "\tborder-color: #E9967A; \t\n",
       "\tborder-left: 5px solid #800080; \n",
       "\tpadding: 0.5em;\n",
       "}\n",
       "\n",
       "\n",
       "span.sub-q {\n",
       "\tfont-weight: bold;\n",
       "}\n",
       "div.theme {\n",
       "\tbackground-color: #DDDDDD;\n",
       "\tborder-color: #E9967A; \t\n",
       "\tborder-left: 5px solid #800080; \n",
       "\tpadding: 0.5em;\n",
       "\tfont-size: 18pt;\n",
       "}\n",
       "div.gc { \n",
       "\tbackground-color: #AEDE94;\n",
       "\tborder-color: #E9967A; \t \n",
       "\tborder-left: 5px solid #800080; \n",
       "\tpadding: 0.5em;\n",
       "\tfont-size: 12pt;\n",
       "}\n",
       "p.q1 { \n",
       "    padding-top: 5px;\n",
       "    padding-bottom: 5px;\n",
       "    text-align: left; \n",
       "    padding-left: 5px;\n",
       "    background-color: #EEEEEE; \n",
       "    color: black;\n",
       "}\n",
       "header {\n",
       "   padding-top: 35px;\n",
       "    padding-bottom: 35px;\n",
       "    text-align: left; \n",
       "    padding-left: 10px;\n",
       "    background-color: #DDDDDD; \n",
       "    color: black;\n",
       "}\n",
       "</style>\n",
       "\n"
      ],
      "text/plain": [
       "<IPython.core.display.HTML object>"
      ]
     },
     "execution_count": 1,
     "metadata": {},
     "output_type": "execute_result"
    }
   ],
   "source": [
    "# RUN THIS CELL \n",
    "import requests\n",
    "from IPython.core.display import HTML\n",
    "styles = requests.get(\n",
    "    \"https://raw.githubusercontent.com/Harvard-IACS/2018-CS109A/master/\"\n",
    "    \"content/styles/cs109.css\"\n",
    ").text\n",
    "HTML(styles)"
   ]
  },
  {
   "cell_type": "markdown",
   "metadata": {},
   "source": [
    "<a id=\"instructions\"></a>\n",
    "\n",
    "<hr style=\"height:2pt\">\n",
    "\n",
    "### INSTRUCTIONS\n",
    "\n",
    "- This homework can be submitted **in pairs**.\n",
    "\n",
    "- To submit your assignment follow the instructions given in Canvas.\n",
    "\n",
    "- Please **restart the kernel and run the entire notebook again before you submit. But remember that it can take a long time to run, so give yourself enough time.** \n",
    "\n",
    "- Running cells out of order is a common pitfall in Jupyter Notebooks. To make sure your code continues to work, restart the kernel and rerun your notebook periodically while working through this assignment. \n",
    "\n",
    "- We have tried to include all the libraries you may need to do the assignment in the imports cell provided below. **Please use only the libraries provided in those imports.**\n",
    "\n",
    "- Please use `.head(...)` when viewing data. Do not submit a notebook that is **excessively long**. \n",
    "\n",
    "- In questions that require code to answer, such as \"calculate and report $R^2$\", do not just output the value from a cell. Write a `print(...)` function that clearly labels the output, includes a reference to the calculated value, and rounds it to a reasonable number of digits. **Do not hard code values in your printed output**. For example, this is an appropriate print statement:\n",
    "```python\n",
    "print(f'The R^2 is {R:.4f}')\n",
    "```\n",
    "- **Your plots MUST be clearly labeled and easy to read,** including clear labels for the $x$ and $y$ axes, a descriptive title (\"MSE plot\" is NOT a descriptive title; \"Training and validation MSE at varying degree polynomial regression models\" on the other hand is descriptive), a legend when appropriate, and clearly formatted text and graphics.\n",
    "\n",
    "- **Your code may also be evaluated for efficiency and clarity.** As a result, correct output is not always sufficient for full credit.\n",
    "\n",
    "<hr style=\"height:2pt\">"
   ]
  },
  {
   "cell_type": "code",
   "execution_count": 2,
   "metadata": {},
   "outputs": [
    {
     "ename": "AttributeError",
     "evalue": "module 'numpy.distutils.__config__' has no attribute 'blas_opt_info'",
     "output_type": "error",
     "traceback": [
      "\u001b[0;31m---------------------------------------------------------------------------\u001b[0m",
      "\u001b[0;31mNoSectionError\u001b[0m                            Traceback (most recent call last)",
      "File \u001b[0;32m~/.local/share/virtualenvs/cs209b_hw2-Ofuqk_Uo/lib/python3.10/site-packages/theano/configparser.py:238\u001b[0m, in \u001b[0;36mTheanoConfigParser.fetch_val_for_key\u001b[0;34m(self, key, delete_key)\u001b[0m\n\u001b[1;32m    <a href='file:///~/.local/share/virtualenvs/cs209b_hw2-Ofuqk_Uo/lib/python3.10/site-packages/theano/configparser.py?line=236'>237</a>\u001b[0m \u001b[39mtry\u001b[39;00m:\n\u001b[0;32m--> <a href='file:///~/.local/share/virtualenvs/cs209b_hw2-Ofuqk_Uo/lib/python3.10/site-packages/theano/configparser.py?line=237'>238</a>\u001b[0m     \u001b[39mreturn\u001b[39;00m \u001b[39mself\u001b[39;49m\u001b[39m.\u001b[39;49m_theano_cfg\u001b[39m.\u001b[39;49mget(section, option)\n\u001b[1;32m    <a href='file:///~/.local/share/virtualenvs/cs209b_hw2-Ofuqk_Uo/lib/python3.10/site-packages/theano/configparser.py?line=238'>239</a>\u001b[0m \u001b[39mexcept\u001b[39;00m InterpolationError:\n",
      "File \u001b[0;32m/Library/Frameworks/Python.framework/Versions/3.10/lib/python3.10/configparser.py:782\u001b[0m, in \u001b[0;36mRawConfigParser.get\u001b[0;34m(self, section, option, raw, vars, fallback)\u001b[0m\n\u001b[1;32m    <a href='file:///Library/Frameworks/Python.framework/Versions/3.10/lib/python3.10/configparser.py?line=780'>781</a>\u001b[0m \u001b[39mtry\u001b[39;00m:\n\u001b[0;32m--> <a href='file:///Library/Frameworks/Python.framework/Versions/3.10/lib/python3.10/configparser.py?line=781'>782</a>\u001b[0m     d \u001b[39m=\u001b[39m \u001b[39mself\u001b[39;49m\u001b[39m.\u001b[39;49m_unify_values(section, \u001b[39mvars\u001b[39;49m)\n\u001b[1;32m    <a href='file:///Library/Frameworks/Python.framework/Versions/3.10/lib/python3.10/configparser.py?line=782'>783</a>\u001b[0m \u001b[39mexcept\u001b[39;00m NoSectionError:\n",
      "File \u001b[0;32m/Library/Frameworks/Python.framework/Versions/3.10/lib/python3.10/configparser.py:1153\u001b[0m, in \u001b[0;36mRawConfigParser._unify_values\u001b[0;34m(self, section, vars)\u001b[0m\n\u001b[1;32m   <a href='file:///Library/Frameworks/Python.framework/Versions/3.10/lib/python3.10/configparser.py?line=1151'>1152</a>\u001b[0m     \u001b[39mif\u001b[39;00m section \u001b[39m!=\u001b[39m \u001b[39mself\u001b[39m\u001b[39m.\u001b[39mdefault_section:\n\u001b[0;32m-> <a href='file:///Library/Frameworks/Python.framework/Versions/3.10/lib/python3.10/configparser.py?line=1152'>1153</a>\u001b[0m         \u001b[39mraise\u001b[39;00m NoSectionError(section) \u001b[39mfrom\u001b[39;00m \u001b[39mNone\u001b[39m\n\u001b[1;32m   <a href='file:///Library/Frameworks/Python.framework/Versions/3.10/lib/python3.10/configparser.py?line=1153'>1154</a>\u001b[0m \u001b[39m# Update with the entry specific variables\u001b[39;00m\n",
      "\u001b[0;31mNoSectionError\u001b[0m: No section: 'blas'",
      "\nDuring handling of the above exception, another exception occurred:\n",
      "\u001b[0;31mKeyError\u001b[0m                                  Traceback (most recent call last)",
      "File \u001b[0;32m~/.local/share/virtualenvs/cs209b_hw2-Ofuqk_Uo/lib/python3.10/site-packages/theano/configparser.py:354\u001b[0m, in \u001b[0;36mConfigParam.__get__\u001b[0;34m(self, cls, type_, delete_key)\u001b[0m\n\u001b[1;32m    <a href='file:///~/.local/share/virtualenvs/cs209b_hw2-Ofuqk_Uo/lib/python3.10/site-packages/theano/configparser.py?line=352'>353</a>\u001b[0m \u001b[39mtry\u001b[39;00m:\n\u001b[0;32m--> <a href='file:///~/.local/share/virtualenvs/cs209b_hw2-Ofuqk_Uo/lib/python3.10/site-packages/theano/configparser.py?line=353'>354</a>\u001b[0m     val_str \u001b[39m=\u001b[39m \u001b[39mcls\u001b[39;49m\u001b[39m.\u001b[39;49mfetch_val_for_key(\u001b[39mself\u001b[39;49m\u001b[39m.\u001b[39;49mname, delete_key\u001b[39m=\u001b[39;49mdelete_key)\n\u001b[1;32m    <a href='file:///~/.local/share/virtualenvs/cs209b_hw2-Ofuqk_Uo/lib/python3.10/site-packages/theano/configparser.py?line=354'>355</a>\u001b[0m     \u001b[39mself\u001b[39m\u001b[39m.\u001b[39mis_default \u001b[39m=\u001b[39m \u001b[39mFalse\u001b[39;00m\n",
      "File \u001b[0;32m~/.local/share/virtualenvs/cs209b_hw2-Ofuqk_Uo/lib/python3.10/site-packages/theano/configparser.py:242\u001b[0m, in \u001b[0;36mTheanoConfigParser.fetch_val_for_key\u001b[0;34m(self, key, delete_key)\u001b[0m\n\u001b[1;32m    <a href='file:///~/.local/share/virtualenvs/cs209b_hw2-Ofuqk_Uo/lib/python3.10/site-packages/theano/configparser.py?line=240'>241</a>\u001b[0m \u001b[39mexcept\u001b[39;00m (NoOptionError, NoSectionError):\n\u001b[0;32m--> <a href='file:///~/.local/share/virtualenvs/cs209b_hw2-Ofuqk_Uo/lib/python3.10/site-packages/theano/configparser.py?line=241'>242</a>\u001b[0m     \u001b[39mraise\u001b[39;00m \u001b[39mKeyError\u001b[39;00m(key)\n",
      "\u001b[0;31mKeyError\u001b[0m: 'blas__ldflags'",
      "\nDuring handling of the above exception, another exception occurred:\n",
      "\u001b[0;31mAttributeError\u001b[0m                            Traceback (most recent call last)",
      "\u001b[1;32m/Users/vargas/Desktop/cs209b_hw2/cs109b_hw2.ipynb Cell 4'\u001b[0m in \u001b[0;36m<module>\u001b[0;34m\u001b[0m\n\u001b[1;32m      <a href='vscode-notebook-cell:/Users/vargas/Desktop/cs209b_hw2/cs109b_hw2.ipynb#ch0000003?line=5'>6</a>\u001b[0m \u001b[39mimport\u001b[39;00m \u001b[39mnumpy\u001b[39;00m \u001b[39mas\u001b[39;00m \u001b[39mnp\u001b[39;00m\n\u001b[1;32m      <a href='vscode-notebook-cell:/Users/vargas/Desktop/cs209b_hw2/cs109b_hw2.ipynb#ch0000003?line=6'>7</a>\u001b[0m \u001b[39mimport\u001b[39;00m \u001b[39mpandas\u001b[39;00m \u001b[39mas\u001b[39;00m \u001b[39mpd\u001b[39;00m\n\u001b[0;32m----> <a href='vscode-notebook-cell:/Users/vargas/Desktop/cs209b_hw2/cs109b_hw2.ipynb#ch0000003?line=7'>8</a>\u001b[0m \u001b[39mimport\u001b[39;00m \u001b[39mpymc3\u001b[39;00m \u001b[39mas\u001b[39;00m \u001b[39mpm\u001b[39;00m\n\u001b[1;32m      <a href='vscode-notebook-cell:/Users/vargas/Desktop/cs209b_hw2/cs109b_hw2.ipynb#ch0000003?line=8'>9</a>\u001b[0m \u001b[39mfrom\u001b[39;00m \u001b[39mscipy\u001b[39;00m\u001b[39m.\u001b[39;00m\u001b[39mspecial\u001b[39;00m \u001b[39mimport\u001b[39;00m expit\n\u001b[1;32m     <a href='vscode-notebook-cell:/Users/vargas/Desktop/cs209b_hw2/cs109b_hw2.ipynb#ch0000003?line=10'>11</a>\u001b[0m get_ipython()\u001b[39m.\u001b[39mrun_line_magic(\u001b[39m'\u001b[39m\u001b[39mmatplotlib\u001b[39m\u001b[39m'\u001b[39m, \u001b[39m'\u001b[39m\u001b[39minline\u001b[39m\u001b[39m'\u001b[39m)\n",
      "File \u001b[0;32m~/.local/share/virtualenvs/cs209b_hw2-Ofuqk_Uo/lib/python3.10/site-packages/pymc3/__init__.py:23\u001b[0m, in \u001b[0;36m<module>\u001b[0;34m\u001b[0m\n\u001b[1;32m     <a href='file:///~/.local/share/virtualenvs/cs209b_hw2-Ofuqk_Uo/lib/python3.10/site-packages/pymc3/__init__.py?line=19'>20</a>\u001b[0m \u001b[39mimport\u001b[39;00m \u001b[39mplatform\u001b[39;00m\n\u001b[1;32m     <a href='file:///~/.local/share/virtualenvs/cs209b_hw2-Ofuqk_Uo/lib/python3.10/site-packages/pymc3/__init__.py?line=21'>22</a>\u001b[0m \u001b[39mimport\u001b[39;00m \u001b[39msemver\u001b[39;00m\n\u001b[0;32m---> <a href='file:///~/.local/share/virtualenvs/cs209b_hw2-Ofuqk_Uo/lib/python3.10/site-packages/pymc3/__init__.py?line=22'>23</a>\u001b[0m \u001b[39mimport\u001b[39;00m \u001b[39mtheano\u001b[39;00m\n\u001b[1;32m     <a href='file:///~/.local/share/virtualenvs/cs209b_hw2-Ofuqk_Uo/lib/python3.10/site-packages/pymc3/__init__.py?line=24'>25</a>\u001b[0m _log \u001b[39m=\u001b[39m logging\u001b[39m.\u001b[39mgetLogger(\u001b[39m\"\u001b[39m\u001b[39mpymc3\u001b[39m\u001b[39m\"\u001b[39m)\n\u001b[1;32m     <a href='file:///~/.local/share/virtualenvs/cs209b_hw2-Ofuqk_Uo/lib/python3.10/site-packages/pymc3/__init__.py?line=26'>27</a>\u001b[0m \u001b[39mif\u001b[39;00m \u001b[39mnot\u001b[39;00m logging\u001b[39m.\u001b[39mroot\u001b[39m.\u001b[39mhandlers:\n",
      "File \u001b[0;32m~/.local/share/virtualenvs/cs209b_hw2-Ofuqk_Uo/lib/python3.10/site-packages/theano/__init__.py:83\u001b[0m, in \u001b[0;36m<module>\u001b[0;34m\u001b[0m\n\u001b[1;32m     <a href='file:///~/.local/share/virtualenvs/cs209b_hw2-Ofuqk_Uo/lib/python3.10/site-packages/theano/__init__.py?line=74'>75</a>\u001b[0m \u001b[39m# This is the api version for ops that generate C code.  External ops\u001b[39;00m\n\u001b[1;32m     <a href='file:///~/.local/share/virtualenvs/cs209b_hw2-Ofuqk_Uo/lib/python3.10/site-packages/theano/__init__.py?line=75'>76</a>\u001b[0m \u001b[39m# might need manual changes if this number goes up.  An undefined\u001b[39;00m\n\u001b[1;32m     <a href='file:///~/.local/share/virtualenvs/cs209b_hw2-Ofuqk_Uo/lib/python3.10/site-packages/theano/__init__.py?line=76'>77</a>\u001b[0m \u001b[39m# __api_version__ can be understood to mean api version 0.\u001b[39;00m\n\u001b[1;32m     <a href='file:///~/.local/share/virtualenvs/cs209b_hw2-Ofuqk_Uo/lib/python3.10/site-packages/theano/__init__.py?line=77'>78</a>\u001b[0m \u001b[39m#\u001b[39;00m\n\u001b[1;32m     <a href='file:///~/.local/share/virtualenvs/cs209b_hw2-Ofuqk_Uo/lib/python3.10/site-packages/theano/__init__.py?line=78'>79</a>\u001b[0m \u001b[39m# This number is not tied to the release version and should change\u001b[39;00m\n\u001b[1;32m     <a href='file:///~/.local/share/virtualenvs/cs209b_hw2-Ofuqk_Uo/lib/python3.10/site-packages/theano/__init__.py?line=79'>80</a>\u001b[0m \u001b[39m# very rarely.\u001b[39;00m\n\u001b[1;32m     <a href='file:///~/.local/share/virtualenvs/cs209b_hw2-Ofuqk_Uo/lib/python3.10/site-packages/theano/__init__.py?line=80'>81</a>\u001b[0m __api_version__ \u001b[39m=\u001b[39m \u001b[39m1\u001b[39m\n\u001b[0;32m---> <a href='file:///~/.local/share/virtualenvs/cs209b_hw2-Ofuqk_Uo/lib/python3.10/site-packages/theano/__init__.py?line=82'>83</a>\u001b[0m \u001b[39mfrom\u001b[39;00m \u001b[39mtheano\u001b[39;00m \u001b[39mimport\u001b[39;00m scalar, tensor\n\u001b[1;32m     <a href='file:///~/.local/share/virtualenvs/cs209b_hw2-Ofuqk_Uo/lib/python3.10/site-packages/theano/__init__.py?line=83'>84</a>\u001b[0m \u001b[39mfrom\u001b[39;00m \u001b[39mtheano\u001b[39;00m\u001b[39m.\u001b[39;00m\u001b[39mcompile\u001b[39;00m \u001b[39mimport\u001b[39;00m (\n\u001b[1;32m     <a href='file:///~/.local/share/virtualenvs/cs209b_hw2-Ofuqk_Uo/lib/python3.10/site-packages/theano/__init__.py?line=84'>85</a>\u001b[0m     In,\n\u001b[1;32m     <a href='file:///~/.local/share/virtualenvs/cs209b_hw2-Ofuqk_Uo/lib/python3.10/site-packages/theano/__init__.py?line=85'>86</a>\u001b[0m     Mode,\n\u001b[0;32m   (...)\u001b[0m\n\u001b[1;32m     <a href='file:///~/.local/share/virtualenvs/cs209b_hw2-Ofuqk_Uo/lib/python3.10/site-packages/theano/__init__.py?line=92'>93</a>\u001b[0m     shared,\n\u001b[1;32m     <a href='file:///~/.local/share/virtualenvs/cs209b_hw2-Ofuqk_Uo/lib/python3.10/site-packages/theano/__init__.py?line=93'>94</a>\u001b[0m )\n\u001b[1;32m     <a href='file:///~/.local/share/virtualenvs/cs209b_hw2-Ofuqk_Uo/lib/python3.10/site-packages/theano/__init__.py?line=94'>95</a>\u001b[0m \u001b[39mfrom\u001b[39;00m \u001b[39mtheano\u001b[39;00m\u001b[39m.\u001b[39;00m\u001b[39mcompile\u001b[39;00m\u001b[39m.\u001b[39;00m\u001b[39mfunction\u001b[39;00m \u001b[39mimport\u001b[39;00m function, function_dump\n",
      "File \u001b[0;32m~/.local/share/virtualenvs/cs209b_hw2-Ofuqk_Uo/lib/python3.10/site-packages/theano/tensor/__init__.py:20\u001b[0m, in \u001b[0;36m<module>\u001b[0;34m\u001b[0m\n\u001b[1;32m      <a href='file:///~/.local/share/virtualenvs/cs209b_hw2-Ofuqk_Uo/lib/python3.10/site-packages/theano/tensor/__init__.py?line=8'>9</a>\u001b[0m \u001b[39mfrom\u001b[39;00m \u001b[39mtheano\u001b[39;00m\u001b[39m.\u001b[39;00m\u001b[39mcompile\u001b[39;00m \u001b[39mimport\u001b[39;00m SpecifyShape, specify_shape\n\u001b[1;32m     <a href='file:///~/.local/share/virtualenvs/cs209b_hw2-Ofuqk_Uo/lib/python3.10/site-packages/theano/tensor/__init__.py?line=9'>10</a>\u001b[0m \u001b[39mfrom\u001b[39;00m \u001b[39mtheano\u001b[39;00m\u001b[39m.\u001b[39;00m\u001b[39mgradient\u001b[39;00m \u001b[39mimport\u001b[39;00m (\n\u001b[1;32m     <a href='file:///~/.local/share/virtualenvs/cs209b_hw2-Ofuqk_Uo/lib/python3.10/site-packages/theano/tensor/__init__.py?line=10'>11</a>\u001b[0m     Lop,\n\u001b[1;32m     <a href='file:///~/.local/share/virtualenvs/cs209b_hw2-Ofuqk_Uo/lib/python3.10/site-packages/theano/tensor/__init__.py?line=11'>12</a>\u001b[0m     Rop,\n\u001b[0;32m   (...)\u001b[0m\n\u001b[1;32m     <a href='file:///~/.local/share/virtualenvs/cs209b_hw2-Ofuqk_Uo/lib/python3.10/site-packages/theano/tensor/__init__.py?line=17'>18</a>\u001b[0m     verify_grad,\n\u001b[1;32m     <a href='file:///~/.local/share/virtualenvs/cs209b_hw2-Ofuqk_Uo/lib/python3.10/site-packages/theano/tensor/__init__.py?line=18'>19</a>\u001b[0m )\n\u001b[0;32m---> <a href='file:///~/.local/share/virtualenvs/cs209b_hw2-Ofuqk_Uo/lib/python3.10/site-packages/theano/tensor/__init__.py?line=19'>20</a>\u001b[0m \u001b[39mfrom\u001b[39;00m \u001b[39mtheano\u001b[39;00m\u001b[39m.\u001b[39;00m\u001b[39mtensor\u001b[39;00m \u001b[39mimport\u001b[39;00m nnet  \u001b[39m# used for softmax, sigmoid, etc.\u001b[39;00m\n\u001b[1;32m     <a href='file:///~/.local/share/virtualenvs/cs209b_hw2-Ofuqk_Uo/lib/python3.10/site-packages/theano/tensor/__init__.py?line=20'>21</a>\u001b[0m \u001b[39mfrom\u001b[39;00m \u001b[39mtheano\u001b[39;00m\u001b[39m.\u001b[39;00m\u001b[39mtensor\u001b[39;00m \u001b[39mimport\u001b[39;00m sharedvar  \u001b[39m# adds shared-variable constructors\u001b[39;00m\n\u001b[1;32m     <a href='file:///~/.local/share/virtualenvs/cs209b_hw2-Ofuqk_Uo/lib/python3.10/site-packages/theano/tensor/__init__.py?line=21'>22</a>\u001b[0m \u001b[39mfrom\u001b[39;00m \u001b[39mtheano\u001b[39;00m\u001b[39m.\u001b[39;00m\u001b[39mtensor\u001b[39;00m \u001b[39mimport\u001b[39;00m (\n\u001b[1;32m     <a href='file:///~/.local/share/virtualenvs/cs209b_hw2-Ofuqk_Uo/lib/python3.10/site-packages/theano/tensor/__init__.py?line=22'>23</a>\u001b[0m     blas,\n\u001b[1;32m     <a href='file:///~/.local/share/virtualenvs/cs209b_hw2-Ofuqk_Uo/lib/python3.10/site-packages/theano/tensor/__init__.py?line=23'>24</a>\u001b[0m     blas_c,\n\u001b[0;32m   (...)\u001b[0m\n\u001b[1;32m     <a href='file:///~/.local/share/virtualenvs/cs209b_hw2-Ofuqk_Uo/lib/python3.10/site-packages/theano/tensor/__init__.py?line=28'>29</a>\u001b[0m     xlogx,\n\u001b[1;32m     <a href='file:///~/.local/share/virtualenvs/cs209b_hw2-Ofuqk_Uo/lib/python3.10/site-packages/theano/tensor/__init__.py?line=29'>30</a>\u001b[0m )\n",
      "File \u001b[0;32m~/.local/share/virtualenvs/cs209b_hw2-Ofuqk_Uo/lib/python3.10/site-packages/theano/tensor/nnet/__init__.py:3\u001b[0m, in \u001b[0;36m<module>\u001b[0;34m\u001b[0m\n\u001b[1;32m      <a href='file:///~/.local/share/virtualenvs/cs209b_hw2-Ofuqk_Uo/lib/python3.10/site-packages/theano/tensor/nnet/__init__.py?line=0'>1</a>\u001b[0m \u001b[39mimport\u001b[39;00m \u001b[39mwarnings\u001b[39;00m\n\u001b[0;32m----> <a href='file:///~/.local/share/virtualenvs/cs209b_hw2-Ofuqk_Uo/lib/python3.10/site-packages/theano/tensor/nnet/__init__.py?line=2'>3</a>\u001b[0m \u001b[39mfrom\u001b[39;00m \u001b[39m.\u001b[39;00m \u001b[39mimport\u001b[39;00m opt\n\u001b[1;32m      <a href='file:///~/.local/share/virtualenvs/cs209b_hw2-Ofuqk_Uo/lib/python3.10/site-packages/theano/tensor/nnet/__init__.py?line=3'>4</a>\u001b[0m \u001b[39mfrom\u001b[39;00m \u001b[39m.\u001b[39;00m\u001b[39mabstract_conv\u001b[39;00m \u001b[39mimport\u001b[39;00m conv2d \u001b[39mas\u001b[39;00m abstract_conv2d\n\u001b[1;32m      <a href='file:///~/.local/share/virtualenvs/cs209b_hw2-Ofuqk_Uo/lib/python3.10/site-packages/theano/tensor/nnet/__init__.py?line=4'>5</a>\u001b[0m \u001b[39mfrom\u001b[39;00m \u001b[39m.\u001b[39;00m\u001b[39mabstract_conv\u001b[39;00m \u001b[39mimport\u001b[39;00m conv2d_grad_wrt_inputs, conv3d, separable_conv2d\n",
      "File \u001b[0;32m~/.local/share/virtualenvs/cs209b_hw2-Ofuqk_Uo/lib/python3.10/site-packages/theano/tensor/nnet/opt.py:32\u001b[0m, in \u001b[0;36m<module>\u001b[0;34m\u001b[0m\n\u001b[1;32m     <a href='file:///~/.local/share/virtualenvs/cs209b_hw2-Ofuqk_Uo/lib/python3.10/site-packages/theano/tensor/nnet/opt.py?line=23'>24</a>\u001b[0m \u001b[39mfrom\u001b[39;00m \u001b[39mtheano\u001b[39;00m\u001b[39m.\u001b[39;00m\u001b[39mtensor\u001b[39;00m\u001b[39m.\u001b[39;00m\u001b[39mnnet\u001b[39;00m\u001b[39m.\u001b[39;00m\u001b[39mblocksparse\u001b[39;00m \u001b[39mimport\u001b[39;00m (\n\u001b[1;32m     <a href='file:///~/.local/share/virtualenvs/cs209b_hw2-Ofuqk_Uo/lib/python3.10/site-packages/theano/tensor/nnet/opt.py?line=24'>25</a>\u001b[0m     SparseBlockGemv,\n\u001b[1;32m     <a href='file:///~/.local/share/virtualenvs/cs209b_hw2-Ofuqk_Uo/lib/python3.10/site-packages/theano/tensor/nnet/opt.py?line=25'>26</a>\u001b[0m     SparseBlockOuter,\n\u001b[1;32m     <a href='file:///~/.local/share/virtualenvs/cs209b_hw2-Ofuqk_Uo/lib/python3.10/site-packages/theano/tensor/nnet/opt.py?line=26'>27</a>\u001b[0m     sparse_block_gemv_inplace,\n\u001b[1;32m     <a href='file:///~/.local/share/virtualenvs/cs209b_hw2-Ofuqk_Uo/lib/python3.10/site-packages/theano/tensor/nnet/opt.py?line=27'>28</a>\u001b[0m     sparse_block_outer_inplace,\n\u001b[1;32m     <a href='file:///~/.local/share/virtualenvs/cs209b_hw2-Ofuqk_Uo/lib/python3.10/site-packages/theano/tensor/nnet/opt.py?line=28'>29</a>\u001b[0m )\n\u001b[1;32m     <a href='file:///~/.local/share/virtualenvs/cs209b_hw2-Ofuqk_Uo/lib/python3.10/site-packages/theano/tensor/nnet/opt.py?line=30'>31</a>\u001b[0m \u001b[39m# Cpu implementation\u001b[39;00m\n\u001b[0;32m---> <a href='file:///~/.local/share/virtualenvs/cs209b_hw2-Ofuqk_Uo/lib/python3.10/site-packages/theano/tensor/nnet/opt.py?line=31'>32</a>\u001b[0m \u001b[39mfrom\u001b[39;00m \u001b[39mtheano\u001b[39;00m\u001b[39m.\u001b[39;00m\u001b[39mtensor\u001b[39;00m\u001b[39m.\u001b[39;00m\u001b[39mnnet\u001b[39;00m\u001b[39m.\u001b[39;00m\u001b[39mconv\u001b[39;00m \u001b[39mimport\u001b[39;00m ConvOp, conv2d\n\u001b[1;32m     <a href='file:///~/.local/share/virtualenvs/cs209b_hw2-Ofuqk_Uo/lib/python3.10/site-packages/theano/tensor/nnet/opt.py?line=32'>33</a>\u001b[0m \u001b[39mfrom\u001b[39;00m \u001b[39mtheano\u001b[39;00m\u001b[39m.\u001b[39;00m\u001b[39mtensor\u001b[39;00m\u001b[39m.\u001b[39;00m\u001b[39mnnet\u001b[39;00m\u001b[39m.\u001b[39;00m\u001b[39mcorr\u001b[39;00m \u001b[39mimport\u001b[39;00m CorrMM, CorrMM_gradInputs, CorrMM_gradWeights\n\u001b[1;32m     <a href='file:///~/.local/share/virtualenvs/cs209b_hw2-Ofuqk_Uo/lib/python3.10/site-packages/theano/tensor/nnet/opt.py?line=33'>34</a>\u001b[0m \u001b[39mfrom\u001b[39;00m \u001b[39mtheano\u001b[39;00m\u001b[39m.\u001b[39;00m\u001b[39mtensor\u001b[39;00m\u001b[39m.\u001b[39;00m\u001b[39mnnet\u001b[39;00m\u001b[39m.\u001b[39;00m\u001b[39mcorr3d\u001b[39;00m \u001b[39mimport\u001b[39;00m Corr3dMM, Corr3dMMGradInputs, Corr3dMMGradWeights\n",
      "File \u001b[0;32m~/.local/share/virtualenvs/cs209b_hw2-Ofuqk_Uo/lib/python3.10/site-packages/theano/tensor/nnet/conv.py:20\u001b[0m, in \u001b[0;36m<module>\u001b[0;34m\u001b[0m\n\u001b[1;32m     <a href='file:///~/.local/share/virtualenvs/cs209b_hw2-Ofuqk_Uo/lib/python3.10/site-packages/theano/tensor/nnet/conv.py?line=17'>18</a>\u001b[0m \u001b[39mfrom\u001b[39;00m \u001b[39mtheano\u001b[39;00m\u001b[39m.\u001b[39;00m\u001b[39mgraph\u001b[39;00m\u001b[39m.\u001b[39;00m\u001b[39mbasic\u001b[39;00m \u001b[39mimport\u001b[39;00m Apply\n\u001b[1;32m     <a href='file:///~/.local/share/virtualenvs/cs209b_hw2-Ofuqk_Uo/lib/python3.10/site-packages/theano/tensor/nnet/conv.py?line=18'>19</a>\u001b[0m \u001b[39mfrom\u001b[39;00m \u001b[39mtheano\u001b[39;00m\u001b[39m.\u001b[39;00m\u001b[39mgraph\u001b[39;00m\u001b[39m.\u001b[39;00m\u001b[39mop\u001b[39;00m \u001b[39mimport\u001b[39;00m OpenMPOp\n\u001b[0;32m---> <a href='file:///~/.local/share/virtualenvs/cs209b_hw2-Ofuqk_Uo/lib/python3.10/site-packages/theano/tensor/nnet/conv.py?line=19'>20</a>\u001b[0m \u001b[39mfrom\u001b[39;00m \u001b[39mtheano\u001b[39;00m\u001b[39m.\u001b[39;00m\u001b[39mtensor\u001b[39;00m \u001b[39mimport\u001b[39;00m blas\n\u001b[1;32m     <a href='file:///~/.local/share/virtualenvs/cs209b_hw2-Ofuqk_Uo/lib/python3.10/site-packages/theano/tensor/nnet/conv.py?line=20'>21</a>\u001b[0m \u001b[39mfrom\u001b[39;00m \u001b[39mtheano\u001b[39;00m\u001b[39m.\u001b[39;00m\u001b[39mtensor\u001b[39;00m\u001b[39m.\u001b[39;00m\u001b[39mbasic\u001b[39;00m \u001b[39mimport\u001b[39;00m (\n\u001b[1;32m     <a href='file:///~/.local/share/virtualenvs/cs209b_hw2-Ofuqk_Uo/lib/python3.10/site-packages/theano/tensor/nnet/conv.py?line=21'>22</a>\u001b[0m     NotScalarConstantError,\n\u001b[1;32m     <a href='file:///~/.local/share/virtualenvs/cs209b_hw2-Ofuqk_Uo/lib/python3.10/site-packages/theano/tensor/nnet/conv.py?line=22'>23</a>\u001b[0m     as_tensor_variable,\n\u001b[1;32m     <a href='file:///~/.local/share/virtualenvs/cs209b_hw2-Ofuqk_Uo/lib/python3.10/site-packages/theano/tensor/nnet/conv.py?line=23'>24</a>\u001b[0m     get_scalar_constant_value,\n\u001b[1;32m     <a href='file:///~/.local/share/virtualenvs/cs209b_hw2-Ofuqk_Uo/lib/python3.10/site-packages/theano/tensor/nnet/conv.py?line=24'>25</a>\u001b[0m     patternbroadcast,\n\u001b[1;32m     <a href='file:///~/.local/share/virtualenvs/cs209b_hw2-Ofuqk_Uo/lib/python3.10/site-packages/theano/tensor/nnet/conv.py?line=25'>26</a>\u001b[0m )\n\u001b[1;32m     <a href='file:///~/.local/share/virtualenvs/cs209b_hw2-Ofuqk_Uo/lib/python3.10/site-packages/theano/tensor/nnet/conv.py?line=26'>27</a>\u001b[0m \u001b[39mfrom\u001b[39;00m \u001b[39mtheano\u001b[39;00m\u001b[39m.\u001b[39;00m\u001b[39mtensor\u001b[39;00m\u001b[39m.\u001b[39;00m\u001b[39mnnet\u001b[39;00m\u001b[39m.\u001b[39;00m\u001b[39mabstract_conv\u001b[39;00m \u001b[39mimport\u001b[39;00m get_conv_output_shape, get_conv_shape_1axis\n",
      "File \u001b[0;32m~/.local/share/virtualenvs/cs209b_hw2-Ofuqk_Uo/lib/python3.10/site-packages/theano/tensor/blas.py:163\u001b[0m, in \u001b[0;36m<module>\u001b[0;34m\u001b[0m\n\u001b[1;32m    <a href='file:///~/.local/share/virtualenvs/cs209b_hw2-Ofuqk_Uo/lib/python3.10/site-packages/theano/tensor/blas.py?line=160'>161</a>\u001b[0m \u001b[39mfrom\u001b[39;00m \u001b[39mtheano\u001b[39;00m\u001b[39m.\u001b[39;00m\u001b[39mscalar\u001b[39;00m \u001b[39mimport\u001b[39;00m \u001b[39mbool\u001b[39m \u001b[39mas\u001b[39;00m bool_t\n\u001b[1;32m    <a href='file:///~/.local/share/virtualenvs/cs209b_hw2-Ofuqk_Uo/lib/python3.10/site-packages/theano/tensor/blas.py?line=161'>162</a>\u001b[0m \u001b[39mfrom\u001b[39;00m \u001b[39mtheano\u001b[39;00m\u001b[39m.\u001b[39;00m\u001b[39mtensor\u001b[39;00m \u001b[39mimport\u001b[39;00m basic \u001b[39mas\u001b[39;00m tt\n\u001b[0;32m--> <a href='file:///~/.local/share/virtualenvs/cs209b_hw2-Ofuqk_Uo/lib/python3.10/site-packages/theano/tensor/blas.py?line=162'>163</a>\u001b[0m \u001b[39mfrom\u001b[39;00m \u001b[39mtheano\u001b[39;00m\u001b[39m.\u001b[39;00m\u001b[39mtensor\u001b[39;00m\u001b[39m.\u001b[39;00m\u001b[39mblas_headers\u001b[39;00m \u001b[39mimport\u001b[39;00m blas_header_text, blas_header_version\n\u001b[1;32m    <a href='file:///~/.local/share/virtualenvs/cs209b_hw2-Ofuqk_Uo/lib/python3.10/site-packages/theano/tensor/blas.py?line=163'>164</a>\u001b[0m \u001b[39mfrom\u001b[39;00m \u001b[39mtheano\u001b[39;00m\u001b[39m.\u001b[39;00m\u001b[39mtensor\u001b[39;00m\u001b[39m.\u001b[39;00m\u001b[39mopt\u001b[39;00m \u001b[39mimport\u001b[39;00m in2out, local_dimshuffle_lift\n\u001b[1;32m    <a href='file:///~/.local/share/virtualenvs/cs209b_hw2-Ofuqk_Uo/lib/python3.10/site-packages/theano/tensor/blas.py?line=164'>165</a>\u001b[0m \u001b[39mfrom\u001b[39;00m \u001b[39mtheano\u001b[39;00m\u001b[39m.\u001b[39;00m\u001b[39mtensor\u001b[39;00m\u001b[39m.\u001b[39;00m\u001b[39mtype\u001b[39;00m \u001b[39mimport\u001b[39;00m values_eq_approx_remove_inf_nan\n",
      "File \u001b[0;32m~/.local/share/virtualenvs/cs209b_hw2-Ofuqk_Uo/lib/python3.10/site-packages/theano/tensor/blas_headers.py:1016\u001b[0m, in \u001b[0;36m<module>\u001b[0;34m\u001b[0m\n\u001b[1;32m    <a href='file:///~/.local/share/virtualenvs/cs209b_hw2-Ofuqk_Uo/lib/python3.10/site-packages/theano/tensor/blas_headers.py?line=996'>997</a>\u001b[0m             header \u001b[39m+\u001b[39m\u001b[39m=\u001b[39m textwrap\u001b[39m.\u001b[39mdedent(\n\u001b[1;32m    <a href='file:///~/.local/share/virtualenvs/cs209b_hw2-Ofuqk_Uo/lib/python3.10/site-packages/theano/tensor/blas_headers.py?line=997'>998</a>\u001b[0m                 \u001b[39m\"\"\"\\\u001b[39;00m\n\u001b[1;32m    <a href='file:///~/.local/share/virtualenvs/cs209b_hw2-Ofuqk_Uo/lib/python3.10/site-packages/theano/tensor/blas_headers.py?line=998'>999</a>\u001b[0m \u001b[39m                    static float sdot_(int* Nx, float* x, int* Sx, float* y, int* Sy)\u001b[39;00m\n\u001b[0;32m   (...)\u001b[0m\n\u001b[1;32m   <a href='file:///~/.local/share/virtualenvs/cs209b_hw2-Ofuqk_Uo/lib/python3.10/site-packages/theano/tensor/blas_headers.py?line=1009'>1010</a>\u001b[0m \u001b[39m                    \"\"\"\u001b[39;00m\n\u001b[1;32m   <a href='file:///~/.local/share/virtualenvs/cs209b_hw2-Ofuqk_Uo/lib/python3.10/site-packages/theano/tensor/blas_headers.py?line=1010'>1011</a>\u001b[0m             )\n\u001b[1;32m   <a href='file:///~/.local/share/virtualenvs/cs209b_hw2-Ofuqk_Uo/lib/python3.10/site-packages/theano/tensor/blas_headers.py?line=1012'>1013</a>\u001b[0m     \u001b[39mreturn\u001b[39;00m header \u001b[39m+\u001b[39m blas_code\n\u001b[0;32m-> <a href='file:///~/.local/share/virtualenvs/cs209b_hw2-Ofuqk_Uo/lib/python3.10/site-packages/theano/tensor/blas_headers.py?line=1015'>1016</a>\u001b[0m \u001b[39mif\u001b[39;00m \u001b[39mnot\u001b[39;00m config\u001b[39m.\u001b[39;49mblas__ldflags:\n\u001b[1;32m   <a href='file:///~/.local/share/virtualenvs/cs209b_hw2-Ofuqk_Uo/lib/python3.10/site-packages/theano/tensor/blas_headers.py?line=1016'>1017</a>\u001b[0m     _logger\u001b[39m.\u001b[39mwarning(\u001b[39m\"\u001b[39m\u001b[39mUsing NumPy C-API based implementation for BLAS functions.\u001b[39m\u001b[39m\"\u001b[39m)\n\u001b[1;32m   <a href='file:///~/.local/share/virtualenvs/cs209b_hw2-Ofuqk_Uo/lib/python3.10/site-packages/theano/tensor/blas_headers.py?line=1019'>1020</a>\u001b[0m \u001b[39mdef\u001b[39;00m \u001b[39mmkl_threads_text\u001b[39m():\n",
      "File \u001b[0;32m~/.local/share/virtualenvs/cs209b_hw2-Ofuqk_Uo/lib/python3.10/site-packages/theano/configparser.py:358\u001b[0m, in \u001b[0;36mConfigParam.__get__\u001b[0;34m(self, cls, type_, delete_key)\u001b[0m\n\u001b[1;32m    <a href='file:///~/.local/share/virtualenvs/cs209b_hw2-Ofuqk_Uo/lib/python3.10/site-packages/theano/configparser.py?line=355'>356</a>\u001b[0m \u001b[39mexcept\u001b[39;00m \u001b[39mKeyError\u001b[39;00m:\n\u001b[1;32m    <a href='file:///~/.local/share/virtualenvs/cs209b_hw2-Ofuqk_Uo/lib/python3.10/site-packages/theano/configparser.py?line=356'>357</a>\u001b[0m     \u001b[39mif\u001b[39;00m callable(\u001b[39mself\u001b[39m\u001b[39m.\u001b[39mdefault):\n\u001b[0;32m--> <a href='file:///~/.local/share/virtualenvs/cs209b_hw2-Ofuqk_Uo/lib/python3.10/site-packages/theano/configparser.py?line=357'>358</a>\u001b[0m         val_str \u001b[39m=\u001b[39m \u001b[39mself\u001b[39;49m\u001b[39m.\u001b[39;49mdefault()\n\u001b[1;32m    <a href='file:///~/.local/share/virtualenvs/cs209b_hw2-Ofuqk_Uo/lib/python3.10/site-packages/theano/configparser.py?line=358'>359</a>\u001b[0m     \u001b[39melse\u001b[39;00m:\n\u001b[1;32m    <a href='file:///~/.local/share/virtualenvs/cs209b_hw2-Ofuqk_Uo/lib/python3.10/site-packages/theano/configparser.py?line=359'>360</a>\u001b[0m         val_str \u001b[39m=\u001b[39m \u001b[39mself\u001b[39m\u001b[39m.\u001b[39mdefault\n",
      "File \u001b[0;32m~/.local/share/virtualenvs/cs209b_hw2-Ofuqk_Uo/lib/python3.10/site-packages/theano/link/c/cmodule.py:2621\u001b[0m, in \u001b[0;36mdefault_blas_ldflags\u001b[0;34m()\u001b[0m\n\u001b[1;32m   <a href='file:///~/.local/share/virtualenvs/cs209b_hw2-Ofuqk_Uo/lib/python3.10/site-packages/theano/link/c/cmodule.py?line=2616'>2617</a>\u001b[0m \u001b[39mtry\u001b[39;00m:\n\u001b[1;32m   <a href='file:///~/.local/share/virtualenvs/cs209b_hw2-Ofuqk_Uo/lib/python3.10/site-packages/theano/link/c/cmodule.py?line=2617'>2618</a>\u001b[0m     \u001b[39mif\u001b[39;00m \u001b[39mhasattr\u001b[39m(numpy\u001b[39m.\u001b[39mdistutils, \u001b[39m\"\u001b[39m\u001b[39m__config__\u001b[39m\u001b[39m\"\u001b[39m) \u001b[39mand\u001b[39;00m numpy\u001b[39m.\u001b[39mdistutils\u001b[39m.\u001b[39m__config__:\n\u001b[1;32m   <a href='file:///~/.local/share/virtualenvs/cs209b_hw2-Ofuqk_Uo/lib/python3.10/site-packages/theano/link/c/cmodule.py?line=2618'>2619</a>\u001b[0m         \u001b[39m# If the old private interface is available use it as it\u001b[39;00m\n\u001b[1;32m   <a href='file:///~/.local/share/virtualenvs/cs209b_hw2-Ofuqk_Uo/lib/python3.10/site-packages/theano/link/c/cmodule.py?line=2619'>2620</a>\u001b[0m         \u001b[39m# don't print information to the user.\u001b[39;00m\n\u001b[0;32m-> <a href='file:///~/.local/share/virtualenvs/cs209b_hw2-Ofuqk_Uo/lib/python3.10/site-packages/theano/link/c/cmodule.py?line=2620'>2621</a>\u001b[0m         blas_info \u001b[39m=\u001b[39m numpy\u001b[39m.\u001b[39;49mdistutils\u001b[39m.\u001b[39;49m__config__\u001b[39m.\u001b[39;49mblas_opt_info\n\u001b[1;32m   <a href='file:///~/.local/share/virtualenvs/cs209b_hw2-Ofuqk_Uo/lib/python3.10/site-packages/theano/link/c/cmodule.py?line=2621'>2622</a>\u001b[0m     \u001b[39melse\u001b[39;00m:\n\u001b[1;32m   <a href='file:///~/.local/share/virtualenvs/cs209b_hw2-Ofuqk_Uo/lib/python3.10/site-packages/theano/link/c/cmodule.py?line=2622'>2623</a>\u001b[0m         \u001b[39m# We do this import only here, as in some setup, if we\u001b[39;00m\n\u001b[1;32m   <a href='file:///~/.local/share/virtualenvs/cs209b_hw2-Ofuqk_Uo/lib/python3.10/site-packages/theano/link/c/cmodule.py?line=2623'>2624</a>\u001b[0m         \u001b[39m# just import theano and exit, with the import at global\u001b[39;00m\n\u001b[0;32m   (...)\u001b[0m\n\u001b[1;32m   <a href='file:///~/.local/share/virtualenvs/cs209b_hw2-Ofuqk_Uo/lib/python3.10/site-packages/theano/link/c/cmodule.py?line=2629'>2630</a>\u001b[0m         \u001b[39m# This happen with Python 2.7.3 |EPD 7.3-1 and numpy 1.8.1\u001b[39;00m\n\u001b[1;32m   <a href='file:///~/.local/share/virtualenvs/cs209b_hw2-Ofuqk_Uo/lib/python3.10/site-packages/theano/link/c/cmodule.py?line=2630'>2631</a>\u001b[0m         \u001b[39m# isort: off\u001b[39;00m\n\u001b[1;32m   <a href='file:///~/.local/share/virtualenvs/cs209b_hw2-Ofuqk_Uo/lib/python3.10/site-packages/theano/link/c/cmodule.py?line=2631'>2632</a>\u001b[0m         \u001b[39mimport\u001b[39;00m \u001b[39mnumpy\u001b[39;00m\u001b[39m.\u001b[39;00m\u001b[39mdistutils\u001b[39;00m\u001b[39m.\u001b[39;00m\u001b[39msystem_info\u001b[39;00m  \u001b[39m# noqa\u001b[39;00m\n",
      "\u001b[0;31mAttributeError\u001b[0m: module 'numpy.distutils.__config__' has no attribute 'blas_opt_info'"
     ]
    }
   ],
   "source": [
    "import random\n",
    "from datetime import datetime as dt\n",
    "\n",
    "import arviz as az\n",
    "import matplotlib.pyplot as plt\n",
    "import numpy as np\n",
    "import pandas as pd\n",
    "import pymc3 as pm\n",
    "from scipy.special import expit\n",
    "\n",
    "%matplotlib inline\n",
    "\n",
    "print(f\"Using PyMC3 version: {pm.__version__}\")\n",
    "print(f\"Using ArviZ version: {az.__version__}\")"
   ]
  },
  {
   "cell_type": "code",
   "execution_count": null,
   "metadata": {},
   "outputs": [],
   "source": [
    "# Ignore a common pymc3 warning that comes from library functions, not our code.\n",
    "# Pymc3 may throw additional warnings, but other warnings should be manageable\n",
    "# by following the instructions included within the warning messages.\n",
    "import warnings\n",
    "\n",
    "messages=[\n",
    "    \"Using `from_pymc3` without the model will be deprecated in a future release\",\n",
    "]\n",
    "\n",
    "for m in messages:\n",
    "    warnings.filterwarnings(\"ignore\", message=m)\n",
    "    "
   ]
  },
  {
   "cell_type": "markdown",
   "metadata": {},
   "source": [
    "<a id=\"contents\"></a>\n",
    "\n",
    "## Notebook Contents\n",
    "\n",
    "- [**Part 1: Rejection sampling and the weighted bootstrap**](#part1)\n",
    "  - [Overview](#part1intro)\n",
    "  - [Questions](#part1questions)\n",
    "  - [Solutions](#part1solutions)\n",
    "\n",
    "\n",
    "- [**Part 2: Bayesian Logistic Regression and Varying-Intercepts Model**](#part2)\n",
    "  - [Overview](#part2intro)\n",
    "  - [Questions](#part2questions)\n",
    "  - [Solutions](#part2solutions)\n",
    "\n",
    "\n",
    "- [**Part 3: Varying-Coefficients Model and Model Selection**](#part3)\n",
    "  - [Overview](#part3intro)\n",
    "  - [Questions](#part3questions)\n",
    "  - [Solutions](#part3solutions)\n"
   ]
  },
  {
   "cell_type": "markdown",
   "metadata": {},
   "source": [
    "## Dataset Information"
   ]
  },
  {
   "cell_type": "markdown",
   "metadata": {},
   "source": [
    "### Contraceptive Usage by Bangladeshi Women\n",
    "\n",
    "For this assignment, you are provided with data sets `dataset_2_train.csv` and `dataset_2_test.csv`containing details of contraceptive usage by 1,934 Bangladeshi women.\n",
    "\n",
    "There are four attributes for each woman, along with a label `contraceptive_use` indicating if she uses contraceptives. The attributes include:\n",
    "\n",
    "* `district`: identifying code for the district the woman lives in\n",
    "* `urban`: type of region of residence\n",
    "* `living.children`: number of living children\n",
    "* `age-mean`: age of the woman (in years, centered around mean)\n",
    "\n",
    "The women are grouped into 60 districts. The task is to build a classification model that can predict if a given woman uses contraceptives.\n"
   ]
  },
  {
   "cell_type": "markdown",
   "metadata": {},
   "source": [
    "<a id=\"part1\"></a>\n",
    "    \n",
    "<!-- <div class=\"alert alert-block alert-danger\" style=\"color:black;background-color:#E7F4FA\"> -->\n",
    "\n",
    "# Part 1:  Rejection sampling and the weighted bootstrap\n",
    "\n",
    "[Return to contents](#contents)"
   ]
  },
  {
   "cell_type": "markdown",
   "metadata": {},
   "source": [
    "<a id=\"part1intro\"></a>\n",
    "\n",
    "## Overview \n",
    "\n",
    "[Return to contents](#contents)\n",
    "\n",
    "For the first part of the problem, we will only work with the label `contraceptive_use` and ignore all the attributes.  Let $Y_i$ be 1 if woman $i$ uses contraceptives, and 0 otherwise.  Assume a Bernoulli model for the data:\n",
    "\n",
    "$$Y_{i} \\sim \\text{Bernoulli}(\\theta)$$\n",
    "\n",
    "where $i=1,\\ldots,N$, with $N$ being the number of observations in the training data set, and $\\theta$ is the unknown probability a woman uses contraception.  We will assume the following prior distribution on $\\theta$:\n",
    "\n",
    "$$\\theta \\sim \\text{Normal}(0.5, 0.5^2)$$\n",
    "\n",
    "subject to $0 \\leq \\theta \\leq 1$.  This is sometimes called a truncated normal distribution.  A value from this distribution can be randomly drawn by simulating a value from $\\text{Normal}(0.5, 0.5^2)$ and then keeping it if the value is between 0 and 1, and trying again if it is outside this range.  In fact, this is a form of rejection sampling.  The density for the truncated normal distribution is\n",
    "\n",
    "$$p(\\theta) = c\\times\\frac{1}{\\sqrt{2\\pi (0.5)^2}} \\: \\exp\\left(\\frac{-1}{2(0.5)^2}(\\theta-0.5)^2\\right) \\; \\text{for} \\; 0\\leq \\theta \\leq 1 \\; \\text{, and} \\; 0 \\; \\text{otherwise,}$$\n",
    "\n",
    "where $c$ is a normalizing constant that does not depend on $\\theta$."
   ]
  },
  {
   "cell_type": "markdown",
   "metadata": {},
   "source": [
    "<a id=\"part1questions\"></a>\n",
    "\n",
    "### <div class='exercise'>Part 1: Questions</div> \n",
    "\n",
    "[Return to contents](#contents)\n",
    "\n",
    "**1.1** Given the training data, what is the likelihood function $L(\\theta | y_1,\\ldots,y_n)$?  What is the MLE of $\\theta$ as a function of the $y_1,\\ldots,y_n$?  Compute the MLE from the data.\n",
    "\n",
    "**1.2** Using rejection sampling, simulate a sample of 10,000 accepted values $\\theta$ from the posterior distribution.  Plot a histogram of these values, and provide numerical summaries of the distribution of the 10,000 values. Interpret your findings.\n",
    "\n",
    "**Note: make sure $\\theta$ only takes on values which are valid for the parameter it represents and that all samples that do not pass the sampling criterion are rejected. Consult the lecture notes on rejection sampling if you need to review this criterion.**\n",
    "\n",
    "**1.3** Carry out the weighted bootstrap to simulate 1,000 values of $\\theta$ from the posterior distribution.  In doing so, simulate 10,000 values from the prior distribution to use as the discrete distribution from which the posterior draws will be simulated via the importance weights.  As above, plot a histogram of these values, and provide numerical summaries of the distribution of 1,000 values.  Interpret the results, and compare to the results of rejection sampling.\n"
   ]
  },
  {
   "cell_type": "markdown",
   "metadata": {},
   "source": [
    "<a id=\"part1solutions\"></a>\n",
    "\n",
    "## Part 1: Solutions\n",
    "\n",
    "[Return to contents](#contents)"
   ]
  },
  {
   "cell_type": "markdown",
   "metadata": {},
   "source": [
    "<div class='exercise-r'>\n",
    "\n",
    "**1.1**  Given the training data, what is the likelihood function $L(\\theta | y_1,\\ldots,y_n)$?  What is the MLE of $\\theta$ as a function of the $y_1,\\ldots,y_n$?  Compute the MLE from the data.\n",
    "\n",
    "\n",
    "\n",
    "</div>"
   ]
  },
  {
   "cell_type": "markdown",
   "metadata": {},
   "source": [
    "#### Answer\n",
    "\n",
    "\n",
    "\n",
    "\\begin{aligned}\n",
    "L(\\theta | y_1,\\ldots,y_n)\n",
    "&= L(\\theta | y_1) \\cdot L(\\theta | y_2)  \\times \\ldots \\times L(\\theta | y_n) \\\\ \n",
    "&= L(\\mu, \\sigma^2 | y_1) \\cdot L(\\mu, \\sigma^2 | y_2)  \\times \\ldots \\times L(\\mu, \\sigma^2 | y_n) \\\\ \n",
    "\\end{aligned}\n",
    "Take log on both sides:\n",
    "\\begin{aligned}\n",
    "\\log{L(\\theta | y_1,\\ldots,y_n)}\n",
    "&= \\log \\left( L(\\mu, \\sigma^2 | y_1) \\cdot L(\\mu, \\sigma^2 | y_2)  \\times \\ldots \\times L(\\mu, \\sigma^2 | y_n) \\right)\\\\\n",
    "&= c\\times\\frac{1}{\\sqrt{2\\pi (\\sigma)^2}} \\: \\exp\\left(\\frac{-1}{2(\\sigma)^2}(\\theta-\\mu)^2\\right) \\; \\text{for} \\; 0\\leq \\theta \\leq 1 \\; \\text{, and} \\; 0 \\; \\text{otherwise,} \\\\\n",
    "&= -\\frac{n}{2}\\log (2\\pi)  - n\\cdot \\log(\\sigma) - \\frac{(y_1 - \\mu)^2}{2\\sigma^2} - \\ldots \\ \\frac{(y_n - \\mu)^2}{2\\sigma^2}\\\\\n",
    "\\end{aligned}\n",
    "\n"
   ]
  },
  {
   "cell_type": "code",
   "execution_count": null,
   "metadata": {},
   "outputs": [],
   "source": []
  },
  {
   "cell_type": "code",
   "execution_count": 27,
   "metadata": {},
   "outputs": [
    {
     "data": {
      "text/html": [
       "<div>\n",
       "<style scoped>\n",
       "    .dataframe tbody tr th:only-of-type {\n",
       "        vertical-align: middle;\n",
       "    }\n",
       "\n",
       "    .dataframe tbody tr th {\n",
       "        vertical-align: top;\n",
       "    }\n",
       "\n",
       "    .dataframe thead th {\n",
       "        text-align: right;\n",
       "    }\n",
       "</style>\n",
       "<table border=\"1\" class=\"dataframe\">\n",
       "  <thead>\n",
       "    <tr style=\"text-align: right;\">\n",
       "      <th></th>\n",
       "      <th>district</th>\n",
       "      <th>urban</th>\n",
       "      <th>living.children</th>\n",
       "      <th>age_mean</th>\n",
       "      <th>contraceptive_use</th>\n",
       "    </tr>\n",
       "  </thead>\n",
       "  <tbody>\n",
       "    <tr>\n",
       "      <th>933</th>\n",
       "      <td>16</td>\n",
       "      <td>0</td>\n",
       "      <td>3</td>\n",
       "      <td>4.44</td>\n",
       "      <td>1</td>\n",
       "    </tr>\n",
       "  </tbody>\n",
       "</table>\n",
       "</div>"
      ],
      "text/plain": [
       "     district  urban  living.children  age_mean  contraceptive_use\n",
       "933        16      0                3      4.44                  1"
      ]
     },
     "execution_count": 27,
     "metadata": {},
     "output_type": "execute_result"
    }
   ],
   "source": [
    "def read_data(filename = 'data/dataset_2_train.csv'):\n",
    "    data = pd.read_csv(filename)\n",
    "    return data\n",
    "\n",
    "\n",
    "\n",
    "df = read_data()\n",
    "\n"
   ]
  },
  {
   "cell_type": "markdown",
   "metadata": {},
   "source": [
    "<div class='exercise-r'>\n",
    "\n",
    "**1.2**  Using rejection sampling, simulate a sample of 10,000 accepted values $\\theta$ from the posterior distribution.  Plot a histogram of these values, and provide numerical summaries of the distribution of the 10,000 values. Interpret your findings.\n",
    "\n",
    "**Note: make sure $\\theta$ only takes on values which are valid for the parameter it represents and that all samples that do not pass the sampling criterion are rejected. Consult the lecture notes on rejection sampling if you need to review this criterion.**\n",
    "\n",
    "\n",
    "\n",
    "</div>"
   ]
  },
  {
   "cell_type": "code",
   "execution_count": null,
   "metadata": {},
   "outputs": [],
   "source": [
    "\n",
    "def trunc_normal(n = 10, mean = 0.5, std_dev = 0.5, min = 0, max = 1):\n",
    "    '''\n",
    "    Returns n from a normal distribution ~N(mean, std_dev^2) truncated between min and max\n",
    "    '''\n",
    "    x = np.random.normal(loc=mean, scale = std_dev, size = (1, int(n*2)))[0]\n",
    "    x_trunc = [s for s in x if (s >=min and s<=max)]\n",
    "    return x_trunc\n"
   ]
  },
  {
   "cell_type": "markdown",
   "metadata": {},
   "source": [
    "**your answer here**"
   ]
  },
  {
   "cell_type": "markdown",
   "metadata": {},
   "source": [
    "<div class='exercise-r'>\n",
    "\n",
    "**1.3**  Carry out the weighted bootstrap to simulate 1,000 values of $\\theta$ from the posterior distribution.  In doing so, simulate 10,000 values from the prior distribution to use as the discrete distribution from which the posterior draws will be simulated via the importance weights.  As above, plot a histogram of these values, and provide numerical summaries of the distribution of 1,000 values.  Interpret the results, and compare to the results of rejection sampling.\n",
    "\n",
    "\n",
    "</div>"
   ]
  },
  {
   "cell_type": "code",
   "execution_count": null,
   "metadata": {},
   "outputs": [],
   "source": [
    "# your code here\n",
    "\n"
   ]
  },
  {
   "cell_type": "markdown",
   "metadata": {},
   "source": [
    "**your answer here**"
   ]
  },
  {
   "cell_type": "markdown",
   "metadata": {},
   "source": [
    "<a id=\"part2\"></a>\n",
    "    \n",
    "<!-- <div class=\"alert alert-block alert-danger\" style=\"color:black;background-color:#E7F4FA\"> -->\n",
    "\n",
    "# Part 2: Bayesian Logistic Regression and Varying-Intercepts Model\n",
    "\n",
    "[Return to contents](#contents)\n",
    "\n"
   ]
  },
  {
   "cell_type": "markdown",
   "metadata": {},
   "source": [
    "<a id=\"part2intro\"></a>\n",
    "\n",
    "## Overview \n",
    "\n",
    "[Return to contents](#contents)\n",
    "\n",
    "The second model we will fit to the contraceptives data is a varying-intercept logistic regression model, where the intercept varies by district.\n",
    "\n",
    "Prior distributions:\n",
    "\n",
    "$$\n",
    "\\begin{split}\n",
    "\\beta_{0j} &\\sim N(\\mu_0,\\sigma_0^2)\\; \\text{, with} \\;\\; \\mu_0 \\sim N(0,10000)\\; \\text{and} \\; \\; \\frac{1}{\\sigma^2_0} \\sim \\text{Gamma}(0.1,0.1)\n",
    "\\\\\n",
    "\\beta_1 &\\sim N(0,10000) \n",
    "\\\\ \\\\ \n",
    "\\beta_2 &\\sim N(0,10000)\n",
    "\\\\ \\\\ \n",
    "\\beta_3 &\\sim N(0,10000)\n",
    "\\\\ \\\\\n",
    "\\end{split}\n",
    "$$\n",
    "\n",
    "Model for data:\n",
    "\n",
    "$$\n",
    "\\begin{split}\n",
    "Y_{ij} & \\sim \\text{Bernoulli}(p_{ij})\n",
    "\\\\ \\\\\n",
    "\\text{logit}\\:p_{ij} &= \\beta_{0j} + \\beta_1 \\times \\text{urban} + \\beta_2 \\times \\text{living.children} + \\beta_3 \\times \\text{age-mean}\n",
    "\\\\ \\\\\n",
    "\\end{split}\n",
    "$$\n",
    "\n",
    "Where $Y_{ij}$ is 1 if woman $i$ in district $j$ uses contraceptives, and 0 otherwise, and where $i \\in \\{1,...,N\\}$ and $j \\in \\{1,...,J\\}$. $N$ is the number of observations in the data, and $J$ is the number of districts. The above notation assumes $N(\\mu, \\sigma^2)$ is a Normal distribution with mean $\\mu$ and variance $\\sigma^2$.\n",
    "\n",
    "**PLEASE NOTE:** The $\\text{Gamma}$ distribution cited above, uses the $\\text{Gamma}(\\alpha, \\beta)$ parametrization, where $\\alpha$ is the shape and $\\beta$ is the rate.  "
   ]
  },
  {
   "cell_type": "markdown",
   "metadata": {},
   "source": [
    "<a id=\"part2questions\"></a>\n",
    "\n",
    "### <div class='exercise'>Part 2: Questions</div> \n",
    "\n",
    "[Return to contents](#contents)\n",
    "\n",
    "\n",
    "**2.1** As a preprocessing step, map the district number 61 to the number 54 so that the numbering is consecutive with no gaps. Also, re-name district 60 to be district 0 so that the districts are now numbered 0 through 59. **We use this numbering throughout the homework, and will grade using these district numbers**\n",
    "\n",
    "**2.2** We should verify that pymc3 can indeed recover the hidden parameter values. To do this, we'll hard-code known values of our choosing for the model parameters and simulate data from the model. Then, using this simulated data, we'll check if pymc3 can get back the parameter values we hard-coded. If it does, we'll have hope that it can get the hidden parameter values that generated the real data.\n",
    "\n",
    "**Note: These hard-coded parameters will be used in question 2.2 - 2.5**.\n",
    "\n",
    "Use the following hard-coded values:\n",
    "\n",
    "$$\n",
    "\\begin{split}\n",
    "\\mu_0 &= 2\n",
    "\\\\ \\\\\n",
    "\\sigma^2_0 &= 1\n",
    "\\\\ \\\\\n",
    "\\beta_{0j} &\\sim N(\\mu_0,\\sigma_0^2) \\; \\text{for all sixty districts}\n",
    "\\\\ \\\\\n",
    "\\beta_1 &= 4\n",
    "\\\\ \\\\ \n",
    "\\beta_2 &= -3\n",
    "\\\\ \\\\\n",
    "\\beta_3 &= -2\n",
    "\\\\ \\\\\n",
    "\\end{split}\n",
    "$$\n",
    "\n",
    "**Verify that these parameters generate data in which an average of 46 to 48 percent of subjects use contraceptives.**\n",
    "\n",
    "**2.3** Fit the varying-intercept model specified above to your simulated data. Reasonably good convergence may require adjustments to the number of tuning samples and the target acceptance rate as suggested in pymc3's warnings.\n",
    "\n",
    "**2.4** Plot the trace plots of the MCMC sampler for the parameters $\\mu_0, \\frac{1}{\\sigma^2_0}\\text{ (a.k.a., }\\tau_0\\text{)}, \\beta_1, \\beta_2, \\beta_3$. Based on these and the R-hat values, does it look like the samplers converged?\n",
    "\n",
    "**2.5** Plot histograms of the posterior distributions for the parameters $\\beta_{0,9}$, $\\beta_{0,19}$, $\\beta_{0,29}$, ..., $\\beta_{0,59}$. Are the actual parameters that you generated contained within these posterior distributions?\n",
    "\n",
    "**Hint: The `az.plot_posterior()` function might be helpful here.**\n",
    "\n",
    "**2.6** We now fit our model to the *actual* data. Fit the varying-intercept model to the real training data.\n",
    "\n",
    "**2.7** Check the convergence by examining the trace plots and R-hats, as you did with the simulated data. What do you observe?\n",
    "\n",
    "**2.8** Based on the posterior means, which district has the highest base rate of contraceptive usage (independent of other factors like urban population)? Which district has the lowest?\n",
    "\n",
    "**2.9** What are the posterior means of $\\mu_0$ and $\\sigma_0$? Do these values offer any evidence in support of or against the varying-intercept model, compared to a model with a single intercept value for all districts?"
   ]
  },
  {
   "cell_type": "markdown",
   "metadata": {
    "tags": []
   },
   "source": [
    "<a id=\"part2solutions\"></a>\n",
    "\n",
    "## Part 2: Solutions\n",
    "\n",
    "[Return to contents](#contents)"
   ]
  },
  {
   "cell_type": "markdown",
   "metadata": {},
   "source": [
    "<div class='exercise-r'>\n",
    "\n",
    "**2.1**  As a preprocessing step, map the district number 61 to the number 54 so that the numbering is consecutive with no gaps. Also, re-name district 60 to be district 0 so that the districts are now numbered 0 through 59. **We use this numbering throughout the homework, and will grade using these district numbers**\n",
    "\n",
    "\n",
    "\n",
    "</div>"
   ]
  },
  {
   "cell_type": "code",
   "execution_count": null,
   "metadata": {},
   "outputs": [],
   "source": [
    "# your code here\n",
    "\n"
   ]
  },
  {
   "cell_type": "markdown",
   "metadata": {},
   "source": [
    "<div class='exercise-r'>\n",
    "\n",
    "**2.2**  We should verify that pymc3 can indeed recover the hidden parameter values. To do this, we'll hard-code known values of our choosing for the model parameters and simulate data from the model. Then, using this simulated data, we'll check if pymc3 can get back the parameter values we hard-coded. If it does, we'll have hope that it can get the hidden parameter values that generated the real data.\n",
    "\n",
    "**Note: These hard-coded parameters will be used in question 2.2 - 2.5**.\n",
    "\n",
    "Use the following hard-coded values:\n",
    "\n",
    "$$\n",
    "\\begin{split}\n",
    "\\mu_0 &= 2\n",
    "\\\\ \\\\\n",
    "\\sigma^2_0 &= 1\n",
    "\\\\ \\\\\n",
    "\\beta_{0j} &\\sim N(\\mu_0,\\sigma_0^2) \\; \\text{for all sixty districts}\n",
    "\\\\ \\\\\n",
    "\\beta_1 &= 4\n",
    "\\\\ \\\\ \n",
    "\\beta_2 &= -3\n",
    "\\\\ \\\\\n",
    "\\beta_3 &= -2\n",
    "\\\\ \\\\\n",
    "\\end{split}\n",
    "$$\n",
    "\n",
    "**Verify that these parameters generate data in which an average of 46 to 48 percent of subjects use contraceptives.**\n",
    "\n",
    "\n",
    "\n",
    "</div>"
   ]
  },
  {
   "cell_type": "code",
   "execution_count": null,
   "metadata": {},
   "outputs": [],
   "source": [
    "# your code here\n",
    "\n"
   ]
  },
  {
   "cell_type": "markdown",
   "metadata": {},
   "source": [
    "<div class='exercise-r'>\n",
    "\n",
    "**2.3**  Fit the varying-intercept model specified above to your simulated data. Reasonably good convergence may require adjustments to the number of tuning samples and the target acceptance rate as suggested in pymc3's warnings.\n",
    "\n",
    "\n",
    "\n",
    "</div>"
   ]
  },
  {
   "cell_type": "code",
   "execution_count": null,
   "metadata": {},
   "outputs": [],
   "source": [
    "# your code here\n",
    "\n"
   ]
  },
  {
   "cell_type": "markdown",
   "metadata": {},
   "source": [
    "<div class='exercise-r'>\n",
    "\n",
    "**2.4**  Plot the trace plots of the MCMC sampler for the parameters $\\mu_0, \\frac{1}{\\sigma^2_0}\\text{ (a.k.a., }\\tau_0\\text{)}, \\beta_1, \\beta_2, \\beta_3$. Based on these and the R-hat values, does it look like the samplers converged?\n",
    "\n",
    "\n",
    "\n",
    "</div>"
   ]
  },
  {
   "cell_type": "code",
   "execution_count": null,
   "metadata": {},
   "outputs": [],
   "source": [
    "# your code here\n",
    "\n"
   ]
  },
  {
   "cell_type": "markdown",
   "metadata": {},
   "source": [
    "**your answer here**"
   ]
  },
  {
   "cell_type": "markdown",
   "metadata": {},
   "source": [
    "<div class='exercise-r'>\n",
    "\n",
    "**2.5**  Plot histograms of the posterior distributions for the parameters $\\beta_{0,9}$, $\\beta_{0,19}$, $\\beta_{0,29}$, ..., $\\beta_{0,59}$. Are the actual parameters that you generated contained within these posterior distributions?\n",
    "\n",
    "**Hint: The `az.plot_posterior()` function might be helpful here.**\n",
    "\n",
    "\n",
    "\n",
    "</div>"
   ]
  },
  {
   "cell_type": "code",
   "execution_count": null,
   "metadata": {},
   "outputs": [],
   "source": [
    "# your code here\n",
    "\n"
   ]
  },
  {
   "cell_type": "markdown",
   "metadata": {},
   "source": [
    "**your answer here**"
   ]
  },
  {
   "cell_type": "markdown",
   "metadata": {},
   "source": [
    "<div class='exercise-r'>\n",
    "\n",
    "**2.6**  We now fit our model to the *actual* data. Fit the varying-intercept model to the real training data.\n",
    "\n",
    "\n",
    "\n",
    "</div>"
   ]
  },
  {
   "cell_type": "code",
   "execution_count": null,
   "metadata": {},
   "outputs": [],
   "source": [
    "# your code here\n",
    "\n"
   ]
  },
  {
   "cell_type": "markdown",
   "metadata": {},
   "source": [
    "<div class='exercise-r'>\n",
    "\n",
    "**2.7**  Check the convergence by examining the trace plots and R-hats, as you did with the simulated data. What do you observe?\n",
    "\n",
    "\n",
    "\n",
    "</div>"
   ]
  },
  {
   "cell_type": "code",
   "execution_count": null,
   "metadata": {},
   "outputs": [],
   "source": [
    "# your code here\n",
    "\n"
   ]
  },
  {
   "cell_type": "markdown",
   "metadata": {},
   "source": [
    "**your answer here**"
   ]
  },
  {
   "cell_type": "markdown",
   "metadata": {},
   "source": [
    "<div class='exercise-r'>\n",
    "\n",
    "**2.8**  Based on the posterior means, which district has the highest base rate of contraceptive usage (independent of other factors like urban population)? Which district has the lowest?\n",
    "\n",
    "\n",
    "\n",
    "</div>"
   ]
  },
  {
   "cell_type": "code",
   "execution_count": null,
   "metadata": {},
   "outputs": [],
   "source": [
    "# your code here\n",
    "\n"
   ]
  },
  {
   "cell_type": "markdown",
   "metadata": {},
   "source": [
    "**your answer here**"
   ]
  },
  {
   "cell_type": "markdown",
   "metadata": {},
   "source": [
    "<div class='exercise-r'>\n",
    "\n",
    "**2.9**  What are the posterior means of $\\mu_0$ and $\\sigma_0$? Do these values offer any evidence in support of or against the varying-intercept model, compared to a model with a single intercept value for all districts?\n",
    "\n",
    "</div>"
   ]
  },
  {
   "cell_type": "code",
   "execution_count": null,
   "metadata": {},
   "outputs": [],
   "source": [
    "# your code here\n",
    "\n"
   ]
  },
  {
   "cell_type": "markdown",
   "metadata": {},
   "source": [
    "**your answer here**"
   ]
  },
  {
   "cell_type": "markdown",
   "metadata": {},
   "source": [
    "<a id=\"part3\"></a>\n",
    "    \n",
    "<!-- <div class=\"alert alert-block alert-danger\" style=\"color:black;background-color:#E7F4FA\"> -->\n",
    "\n",
    "# Part 3: Varying-Coefficients Model and Model Selection\n",
    "\n",
    "[Return to contents](#contents)\n"
   ]
  },
  {
   "cell_type": "markdown",
   "metadata": {},
   "source": [
    "<a id=\"part3intro\"></a>\n",
    "\n",
    "## Overview \n",
    "\n",
    "[Return to contents](#contents)\n",
    "\n",
    "The next model we will fit to the contraceptives data is a varying-coefficients logistic regression model, where the coefficients on `living.children`, `age_mean`, and `urban` vary by district.\n",
    "\n",
    "Prior distribution:\n",
    "\n",
    "$$\n",
    "\\begin{split}\n",
    "\\beta_{0j} &\\sim N(\\mu_0,\\sigma_0^2)\\; \\text{, with} \\;\\; \\mu_0 \\sim N(0,10000)\\; \\text{and} \\; \\; \\frac{1}{\\sigma^2_0} \\sim \\text{Gamma}(0.1,0.1)\n",
    "\\\\\n",
    "\\beta_{1j} &\\sim N(0,\\sigma_1^2)\\; \\text{, with} \\;\\; \\frac{1}{\\sigma^2_1} \\sim \\text{Gamma}(0.1,0.1) \n",
    "\\\\\n",
    "\\beta_{2j} &\\sim N(0,\\sigma_2^2)\\; \\text{, with} \\;\\; \\frac{1}{\\sigma^2_2} \\sim \\text{Gamma}(0.1,0.1)\n",
    "\\\\ \n",
    "\\beta_{3j} &\\sim N(0,\\sigma_3^2)\\; \\text{, with} \\;\\; \\frac{1}{\\sigma^2_3} \\sim \\text{Gamma}(0.1,0.1)\n",
    "\\\\\n",
    "\\end{split}\n",
    "$$\n",
    "\n",
    "Model for data:\n",
    "\n",
    "$$\n",
    "\\begin{split}\n",
    "Y_{ij} &\\sim \\text{Bernoulli}(p_{ij})\n",
    "\\\\ \\\\\n",
    "\\text{logit}\\:p_{ij} &= \\beta_{0j} + \\beta_{1j} \\times \\text{urban} + \\beta_{2j} \\times \\text{living.children} + \\beta_{3j} \\times \\text{age-mean}\n",
    "\\\\ \\\\\n",
    "\\end{split}\n",
    "$$\n",
    "\n",
    "**PLEASE NOTE:** Once again, the $\\text{Gamma}$ distribution uses the $\\text{Gamma}(\\alpha, \\beta)$ parametrization, where $\\alpha$ is the shape and $\\beta$ is the rate. "
   ]
  },
  {
   "cell_type": "markdown",
   "metadata": {},
   "source": [
    "<a id=\"part3questions\"></a>\n",
    "\n",
    "### <div class='exercise'>Part 3: Questions</div> \n",
    "\n",
    "[Return to contents](#contents)\n",
    "\n",
    "**3.1** Fit the varying-coefficients model described above to the real training data.\n",
    "\n",
    "**3.2** Check the convergence of your varying-coefficients model by examining the trace plots and R-hats, as you did with the prior varying-intercepts model. What do you observe?\n",
    "\n",
    "**3.3** Plot the distributions of posterior means and credible intervals for each predictor's coefficient by district. What do you conclude from these graphs?\n",
    "\n",
    "**HINT:** The ArviZ [`plot_forest()`](https://arviz-devs.github.io/arviz/api/generated/arviz.plot_forest.html) function is very well-suited for this task.\n",
    "\n",
    "**3.4** Use all of the information you've gleaned thus far to build Bayesian logistic regression classifiers for both your varying-intercepts model (from 2.7) and your varying-coefficients model (from 3.1). Then, use each model to make predictions on your training and test sets.\n",
    "\n",
    "  - Report each model's classification percentages and accuracy scores on both the training and test sets, as well as the trivial accuracy scores you would achieve with a \"naive\" model that predicts only the most frequent outcome observed in your training data.\n",
    "  \n",
    "  \n",
    "  - What do you observe from these results?\n",
    "  \n",
    "  \n",
    "  - Which model appears to be the best (i.e. varying-intercept or varying-coefficient), and what is your rationale?"
   ]
  },
  {
   "cell_type": "markdown",
   "metadata": {},
   "source": [
    "<a id=\"part3solutions\"></a>\n",
    "\n",
    "## Part 3: Solutions\n",
    "\n",
    "[Return to contents](#contents)"
   ]
  },
  {
   "cell_type": "markdown",
   "metadata": {},
   "source": [
    "<div class='exercise-r'>\n",
    "\n",
    "**3.1**  Fit the varying-coefficients model described above to the real training data.\n",
    "\n",
    "\n",
    "\n",
    "</div>"
   ]
  },
  {
   "cell_type": "code",
   "execution_count": null,
   "metadata": {},
   "outputs": [],
   "source": [
    "# your code here\n",
    "\n"
   ]
  },
  {
   "cell_type": "markdown",
   "metadata": {},
   "source": [
    "<div class='exercise-r'>\n",
    "\n",
    "**3.2**  Check the convergence of your varying-coefficients model by examining the trace plots and R-hats, as you did with the prior varying-intercepts model. What do you observe?\n",
    "\n",
    "\n",
    "\n",
    "</div>"
   ]
  },
  {
   "cell_type": "code",
   "execution_count": null,
   "metadata": {},
   "outputs": [],
   "source": [
    "# your code here\n",
    "\n"
   ]
  },
  {
   "cell_type": "markdown",
   "metadata": {},
   "source": [
    "**your answer here**"
   ]
  },
  {
   "cell_type": "markdown",
   "metadata": {},
   "source": [
    "<div class='exercise-r'>\n",
    "\n",
    "**3.3**  Plot the distributions of posterior means and credible intervals for each predictor's coefficient by district. What do you conclude from these graphs?\n",
    "\n",
    "**HINT:** The ArviZ [`plot_forest()`](https://arviz-devs.github.io/arviz/api/generated/arviz.plot_forest.html) function is very well-suited for this task.\n",
    "\n",
    "\n",
    "\n",
    "</div>"
   ]
  },
  {
   "cell_type": "code",
   "execution_count": null,
   "metadata": {},
   "outputs": [],
   "source": [
    "# your code here\n",
    "\n"
   ]
  },
  {
   "cell_type": "markdown",
   "metadata": {},
   "source": [
    "**your answer here**"
   ]
  },
  {
   "cell_type": "markdown",
   "metadata": {},
   "source": [
    "<div class='exercise-r'>\n",
    "\n",
    "**3.4**  Use all of the information you've gleaned thus far to build Bayesian logistic regression classifiers for both your varying-intercepts model (from 2.7) and your varying-coefficients model (from 3.1). Then, use each model to make predictions on your training and test sets.\n",
    "\n",
    "  - Report each model's classification percentages and accuracy scores on both the training and test sets, as well as the trivial accuracy scores you would achieve with a \"naive\" model that predicts only the most frequent outcome observed in your training data.\n",
    "  \n",
    "  \n",
    "  - What do you observe from these results?\n",
    "  \n",
    "  \n",
    "  - Which model appears to be the best (i.e. varying-intercept or varying-coefficient), and what is your rationale?\n",
    "\n",
    "</div>"
   ]
  },
  {
   "cell_type": "code",
   "execution_count": null,
   "metadata": {},
   "outputs": [],
   "source": [
    "# your code here\n",
    "\n"
   ]
  },
  {
   "cell_type": "markdown",
   "metadata": {},
   "source": [
    "**your answer here**"
   ]
  }
 ],
 "metadata": {
  "kernelspec": {
   "display_name": "Python 3 (ipykernel)",
   "language": "python",
   "name": "python3"
  },
  "language_info": {
   "codemirror_mode": {
    "name": "ipython",
    "version": 3
   },
   "file_extension": ".py",
   "mimetype": "text/x-python",
   "name": "python",
   "nbconvert_exporter": "python",
   "pygments_lexer": "ipython3",
   "version": "3.10.2"
  }
 },
 "nbformat": 4,
 "nbformat_minor": 4
}
