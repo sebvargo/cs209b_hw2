{
 "cells": [
  {
   "cell_type": "markdown",
   "metadata": {
    "tags": []
   },
   "source": [
    "# <img style=\"float: left; padding-right: 10px; width: 45px\" src=\"https://raw.githubusercontent.com/Harvard-IACS/2018-CS109A/master/content/styles/iacs.png\"> Data Science 2: Advanced Topics in Data Science \n",
    "\n",
    "## Homework 2: Bayesian Analysis\n",
    "\n",
    "\n",
    "\n",
    "**Harvard University**<br/>\n",
    "**Spring 2022**<br/>\n",
    "**Instructors**: Mark Glickman & Pavlos Protopapas\n",
    "\n",
    "\n",
    "<hr style=\"height:2pt\">"
   ]
  },
  {
   "cell_type": "code",
   "execution_count": 14,
   "metadata": {},
   "outputs": [
    {
     "ename": "SSLError",
     "evalue": "HTTPSConnectionPool(host='raw.githubusercontent.com', port=443): Max retries exceeded with url: /Harvard-IACS/2018-CS109A/master/content/styles/cs109.css (Caused by SSLError(CertificateError(\"hostname 'raw.githubusercontent.com' doesn't match 'wifi.delta.com'\")))",
     "output_type": "error",
     "traceback": [
      "\u001b[0;31m---------------------------------------------------------------------------\u001b[0m",
      "\u001b[0;31mCertificateError\u001b[0m                          Traceback (most recent call last)",
      "File \u001b[0;32m~/.local/share/virtualenvs/cs209b_hw2-Ofuqk_Uo/lib/python3.10/site-packages/urllib3/connectionpool.py:703\u001b[0m, in \u001b[0;36mHTTPConnectionPool.urlopen\u001b[0;34m(self, method, url, body, headers, retries, redirect, assert_same_host, timeout, pool_timeout, release_conn, chunked, body_pos, **response_kw)\u001b[0m\n\u001b[1;32m    <a href='file:///~/.local/share/virtualenvs/cs209b_hw2-Ofuqk_Uo/lib/python3.10/site-packages/urllib3/connectionpool.py?line=701'>702</a>\u001b[0m \u001b[39m# Make the request on the httplib connection object.\u001b[39;00m\n\u001b[0;32m--> <a href='file:///~/.local/share/virtualenvs/cs209b_hw2-Ofuqk_Uo/lib/python3.10/site-packages/urllib3/connectionpool.py?line=702'>703</a>\u001b[0m httplib_response \u001b[39m=\u001b[39m \u001b[39mself\u001b[39;49m\u001b[39m.\u001b[39;49m_make_request(\n\u001b[1;32m    <a href='file:///~/.local/share/virtualenvs/cs209b_hw2-Ofuqk_Uo/lib/python3.10/site-packages/urllib3/connectionpool.py?line=703'>704</a>\u001b[0m     conn,\n\u001b[1;32m    <a href='file:///~/.local/share/virtualenvs/cs209b_hw2-Ofuqk_Uo/lib/python3.10/site-packages/urllib3/connectionpool.py?line=704'>705</a>\u001b[0m     method,\n\u001b[1;32m    <a href='file:///~/.local/share/virtualenvs/cs209b_hw2-Ofuqk_Uo/lib/python3.10/site-packages/urllib3/connectionpool.py?line=705'>706</a>\u001b[0m     url,\n\u001b[1;32m    <a href='file:///~/.local/share/virtualenvs/cs209b_hw2-Ofuqk_Uo/lib/python3.10/site-packages/urllib3/connectionpool.py?line=706'>707</a>\u001b[0m     timeout\u001b[39m=\u001b[39;49mtimeout_obj,\n\u001b[1;32m    <a href='file:///~/.local/share/virtualenvs/cs209b_hw2-Ofuqk_Uo/lib/python3.10/site-packages/urllib3/connectionpool.py?line=707'>708</a>\u001b[0m     body\u001b[39m=\u001b[39;49mbody,\n\u001b[1;32m    <a href='file:///~/.local/share/virtualenvs/cs209b_hw2-Ofuqk_Uo/lib/python3.10/site-packages/urllib3/connectionpool.py?line=708'>709</a>\u001b[0m     headers\u001b[39m=\u001b[39;49mheaders,\n\u001b[1;32m    <a href='file:///~/.local/share/virtualenvs/cs209b_hw2-Ofuqk_Uo/lib/python3.10/site-packages/urllib3/connectionpool.py?line=709'>710</a>\u001b[0m     chunked\u001b[39m=\u001b[39;49mchunked,\n\u001b[1;32m    <a href='file:///~/.local/share/virtualenvs/cs209b_hw2-Ofuqk_Uo/lib/python3.10/site-packages/urllib3/connectionpool.py?line=710'>711</a>\u001b[0m )\n\u001b[1;32m    <a href='file:///~/.local/share/virtualenvs/cs209b_hw2-Ofuqk_Uo/lib/python3.10/site-packages/urllib3/connectionpool.py?line=712'>713</a>\u001b[0m \u001b[39m# If we're going to release the connection in ``finally:``, then\u001b[39;00m\n\u001b[1;32m    <a href='file:///~/.local/share/virtualenvs/cs209b_hw2-Ofuqk_Uo/lib/python3.10/site-packages/urllib3/connectionpool.py?line=713'>714</a>\u001b[0m \u001b[39m# the response doesn't need to know about the connection. Otherwise\u001b[39;00m\n\u001b[1;32m    <a href='file:///~/.local/share/virtualenvs/cs209b_hw2-Ofuqk_Uo/lib/python3.10/site-packages/urllib3/connectionpool.py?line=714'>715</a>\u001b[0m \u001b[39m# it will also try to release it and we'll have a double-release\u001b[39;00m\n\u001b[1;32m    <a href='file:///~/.local/share/virtualenvs/cs209b_hw2-Ofuqk_Uo/lib/python3.10/site-packages/urllib3/connectionpool.py?line=715'>716</a>\u001b[0m \u001b[39m# mess.\u001b[39;00m\n",
      "File \u001b[0;32m~/.local/share/virtualenvs/cs209b_hw2-Ofuqk_Uo/lib/python3.10/site-packages/urllib3/connectionpool.py:386\u001b[0m, in \u001b[0;36mHTTPConnectionPool._make_request\u001b[0;34m(self, conn, method, url, timeout, chunked, **httplib_request_kw)\u001b[0m\n\u001b[1;32m    <a href='file:///~/.local/share/virtualenvs/cs209b_hw2-Ofuqk_Uo/lib/python3.10/site-packages/urllib3/connectionpool.py?line=384'>385</a>\u001b[0m \u001b[39mtry\u001b[39;00m:\n\u001b[0;32m--> <a href='file:///~/.local/share/virtualenvs/cs209b_hw2-Ofuqk_Uo/lib/python3.10/site-packages/urllib3/connectionpool.py?line=385'>386</a>\u001b[0m     \u001b[39mself\u001b[39;49m\u001b[39m.\u001b[39;49m_validate_conn(conn)\n\u001b[1;32m    <a href='file:///~/.local/share/virtualenvs/cs209b_hw2-Ofuqk_Uo/lib/python3.10/site-packages/urllib3/connectionpool.py?line=386'>387</a>\u001b[0m \u001b[39mexcept\u001b[39;00m (SocketTimeout, BaseSSLError) \u001b[39mas\u001b[39;00m e:\n\u001b[1;32m    <a href='file:///~/.local/share/virtualenvs/cs209b_hw2-Ofuqk_Uo/lib/python3.10/site-packages/urllib3/connectionpool.py?line=387'>388</a>\u001b[0m     \u001b[39m# Py2 raises this as a BaseSSLError, Py3 raises it as socket timeout.\u001b[39;00m\n",
      "File \u001b[0;32m~/.local/share/virtualenvs/cs209b_hw2-Ofuqk_Uo/lib/python3.10/site-packages/urllib3/connectionpool.py:1040\u001b[0m, in \u001b[0;36mHTTPSConnectionPool._validate_conn\u001b[0;34m(self, conn)\u001b[0m\n\u001b[1;32m   <a href='file:///~/.local/share/virtualenvs/cs209b_hw2-Ofuqk_Uo/lib/python3.10/site-packages/urllib3/connectionpool.py?line=1038'>1039</a>\u001b[0m \u001b[39mif\u001b[39;00m \u001b[39mnot\u001b[39;00m \u001b[39mgetattr\u001b[39m(conn, \u001b[39m\"\u001b[39m\u001b[39msock\u001b[39m\u001b[39m\"\u001b[39m, \u001b[39mNone\u001b[39;00m):  \u001b[39m# AppEngine might not have  `.sock`\u001b[39;00m\n\u001b[0;32m-> <a href='file:///~/.local/share/virtualenvs/cs209b_hw2-Ofuqk_Uo/lib/python3.10/site-packages/urllib3/connectionpool.py?line=1039'>1040</a>\u001b[0m     conn\u001b[39m.\u001b[39;49mconnect()\n\u001b[1;32m   <a href='file:///~/.local/share/virtualenvs/cs209b_hw2-Ofuqk_Uo/lib/python3.10/site-packages/urllib3/connectionpool.py?line=1041'>1042</a>\u001b[0m \u001b[39mif\u001b[39;00m \u001b[39mnot\u001b[39;00m conn\u001b[39m.\u001b[39mis_verified:\n",
      "File \u001b[0;32m~/.local/share/virtualenvs/cs209b_hw2-Ofuqk_Uo/lib/python3.10/site-packages/urllib3/connection.py:469\u001b[0m, in \u001b[0;36mHTTPSConnection.connect\u001b[0;34m(self)\u001b[0m\n\u001b[1;32m    <a href='file:///~/.local/share/virtualenvs/cs209b_hw2-Ofuqk_Uo/lib/python3.10/site-packages/urllib3/connection.py?line=459'>460</a>\u001b[0m         warnings\u001b[39m.\u001b[39mwarn(\n\u001b[1;32m    <a href='file:///~/.local/share/virtualenvs/cs209b_hw2-Ofuqk_Uo/lib/python3.10/site-packages/urllib3/connection.py?line=460'>461</a>\u001b[0m             (\n\u001b[1;32m    <a href='file:///~/.local/share/virtualenvs/cs209b_hw2-Ofuqk_Uo/lib/python3.10/site-packages/urllib3/connection.py?line=461'>462</a>\u001b[0m                 \u001b[39m\"\u001b[39m\u001b[39mCertificate for \u001b[39m\u001b[39m{0}\u001b[39;00m\u001b[39m has no `subjectAltName`, falling back to check for a \u001b[39m\u001b[39m\"\u001b[39m\n\u001b[0;32m   (...)\u001b[0m\n\u001b[1;32m    <a href='file:///~/.local/share/virtualenvs/cs209b_hw2-Ofuqk_Uo/lib/python3.10/site-packages/urllib3/connection.py?line=466'>467</a>\u001b[0m             SubjectAltNameWarning,\n\u001b[1;32m    <a href='file:///~/.local/share/virtualenvs/cs209b_hw2-Ofuqk_Uo/lib/python3.10/site-packages/urllib3/connection.py?line=467'>468</a>\u001b[0m         )\n\u001b[0;32m--> <a href='file:///~/.local/share/virtualenvs/cs209b_hw2-Ofuqk_Uo/lib/python3.10/site-packages/urllib3/connection.py?line=468'>469</a>\u001b[0m     _match_hostname(cert, \u001b[39mself\u001b[39;49m\u001b[39m.\u001b[39;49massert_hostname \u001b[39mor\u001b[39;49;00m server_hostname)\n\u001b[1;32m    <a href='file:///~/.local/share/virtualenvs/cs209b_hw2-Ofuqk_Uo/lib/python3.10/site-packages/urllib3/connection.py?line=470'>471</a>\u001b[0m \u001b[39mself\u001b[39m\u001b[39m.\u001b[39mis_verified \u001b[39m=\u001b[39m (\n\u001b[1;32m    <a href='file:///~/.local/share/virtualenvs/cs209b_hw2-Ofuqk_Uo/lib/python3.10/site-packages/urllib3/connection.py?line=471'>472</a>\u001b[0m     context\u001b[39m.\u001b[39mverify_mode \u001b[39m==\u001b[39m ssl\u001b[39m.\u001b[39mCERT_REQUIRED\n\u001b[1;32m    <a href='file:///~/.local/share/virtualenvs/cs209b_hw2-Ofuqk_Uo/lib/python3.10/site-packages/urllib3/connection.py?line=472'>473</a>\u001b[0m     \u001b[39mor\u001b[39;00m \u001b[39mself\u001b[39m\u001b[39m.\u001b[39massert_fingerprint \u001b[39mis\u001b[39;00m \u001b[39mnot\u001b[39;00m \u001b[39mNone\u001b[39;00m\n\u001b[1;32m    <a href='file:///~/.local/share/virtualenvs/cs209b_hw2-Ofuqk_Uo/lib/python3.10/site-packages/urllib3/connection.py?line=473'>474</a>\u001b[0m )\n",
      "File \u001b[0;32m~/.local/share/virtualenvs/cs209b_hw2-Ofuqk_Uo/lib/python3.10/site-packages/urllib3/connection.py:542\u001b[0m, in \u001b[0;36m_match_hostname\u001b[0;34m(cert, asserted_hostname)\u001b[0m\n\u001b[1;32m    <a href='file:///~/.local/share/virtualenvs/cs209b_hw2-Ofuqk_Uo/lib/python3.10/site-packages/urllib3/connection.py?line=540'>541</a>\u001b[0m \u001b[39mtry\u001b[39;00m:\n\u001b[0;32m--> <a href='file:///~/.local/share/virtualenvs/cs209b_hw2-Ofuqk_Uo/lib/python3.10/site-packages/urllib3/connection.py?line=541'>542</a>\u001b[0m     match_hostname(cert, asserted_hostname)\n\u001b[1;32m    <a href='file:///~/.local/share/virtualenvs/cs209b_hw2-Ofuqk_Uo/lib/python3.10/site-packages/urllib3/connection.py?line=542'>543</a>\u001b[0m \u001b[39mexcept\u001b[39;00m CertificateError \u001b[39mas\u001b[39;00m e:\n",
      "File \u001b[0;32m~/.local/share/virtualenvs/cs209b_hw2-Ofuqk_Uo/lib/python3.10/site-packages/urllib3/util/ssl_match_hostname.py:157\u001b[0m, in \u001b[0;36mmatch_hostname\u001b[0;34m(cert, hostname)\u001b[0m\n\u001b[1;32m    <a href='file:///~/.local/share/virtualenvs/cs209b_hw2-Ofuqk_Uo/lib/python3.10/site-packages/urllib3/util/ssl_match_hostname.py?line=155'>156</a>\u001b[0m \u001b[39melif\u001b[39;00m \u001b[39mlen\u001b[39m(dnsnames) \u001b[39m==\u001b[39m \u001b[39m1\u001b[39m:\n\u001b[0;32m--> <a href='file:///~/.local/share/virtualenvs/cs209b_hw2-Ofuqk_Uo/lib/python3.10/site-packages/urllib3/util/ssl_match_hostname.py?line=156'>157</a>\u001b[0m     \u001b[39mraise\u001b[39;00m CertificateError(\u001b[39m\"\u001b[39m\u001b[39mhostname \u001b[39m\u001b[39m%r\u001b[39;00m\u001b[39m doesn\u001b[39m\u001b[39m'\u001b[39m\u001b[39mt match \u001b[39m\u001b[39m%r\u001b[39;00m\u001b[39m\"\u001b[39m \u001b[39m%\u001b[39m (hostname, dnsnames[\u001b[39m0\u001b[39m]))\n\u001b[1;32m    <a href='file:///~/.local/share/virtualenvs/cs209b_hw2-Ofuqk_Uo/lib/python3.10/site-packages/urllib3/util/ssl_match_hostname.py?line=157'>158</a>\u001b[0m \u001b[39melse\u001b[39;00m:\n",
      "\u001b[0;31mCertificateError\u001b[0m: hostname 'raw.githubusercontent.com' doesn't match 'wifi.delta.com'",
      "\nDuring handling of the above exception, another exception occurred:\n",
      "\u001b[0;31mMaxRetryError\u001b[0m                             Traceback (most recent call last)",
      "File \u001b[0;32m~/.local/share/virtualenvs/cs209b_hw2-Ofuqk_Uo/lib/python3.10/site-packages/requests/adapters.py:440\u001b[0m, in \u001b[0;36mHTTPAdapter.send\u001b[0;34m(self, request, stream, timeout, verify, cert, proxies)\u001b[0m\n\u001b[1;32m    <a href='file:///~/.local/share/virtualenvs/cs209b_hw2-Ofuqk_Uo/lib/python3.10/site-packages/requests/adapters.py?line=438'>439</a>\u001b[0m \u001b[39mif\u001b[39;00m \u001b[39mnot\u001b[39;00m chunked:\n\u001b[0;32m--> <a href='file:///~/.local/share/virtualenvs/cs209b_hw2-Ofuqk_Uo/lib/python3.10/site-packages/requests/adapters.py?line=439'>440</a>\u001b[0m     resp \u001b[39m=\u001b[39m conn\u001b[39m.\u001b[39;49murlopen(\n\u001b[1;32m    <a href='file:///~/.local/share/virtualenvs/cs209b_hw2-Ofuqk_Uo/lib/python3.10/site-packages/requests/adapters.py?line=440'>441</a>\u001b[0m         method\u001b[39m=\u001b[39;49mrequest\u001b[39m.\u001b[39;49mmethod,\n\u001b[1;32m    <a href='file:///~/.local/share/virtualenvs/cs209b_hw2-Ofuqk_Uo/lib/python3.10/site-packages/requests/adapters.py?line=441'>442</a>\u001b[0m         url\u001b[39m=\u001b[39;49murl,\n\u001b[1;32m    <a href='file:///~/.local/share/virtualenvs/cs209b_hw2-Ofuqk_Uo/lib/python3.10/site-packages/requests/adapters.py?line=442'>443</a>\u001b[0m         body\u001b[39m=\u001b[39;49mrequest\u001b[39m.\u001b[39;49mbody,\n\u001b[1;32m    <a href='file:///~/.local/share/virtualenvs/cs209b_hw2-Ofuqk_Uo/lib/python3.10/site-packages/requests/adapters.py?line=443'>444</a>\u001b[0m         headers\u001b[39m=\u001b[39;49mrequest\u001b[39m.\u001b[39;49mheaders,\n\u001b[1;32m    <a href='file:///~/.local/share/virtualenvs/cs209b_hw2-Ofuqk_Uo/lib/python3.10/site-packages/requests/adapters.py?line=444'>445</a>\u001b[0m         redirect\u001b[39m=\u001b[39;49m\u001b[39mFalse\u001b[39;49;00m,\n\u001b[1;32m    <a href='file:///~/.local/share/virtualenvs/cs209b_hw2-Ofuqk_Uo/lib/python3.10/site-packages/requests/adapters.py?line=445'>446</a>\u001b[0m         assert_same_host\u001b[39m=\u001b[39;49m\u001b[39mFalse\u001b[39;49;00m,\n\u001b[1;32m    <a href='file:///~/.local/share/virtualenvs/cs209b_hw2-Ofuqk_Uo/lib/python3.10/site-packages/requests/adapters.py?line=446'>447</a>\u001b[0m         preload_content\u001b[39m=\u001b[39;49m\u001b[39mFalse\u001b[39;49;00m,\n\u001b[1;32m    <a href='file:///~/.local/share/virtualenvs/cs209b_hw2-Ofuqk_Uo/lib/python3.10/site-packages/requests/adapters.py?line=447'>448</a>\u001b[0m         decode_content\u001b[39m=\u001b[39;49m\u001b[39mFalse\u001b[39;49;00m,\n\u001b[1;32m    <a href='file:///~/.local/share/virtualenvs/cs209b_hw2-Ofuqk_Uo/lib/python3.10/site-packages/requests/adapters.py?line=448'>449</a>\u001b[0m         retries\u001b[39m=\u001b[39;49m\u001b[39mself\u001b[39;49m\u001b[39m.\u001b[39;49mmax_retries,\n\u001b[1;32m    <a href='file:///~/.local/share/virtualenvs/cs209b_hw2-Ofuqk_Uo/lib/python3.10/site-packages/requests/adapters.py?line=449'>450</a>\u001b[0m         timeout\u001b[39m=\u001b[39;49mtimeout\n\u001b[1;32m    <a href='file:///~/.local/share/virtualenvs/cs209b_hw2-Ofuqk_Uo/lib/python3.10/site-packages/requests/adapters.py?line=450'>451</a>\u001b[0m     )\n\u001b[1;32m    <a href='file:///~/.local/share/virtualenvs/cs209b_hw2-Ofuqk_Uo/lib/python3.10/site-packages/requests/adapters.py?line=452'>453</a>\u001b[0m \u001b[39m# Send the request.\u001b[39;00m\n\u001b[1;32m    <a href='file:///~/.local/share/virtualenvs/cs209b_hw2-Ofuqk_Uo/lib/python3.10/site-packages/requests/adapters.py?line=453'>454</a>\u001b[0m \u001b[39melse\u001b[39;00m:\n",
      "File \u001b[0;32m~/.local/share/virtualenvs/cs209b_hw2-Ofuqk_Uo/lib/python3.10/site-packages/urllib3/connectionpool.py:785\u001b[0m, in \u001b[0;36mHTTPConnectionPool.urlopen\u001b[0;34m(self, method, url, body, headers, retries, redirect, assert_same_host, timeout, pool_timeout, release_conn, chunked, body_pos, **response_kw)\u001b[0m\n\u001b[1;32m    <a href='file:///~/.local/share/virtualenvs/cs209b_hw2-Ofuqk_Uo/lib/python3.10/site-packages/urllib3/connectionpool.py?line=782'>783</a>\u001b[0m     e \u001b[39m=\u001b[39m ProtocolError(\u001b[39m\"\u001b[39m\u001b[39mConnection aborted.\u001b[39m\u001b[39m\"\u001b[39m, e)\n\u001b[0;32m--> <a href='file:///~/.local/share/virtualenvs/cs209b_hw2-Ofuqk_Uo/lib/python3.10/site-packages/urllib3/connectionpool.py?line=784'>785</a>\u001b[0m retries \u001b[39m=\u001b[39m retries\u001b[39m.\u001b[39;49mincrement(\n\u001b[1;32m    <a href='file:///~/.local/share/virtualenvs/cs209b_hw2-Ofuqk_Uo/lib/python3.10/site-packages/urllib3/connectionpool.py?line=785'>786</a>\u001b[0m     method, url, error\u001b[39m=\u001b[39;49me, _pool\u001b[39m=\u001b[39;49m\u001b[39mself\u001b[39;49m, _stacktrace\u001b[39m=\u001b[39;49msys\u001b[39m.\u001b[39;49mexc_info()[\u001b[39m2\u001b[39;49m]\n\u001b[1;32m    <a href='file:///~/.local/share/virtualenvs/cs209b_hw2-Ofuqk_Uo/lib/python3.10/site-packages/urllib3/connectionpool.py?line=786'>787</a>\u001b[0m )\n\u001b[1;32m    <a href='file:///~/.local/share/virtualenvs/cs209b_hw2-Ofuqk_Uo/lib/python3.10/site-packages/urllib3/connectionpool.py?line=787'>788</a>\u001b[0m retries\u001b[39m.\u001b[39msleep()\n",
      "File \u001b[0;32m~/.local/share/virtualenvs/cs209b_hw2-Ofuqk_Uo/lib/python3.10/site-packages/urllib3/util/retry.py:592\u001b[0m, in \u001b[0;36mRetry.increment\u001b[0;34m(self, method, url, response, error, _pool, _stacktrace)\u001b[0m\n\u001b[1;32m    <a href='file:///~/.local/share/virtualenvs/cs209b_hw2-Ofuqk_Uo/lib/python3.10/site-packages/urllib3/util/retry.py?line=590'>591</a>\u001b[0m \u001b[39mif\u001b[39;00m new_retry\u001b[39m.\u001b[39mis_exhausted():\n\u001b[0;32m--> <a href='file:///~/.local/share/virtualenvs/cs209b_hw2-Ofuqk_Uo/lib/python3.10/site-packages/urllib3/util/retry.py?line=591'>592</a>\u001b[0m     \u001b[39mraise\u001b[39;00m MaxRetryError(_pool, url, error \u001b[39mor\u001b[39;00m ResponseError(cause))\n\u001b[1;32m    <a href='file:///~/.local/share/virtualenvs/cs209b_hw2-Ofuqk_Uo/lib/python3.10/site-packages/urllib3/util/retry.py?line=593'>594</a>\u001b[0m log\u001b[39m.\u001b[39mdebug(\u001b[39m\"\u001b[39m\u001b[39mIncremented Retry for (url=\u001b[39m\u001b[39m'\u001b[39m\u001b[39m%s\u001b[39;00m\u001b[39m'\u001b[39m\u001b[39m): \u001b[39m\u001b[39m%r\u001b[39;00m\u001b[39m\"\u001b[39m, url, new_retry)\n",
      "\u001b[0;31mMaxRetryError\u001b[0m: HTTPSConnectionPool(host='raw.githubusercontent.com', port=443): Max retries exceeded with url: /Harvard-IACS/2018-CS109A/master/content/styles/cs109.css (Caused by SSLError(CertificateError(\"hostname 'raw.githubusercontent.com' doesn't match 'wifi.delta.com'\")))",
      "\nDuring handling of the above exception, another exception occurred:\n",
      "\u001b[0;31mSSLError\u001b[0m                                  Traceback (most recent call last)",
      "\u001b[1;32m/Users/vargas/Desktop/cs209b_hw2/cs109b_hw2.ipynb Cell 2'\u001b[0m in \u001b[0;36m<module>\u001b[0;34m\u001b[0m\n\u001b[1;32m      <a href='vscode-notebook-cell:/Users/vargas/Desktop/cs209b_hw2/cs109b_hw2.ipynb#ch0000001?line=1'>2</a>\u001b[0m \u001b[39mimport\u001b[39;00m \u001b[39mrequests\u001b[39;00m\n\u001b[1;32m      <a href='vscode-notebook-cell:/Users/vargas/Desktop/cs209b_hw2/cs109b_hw2.ipynb#ch0000001?line=2'>3</a>\u001b[0m \u001b[39mfrom\u001b[39;00m \u001b[39mIPython\u001b[39;00m\u001b[39m.\u001b[39;00m\u001b[39mcore\u001b[39;00m\u001b[39m.\u001b[39;00m\u001b[39mdisplay\u001b[39;00m \u001b[39mimport\u001b[39;00m HTML\n\u001b[0;32m----> <a href='vscode-notebook-cell:/Users/vargas/Desktop/cs209b_hw2/cs109b_hw2.ipynb#ch0000001?line=3'>4</a>\u001b[0m styles \u001b[39m=\u001b[39m requests\u001b[39m.\u001b[39;49mget(\n\u001b[1;32m      <a href='vscode-notebook-cell:/Users/vargas/Desktop/cs209b_hw2/cs109b_hw2.ipynb#ch0000001?line=4'>5</a>\u001b[0m     \u001b[39m\"\u001b[39;49m\u001b[39mhttps://raw.githubusercontent.com/Harvard-IACS/2018-CS109A/master/\u001b[39;49m\u001b[39m\"\u001b[39;49m\n\u001b[1;32m      <a href='vscode-notebook-cell:/Users/vargas/Desktop/cs209b_hw2/cs109b_hw2.ipynb#ch0000001?line=5'>6</a>\u001b[0m     \u001b[39m\"\u001b[39;49m\u001b[39mcontent/styles/cs109.css\u001b[39;49m\u001b[39m\"\u001b[39;49m\n\u001b[1;32m      <a href='vscode-notebook-cell:/Users/vargas/Desktop/cs209b_hw2/cs109b_hw2.ipynb#ch0000001?line=6'>7</a>\u001b[0m )\u001b[39m.\u001b[39mtext\n\u001b[1;32m      <a href='vscode-notebook-cell:/Users/vargas/Desktop/cs209b_hw2/cs109b_hw2.ipynb#ch0000001?line=7'>8</a>\u001b[0m HTML(styles)\n",
      "File \u001b[0;32m~/.local/share/virtualenvs/cs209b_hw2-Ofuqk_Uo/lib/python3.10/site-packages/requests/api.py:75\u001b[0m, in \u001b[0;36mget\u001b[0;34m(url, params, **kwargs)\u001b[0m\n\u001b[1;32m     <a href='file:///~/.local/share/virtualenvs/cs209b_hw2-Ofuqk_Uo/lib/python3.10/site-packages/requests/api.py?line=63'>64</a>\u001b[0m \u001b[39mdef\u001b[39;00m \u001b[39mget\u001b[39m(url, params\u001b[39m=\u001b[39m\u001b[39mNone\u001b[39;00m, \u001b[39m*\u001b[39m\u001b[39m*\u001b[39mkwargs):\n\u001b[1;32m     <a href='file:///~/.local/share/virtualenvs/cs209b_hw2-Ofuqk_Uo/lib/python3.10/site-packages/requests/api.py?line=64'>65</a>\u001b[0m     \u001b[39mr\u001b[39m\u001b[39m\"\"\"Sends a GET request.\u001b[39;00m\n\u001b[1;32m     <a href='file:///~/.local/share/virtualenvs/cs209b_hw2-Ofuqk_Uo/lib/python3.10/site-packages/requests/api.py?line=65'>66</a>\u001b[0m \n\u001b[1;32m     <a href='file:///~/.local/share/virtualenvs/cs209b_hw2-Ofuqk_Uo/lib/python3.10/site-packages/requests/api.py?line=66'>67</a>\u001b[0m \u001b[39m    :param url: URL for the new :class:`Request` object.\u001b[39;00m\n\u001b[0;32m   (...)\u001b[0m\n\u001b[1;32m     <a href='file:///~/.local/share/virtualenvs/cs209b_hw2-Ofuqk_Uo/lib/python3.10/site-packages/requests/api.py?line=71'>72</a>\u001b[0m \u001b[39m    :rtype: requests.Response\u001b[39;00m\n\u001b[1;32m     <a href='file:///~/.local/share/virtualenvs/cs209b_hw2-Ofuqk_Uo/lib/python3.10/site-packages/requests/api.py?line=72'>73</a>\u001b[0m \u001b[39m    \"\"\"\u001b[39;00m\n\u001b[0;32m---> <a href='file:///~/.local/share/virtualenvs/cs209b_hw2-Ofuqk_Uo/lib/python3.10/site-packages/requests/api.py?line=74'>75</a>\u001b[0m     \u001b[39mreturn\u001b[39;00m request(\u001b[39m'\u001b[39;49m\u001b[39mget\u001b[39;49m\u001b[39m'\u001b[39;49m, url, params\u001b[39m=\u001b[39;49mparams, \u001b[39m*\u001b[39;49m\u001b[39m*\u001b[39;49mkwargs)\n",
      "File \u001b[0;32m~/.local/share/virtualenvs/cs209b_hw2-Ofuqk_Uo/lib/python3.10/site-packages/requests/api.py:61\u001b[0m, in \u001b[0;36mrequest\u001b[0;34m(method, url, **kwargs)\u001b[0m\n\u001b[1;32m     <a href='file:///~/.local/share/virtualenvs/cs209b_hw2-Ofuqk_Uo/lib/python3.10/site-packages/requests/api.py?line=56'>57</a>\u001b[0m \u001b[39m# By using the 'with' statement we are sure the session is closed, thus we\u001b[39;00m\n\u001b[1;32m     <a href='file:///~/.local/share/virtualenvs/cs209b_hw2-Ofuqk_Uo/lib/python3.10/site-packages/requests/api.py?line=57'>58</a>\u001b[0m \u001b[39m# avoid leaving sockets open which can trigger a ResourceWarning in some\u001b[39;00m\n\u001b[1;32m     <a href='file:///~/.local/share/virtualenvs/cs209b_hw2-Ofuqk_Uo/lib/python3.10/site-packages/requests/api.py?line=58'>59</a>\u001b[0m \u001b[39m# cases, and look like a memory leak in others.\u001b[39;00m\n\u001b[1;32m     <a href='file:///~/.local/share/virtualenvs/cs209b_hw2-Ofuqk_Uo/lib/python3.10/site-packages/requests/api.py?line=59'>60</a>\u001b[0m \u001b[39mwith\u001b[39;00m sessions\u001b[39m.\u001b[39mSession() \u001b[39mas\u001b[39;00m session:\n\u001b[0;32m---> <a href='file:///~/.local/share/virtualenvs/cs209b_hw2-Ofuqk_Uo/lib/python3.10/site-packages/requests/api.py?line=60'>61</a>\u001b[0m     \u001b[39mreturn\u001b[39;00m session\u001b[39m.\u001b[39;49mrequest(method\u001b[39m=\u001b[39;49mmethod, url\u001b[39m=\u001b[39;49murl, \u001b[39m*\u001b[39;49m\u001b[39m*\u001b[39;49mkwargs)\n",
      "File \u001b[0;32m~/.local/share/virtualenvs/cs209b_hw2-Ofuqk_Uo/lib/python3.10/site-packages/requests/sessions.py:529\u001b[0m, in \u001b[0;36mSession.request\u001b[0;34m(self, method, url, params, data, headers, cookies, files, auth, timeout, allow_redirects, proxies, hooks, stream, verify, cert, json)\u001b[0m\n\u001b[1;32m    <a href='file:///~/.local/share/virtualenvs/cs209b_hw2-Ofuqk_Uo/lib/python3.10/site-packages/requests/sessions.py?line=523'>524</a>\u001b[0m send_kwargs \u001b[39m=\u001b[39m {\n\u001b[1;32m    <a href='file:///~/.local/share/virtualenvs/cs209b_hw2-Ofuqk_Uo/lib/python3.10/site-packages/requests/sessions.py?line=524'>525</a>\u001b[0m     \u001b[39m'\u001b[39m\u001b[39mtimeout\u001b[39m\u001b[39m'\u001b[39m: timeout,\n\u001b[1;32m    <a href='file:///~/.local/share/virtualenvs/cs209b_hw2-Ofuqk_Uo/lib/python3.10/site-packages/requests/sessions.py?line=525'>526</a>\u001b[0m     \u001b[39m'\u001b[39m\u001b[39mallow_redirects\u001b[39m\u001b[39m'\u001b[39m: allow_redirects,\n\u001b[1;32m    <a href='file:///~/.local/share/virtualenvs/cs209b_hw2-Ofuqk_Uo/lib/python3.10/site-packages/requests/sessions.py?line=526'>527</a>\u001b[0m }\n\u001b[1;32m    <a href='file:///~/.local/share/virtualenvs/cs209b_hw2-Ofuqk_Uo/lib/python3.10/site-packages/requests/sessions.py?line=527'>528</a>\u001b[0m send_kwargs\u001b[39m.\u001b[39mupdate(settings)\n\u001b[0;32m--> <a href='file:///~/.local/share/virtualenvs/cs209b_hw2-Ofuqk_Uo/lib/python3.10/site-packages/requests/sessions.py?line=528'>529</a>\u001b[0m resp \u001b[39m=\u001b[39m \u001b[39mself\u001b[39;49m\u001b[39m.\u001b[39;49msend(prep, \u001b[39m*\u001b[39;49m\u001b[39m*\u001b[39;49msend_kwargs)\n\u001b[1;32m    <a href='file:///~/.local/share/virtualenvs/cs209b_hw2-Ofuqk_Uo/lib/python3.10/site-packages/requests/sessions.py?line=530'>531</a>\u001b[0m \u001b[39mreturn\u001b[39;00m resp\n",
      "File \u001b[0;32m~/.local/share/virtualenvs/cs209b_hw2-Ofuqk_Uo/lib/python3.10/site-packages/requests/sessions.py:645\u001b[0m, in \u001b[0;36mSession.send\u001b[0;34m(self, request, **kwargs)\u001b[0m\n\u001b[1;32m    <a href='file:///~/.local/share/virtualenvs/cs209b_hw2-Ofuqk_Uo/lib/python3.10/site-packages/requests/sessions.py?line=641'>642</a>\u001b[0m start \u001b[39m=\u001b[39m preferred_clock()\n\u001b[1;32m    <a href='file:///~/.local/share/virtualenvs/cs209b_hw2-Ofuqk_Uo/lib/python3.10/site-packages/requests/sessions.py?line=643'>644</a>\u001b[0m \u001b[39m# Send the request\u001b[39;00m\n\u001b[0;32m--> <a href='file:///~/.local/share/virtualenvs/cs209b_hw2-Ofuqk_Uo/lib/python3.10/site-packages/requests/sessions.py?line=644'>645</a>\u001b[0m r \u001b[39m=\u001b[39m adapter\u001b[39m.\u001b[39;49msend(request, \u001b[39m*\u001b[39;49m\u001b[39m*\u001b[39;49mkwargs)\n\u001b[1;32m    <a href='file:///~/.local/share/virtualenvs/cs209b_hw2-Ofuqk_Uo/lib/python3.10/site-packages/requests/sessions.py?line=646'>647</a>\u001b[0m \u001b[39m# Total elapsed time of the request (approximately)\u001b[39;00m\n\u001b[1;32m    <a href='file:///~/.local/share/virtualenvs/cs209b_hw2-Ofuqk_Uo/lib/python3.10/site-packages/requests/sessions.py?line=647'>648</a>\u001b[0m elapsed \u001b[39m=\u001b[39m preferred_clock() \u001b[39m-\u001b[39m start\n",
      "File \u001b[0;32m~/.local/share/virtualenvs/cs209b_hw2-Ofuqk_Uo/lib/python3.10/site-packages/requests/adapters.py:517\u001b[0m, in \u001b[0;36mHTTPAdapter.send\u001b[0;34m(self, request, stream, timeout, verify, cert, proxies)\u001b[0m\n\u001b[1;32m    <a href='file:///~/.local/share/virtualenvs/cs209b_hw2-Ofuqk_Uo/lib/python3.10/site-packages/requests/adapters.py?line=512'>513</a>\u001b[0m         \u001b[39mraise\u001b[39;00m ProxyError(e, request\u001b[39m=\u001b[39mrequest)\n\u001b[1;32m    <a href='file:///~/.local/share/virtualenvs/cs209b_hw2-Ofuqk_Uo/lib/python3.10/site-packages/requests/adapters.py?line=514'>515</a>\u001b[0m     \u001b[39mif\u001b[39;00m \u001b[39misinstance\u001b[39m(e\u001b[39m.\u001b[39mreason, _SSLError):\n\u001b[1;32m    <a href='file:///~/.local/share/virtualenvs/cs209b_hw2-Ofuqk_Uo/lib/python3.10/site-packages/requests/adapters.py?line=515'>516</a>\u001b[0m         \u001b[39m# This branch is for urllib3 v1.22 and later.\u001b[39;00m\n\u001b[0;32m--> <a href='file:///~/.local/share/virtualenvs/cs209b_hw2-Ofuqk_Uo/lib/python3.10/site-packages/requests/adapters.py?line=516'>517</a>\u001b[0m         \u001b[39mraise\u001b[39;00m SSLError(e, request\u001b[39m=\u001b[39mrequest)\n\u001b[1;32m    <a href='file:///~/.local/share/virtualenvs/cs209b_hw2-Ofuqk_Uo/lib/python3.10/site-packages/requests/adapters.py?line=518'>519</a>\u001b[0m     \u001b[39mraise\u001b[39;00m \u001b[39mConnectionError\u001b[39;00m(e, request\u001b[39m=\u001b[39mrequest)\n\u001b[1;32m    <a href='file:///~/.local/share/virtualenvs/cs209b_hw2-Ofuqk_Uo/lib/python3.10/site-packages/requests/adapters.py?line=520'>521</a>\u001b[0m \u001b[39mexcept\u001b[39;00m ClosedPoolError \u001b[39mas\u001b[39;00m e:\n",
      "\u001b[0;31mSSLError\u001b[0m: HTTPSConnectionPool(host='raw.githubusercontent.com', port=443): Max retries exceeded with url: /Harvard-IACS/2018-CS109A/master/content/styles/cs109.css (Caused by SSLError(CertificateError(\"hostname 'raw.githubusercontent.com' doesn't match 'wifi.delta.com'\")))"
     ]
    }
   ],
   "source": [
    "# RUN THIS CELL \n",
    "import requests\n",
    "from IPython.core.display import HTML\n",
    "styles = requests.get(\n",
    "    \"https://raw.githubusercontent.com/Harvard-IACS/2018-CS109A/master/\"\n",
    "    \"content/styles/cs109.css\"\n",
    ").text\n",
    "HTML(styles)"
   ]
  },
  {
   "cell_type": "markdown",
   "metadata": {},
   "source": [
    "<a id=\"instructions\"></a>\n",
    "\n",
    "<hr style=\"height:2pt\">\n",
    "\n",
    "### INSTRUCTIONS\n",
    "\n",
    "- This homework can be submitted **in pairs**.\n",
    "\n",
    "- To submit your assignment follow the instructions given in Canvas.\n",
    "\n",
    "- Please **restart the kernel and run the entire notebook again before you submit. But remember that it can take a long time to run, so give yourself enough time.** \n",
    "\n",
    "- Running cells out of order is a common pitfall in Jupyter Notebooks. To make sure your code continues to work, restart the kernel and rerun your notebook periodically while working through this assignment. \n",
    "\n",
    "- We have tried to include all the libraries you may need to do the assignment in the imports cell provided below. **Please use only the libraries provided in those imports.**\n",
    "\n",
    "- Please use `.head(...)` when viewing data. Do not submit a notebook that is **excessively long**. \n",
    "\n",
    "- In questions that require code to answer, such as \"calculate and report $R^2$\", do not just output the value from a cell. Write a `print(...)` function that clearly labels the output, includes a reference to the calculated value, and rounds it to a reasonable number of digits. **Do not hard code values in your printed output**. For example, this is an appropriate print statement:\n",
    "```python\n",
    "print(f'The R^2 is {R:.4f}')\n",
    "```\n",
    "- **Your plots MUST be clearly labeled and easy to read,** including clear labels for the $x$ and $y$ axes, a descriptive title (\"MSE plot\" is NOT a descriptive title; \"Training and validation MSE at varying degree polynomial regression models\" on the other hand is descriptive), a legend when appropriate, and clearly formatted text and graphics.\n",
    "\n",
    "- **Your code may also be evaluated for efficiency and clarity.** As a result, correct output is not always sufficient for full credit.\n",
    "\n",
    "<hr style=\"height:2pt\">"
   ]
  },
  {
   "cell_type": "code",
   "execution_count": 16,
   "metadata": {},
   "outputs": [
    {
     "ename": "AttributeError",
     "evalue": "module 'numpy.distutils.__config__' has no attribute 'blas_opt_info'",
     "output_type": "error",
     "traceback": [
      "\u001b[0;31m---------------------------------------------------------------------------\u001b[0m",
      "\u001b[0;31mNoSectionError\u001b[0m                            Traceback (most recent call last)",
      "File \u001b[0;32m~/.local/share/virtualenvs/cs209b_hw2-Ofuqk_Uo/lib/python3.10/site-packages/theano/configparser.py:238\u001b[0m, in \u001b[0;36mTheanoConfigParser.fetch_val_for_key\u001b[0;34m(self, key, delete_key)\u001b[0m\n\u001b[1;32m    <a href='file:///~/.local/share/virtualenvs/cs209b_hw2-Ofuqk_Uo/lib/python3.10/site-packages/theano/configparser.py?line=236'>237</a>\u001b[0m \u001b[39mtry\u001b[39;00m:\n\u001b[0;32m--> <a href='file:///~/.local/share/virtualenvs/cs209b_hw2-Ofuqk_Uo/lib/python3.10/site-packages/theano/configparser.py?line=237'>238</a>\u001b[0m     \u001b[39mreturn\u001b[39;00m \u001b[39mself\u001b[39;49m\u001b[39m.\u001b[39;49m_theano_cfg\u001b[39m.\u001b[39;49mget(section, option)\n\u001b[1;32m    <a href='file:///~/.local/share/virtualenvs/cs209b_hw2-Ofuqk_Uo/lib/python3.10/site-packages/theano/configparser.py?line=238'>239</a>\u001b[0m \u001b[39mexcept\u001b[39;00m InterpolationError:\n",
      "File \u001b[0;32m/Library/Frameworks/Python.framework/Versions/3.10/lib/python3.10/configparser.py:782\u001b[0m, in \u001b[0;36mRawConfigParser.get\u001b[0;34m(self, section, option, raw, vars, fallback)\u001b[0m\n\u001b[1;32m    <a href='file:///Library/Frameworks/Python.framework/Versions/3.10/lib/python3.10/configparser.py?line=780'>781</a>\u001b[0m \u001b[39mtry\u001b[39;00m:\n\u001b[0;32m--> <a href='file:///Library/Frameworks/Python.framework/Versions/3.10/lib/python3.10/configparser.py?line=781'>782</a>\u001b[0m     d \u001b[39m=\u001b[39m \u001b[39mself\u001b[39;49m\u001b[39m.\u001b[39;49m_unify_values(section, \u001b[39mvars\u001b[39;49m)\n\u001b[1;32m    <a href='file:///Library/Frameworks/Python.framework/Versions/3.10/lib/python3.10/configparser.py?line=782'>783</a>\u001b[0m \u001b[39mexcept\u001b[39;00m NoSectionError:\n",
      "File \u001b[0;32m/Library/Frameworks/Python.framework/Versions/3.10/lib/python3.10/configparser.py:1153\u001b[0m, in \u001b[0;36mRawConfigParser._unify_values\u001b[0;34m(self, section, vars)\u001b[0m\n\u001b[1;32m   <a href='file:///Library/Frameworks/Python.framework/Versions/3.10/lib/python3.10/configparser.py?line=1151'>1152</a>\u001b[0m     \u001b[39mif\u001b[39;00m section \u001b[39m!=\u001b[39m \u001b[39mself\u001b[39m\u001b[39m.\u001b[39mdefault_section:\n\u001b[0;32m-> <a href='file:///Library/Frameworks/Python.framework/Versions/3.10/lib/python3.10/configparser.py?line=1152'>1153</a>\u001b[0m         \u001b[39mraise\u001b[39;00m NoSectionError(section) \u001b[39mfrom\u001b[39;00m \u001b[39mNone\u001b[39m\n\u001b[1;32m   <a href='file:///Library/Frameworks/Python.framework/Versions/3.10/lib/python3.10/configparser.py?line=1153'>1154</a>\u001b[0m \u001b[39m# Update with the entry specific variables\u001b[39;00m\n",
      "\u001b[0;31mNoSectionError\u001b[0m: No section: 'blas'",
      "\nDuring handling of the above exception, another exception occurred:\n",
      "\u001b[0;31mKeyError\u001b[0m                                  Traceback (most recent call last)",
      "File \u001b[0;32m~/.local/share/virtualenvs/cs209b_hw2-Ofuqk_Uo/lib/python3.10/site-packages/theano/configparser.py:354\u001b[0m, in \u001b[0;36mConfigParam.__get__\u001b[0;34m(self, cls, type_, delete_key)\u001b[0m\n\u001b[1;32m    <a href='file:///~/.local/share/virtualenvs/cs209b_hw2-Ofuqk_Uo/lib/python3.10/site-packages/theano/configparser.py?line=352'>353</a>\u001b[0m \u001b[39mtry\u001b[39;00m:\n\u001b[0;32m--> <a href='file:///~/.local/share/virtualenvs/cs209b_hw2-Ofuqk_Uo/lib/python3.10/site-packages/theano/configparser.py?line=353'>354</a>\u001b[0m     val_str \u001b[39m=\u001b[39m \u001b[39mcls\u001b[39;49m\u001b[39m.\u001b[39;49mfetch_val_for_key(\u001b[39mself\u001b[39;49m\u001b[39m.\u001b[39;49mname, delete_key\u001b[39m=\u001b[39;49mdelete_key)\n\u001b[1;32m    <a href='file:///~/.local/share/virtualenvs/cs209b_hw2-Ofuqk_Uo/lib/python3.10/site-packages/theano/configparser.py?line=354'>355</a>\u001b[0m     \u001b[39mself\u001b[39m\u001b[39m.\u001b[39mis_default \u001b[39m=\u001b[39m \u001b[39mFalse\u001b[39;00m\n",
      "File \u001b[0;32m~/.local/share/virtualenvs/cs209b_hw2-Ofuqk_Uo/lib/python3.10/site-packages/theano/configparser.py:242\u001b[0m, in \u001b[0;36mTheanoConfigParser.fetch_val_for_key\u001b[0;34m(self, key, delete_key)\u001b[0m\n\u001b[1;32m    <a href='file:///~/.local/share/virtualenvs/cs209b_hw2-Ofuqk_Uo/lib/python3.10/site-packages/theano/configparser.py?line=240'>241</a>\u001b[0m \u001b[39mexcept\u001b[39;00m (NoOptionError, NoSectionError):\n\u001b[0;32m--> <a href='file:///~/.local/share/virtualenvs/cs209b_hw2-Ofuqk_Uo/lib/python3.10/site-packages/theano/configparser.py?line=241'>242</a>\u001b[0m     \u001b[39mraise\u001b[39;00m \u001b[39mKeyError\u001b[39;00m(key)\n",
      "\u001b[0;31mKeyError\u001b[0m: 'blas__ldflags'",
      "\nDuring handling of the above exception, another exception occurred:\n",
      "\u001b[0;31mAttributeError\u001b[0m                            Traceback (most recent call last)",
      "\u001b[1;32m/Users/vargas/Desktop/cs209b_hw2/cs109b_hw2.ipynb Cell 4'\u001b[0m in \u001b[0;36m<module>\u001b[0;34m\u001b[0m\n\u001b[1;32m      <a href='vscode-notebook-cell:/Users/vargas/Desktop/cs209b_hw2/cs109b_hw2.ipynb#ch0000003?line=5'>6</a>\u001b[0m \u001b[39mimport\u001b[39;00m \u001b[39mnumpy\u001b[39;00m \u001b[39mas\u001b[39;00m \u001b[39mnp\u001b[39;00m\n\u001b[1;32m      <a href='vscode-notebook-cell:/Users/vargas/Desktop/cs209b_hw2/cs109b_hw2.ipynb#ch0000003?line=6'>7</a>\u001b[0m \u001b[39mimport\u001b[39;00m \u001b[39mpandas\u001b[39;00m \u001b[39mas\u001b[39;00m \u001b[39mpd\u001b[39;00m\n\u001b[0;32m----> <a href='vscode-notebook-cell:/Users/vargas/Desktop/cs209b_hw2/cs109b_hw2.ipynb#ch0000003?line=7'>8</a>\u001b[0m \u001b[39mimport\u001b[39;00m \u001b[39mpymc3\u001b[39;00m \u001b[39mas\u001b[39;00m \u001b[39mpm\u001b[39;00m\n\u001b[1;32m      <a href='vscode-notebook-cell:/Users/vargas/Desktop/cs209b_hw2/cs109b_hw2.ipynb#ch0000003?line=8'>9</a>\u001b[0m \u001b[39mfrom\u001b[39;00m \u001b[39mscipy\u001b[39;00m\u001b[39m.\u001b[39;00m\u001b[39mspecial\u001b[39;00m \u001b[39mimport\u001b[39;00m expit\n\u001b[1;32m     <a href='vscode-notebook-cell:/Users/vargas/Desktop/cs209b_hw2/cs109b_hw2.ipynb#ch0000003?line=10'>11</a>\u001b[0m get_ipython()\u001b[39m.\u001b[39mrun_line_magic(\u001b[39m'\u001b[39m\u001b[39mmatplotlib\u001b[39m\u001b[39m'\u001b[39m, \u001b[39m'\u001b[39m\u001b[39minline\u001b[39m\u001b[39m'\u001b[39m)\n",
      "File \u001b[0;32m~/.local/share/virtualenvs/cs209b_hw2-Ofuqk_Uo/lib/python3.10/site-packages/pymc3/__init__.py:23\u001b[0m, in \u001b[0;36m<module>\u001b[0;34m\u001b[0m\n\u001b[1;32m     <a href='file:///~/.local/share/virtualenvs/cs209b_hw2-Ofuqk_Uo/lib/python3.10/site-packages/pymc3/__init__.py?line=19'>20</a>\u001b[0m \u001b[39mimport\u001b[39;00m \u001b[39mplatform\u001b[39;00m\n\u001b[1;32m     <a href='file:///~/.local/share/virtualenvs/cs209b_hw2-Ofuqk_Uo/lib/python3.10/site-packages/pymc3/__init__.py?line=21'>22</a>\u001b[0m \u001b[39mimport\u001b[39;00m \u001b[39msemver\u001b[39;00m\n\u001b[0;32m---> <a href='file:///~/.local/share/virtualenvs/cs209b_hw2-Ofuqk_Uo/lib/python3.10/site-packages/pymc3/__init__.py?line=22'>23</a>\u001b[0m \u001b[39mimport\u001b[39;00m \u001b[39mtheano\u001b[39;00m\n\u001b[1;32m     <a href='file:///~/.local/share/virtualenvs/cs209b_hw2-Ofuqk_Uo/lib/python3.10/site-packages/pymc3/__init__.py?line=24'>25</a>\u001b[0m _log \u001b[39m=\u001b[39m logging\u001b[39m.\u001b[39mgetLogger(\u001b[39m\"\u001b[39m\u001b[39mpymc3\u001b[39m\u001b[39m\"\u001b[39m)\n\u001b[1;32m     <a href='file:///~/.local/share/virtualenvs/cs209b_hw2-Ofuqk_Uo/lib/python3.10/site-packages/pymc3/__init__.py?line=26'>27</a>\u001b[0m \u001b[39mif\u001b[39;00m \u001b[39mnot\u001b[39;00m logging\u001b[39m.\u001b[39mroot\u001b[39m.\u001b[39mhandlers:\n",
      "File \u001b[0;32m~/.local/share/virtualenvs/cs209b_hw2-Ofuqk_Uo/lib/python3.10/site-packages/theano/__init__.py:83\u001b[0m, in \u001b[0;36m<module>\u001b[0;34m\u001b[0m\n\u001b[1;32m     <a href='file:///~/.local/share/virtualenvs/cs209b_hw2-Ofuqk_Uo/lib/python3.10/site-packages/theano/__init__.py?line=74'>75</a>\u001b[0m \u001b[39m# This is the api version for ops that generate C code.  External ops\u001b[39;00m\n\u001b[1;32m     <a href='file:///~/.local/share/virtualenvs/cs209b_hw2-Ofuqk_Uo/lib/python3.10/site-packages/theano/__init__.py?line=75'>76</a>\u001b[0m \u001b[39m# might need manual changes if this number goes up.  An undefined\u001b[39;00m\n\u001b[1;32m     <a href='file:///~/.local/share/virtualenvs/cs209b_hw2-Ofuqk_Uo/lib/python3.10/site-packages/theano/__init__.py?line=76'>77</a>\u001b[0m \u001b[39m# __api_version__ can be understood to mean api version 0.\u001b[39;00m\n\u001b[1;32m     <a href='file:///~/.local/share/virtualenvs/cs209b_hw2-Ofuqk_Uo/lib/python3.10/site-packages/theano/__init__.py?line=77'>78</a>\u001b[0m \u001b[39m#\u001b[39;00m\n\u001b[1;32m     <a href='file:///~/.local/share/virtualenvs/cs209b_hw2-Ofuqk_Uo/lib/python3.10/site-packages/theano/__init__.py?line=78'>79</a>\u001b[0m \u001b[39m# This number is not tied to the release version and should change\u001b[39;00m\n\u001b[1;32m     <a href='file:///~/.local/share/virtualenvs/cs209b_hw2-Ofuqk_Uo/lib/python3.10/site-packages/theano/__init__.py?line=79'>80</a>\u001b[0m \u001b[39m# very rarely.\u001b[39;00m\n\u001b[1;32m     <a href='file:///~/.local/share/virtualenvs/cs209b_hw2-Ofuqk_Uo/lib/python3.10/site-packages/theano/__init__.py?line=80'>81</a>\u001b[0m __api_version__ \u001b[39m=\u001b[39m \u001b[39m1\u001b[39m\n\u001b[0;32m---> <a href='file:///~/.local/share/virtualenvs/cs209b_hw2-Ofuqk_Uo/lib/python3.10/site-packages/theano/__init__.py?line=82'>83</a>\u001b[0m \u001b[39mfrom\u001b[39;00m \u001b[39mtheano\u001b[39;00m \u001b[39mimport\u001b[39;00m scalar, tensor\n\u001b[1;32m     <a href='file:///~/.local/share/virtualenvs/cs209b_hw2-Ofuqk_Uo/lib/python3.10/site-packages/theano/__init__.py?line=83'>84</a>\u001b[0m \u001b[39mfrom\u001b[39;00m \u001b[39mtheano\u001b[39;00m\u001b[39m.\u001b[39;00m\u001b[39mcompile\u001b[39;00m \u001b[39mimport\u001b[39;00m (\n\u001b[1;32m     <a href='file:///~/.local/share/virtualenvs/cs209b_hw2-Ofuqk_Uo/lib/python3.10/site-packages/theano/__init__.py?line=84'>85</a>\u001b[0m     In,\n\u001b[1;32m     <a href='file:///~/.local/share/virtualenvs/cs209b_hw2-Ofuqk_Uo/lib/python3.10/site-packages/theano/__init__.py?line=85'>86</a>\u001b[0m     Mode,\n\u001b[0;32m   (...)\u001b[0m\n\u001b[1;32m     <a href='file:///~/.local/share/virtualenvs/cs209b_hw2-Ofuqk_Uo/lib/python3.10/site-packages/theano/__init__.py?line=92'>93</a>\u001b[0m     shared,\n\u001b[1;32m     <a href='file:///~/.local/share/virtualenvs/cs209b_hw2-Ofuqk_Uo/lib/python3.10/site-packages/theano/__init__.py?line=93'>94</a>\u001b[0m )\n\u001b[1;32m     <a href='file:///~/.local/share/virtualenvs/cs209b_hw2-Ofuqk_Uo/lib/python3.10/site-packages/theano/__init__.py?line=94'>95</a>\u001b[0m \u001b[39mfrom\u001b[39;00m \u001b[39mtheano\u001b[39;00m\u001b[39m.\u001b[39;00m\u001b[39mcompile\u001b[39;00m\u001b[39m.\u001b[39;00m\u001b[39mfunction\u001b[39;00m \u001b[39mimport\u001b[39;00m function, function_dump\n",
      "File \u001b[0;32m~/.local/share/virtualenvs/cs209b_hw2-Ofuqk_Uo/lib/python3.10/site-packages/theano/tensor/__init__.py:20\u001b[0m, in \u001b[0;36m<module>\u001b[0;34m\u001b[0m\n\u001b[1;32m      <a href='file:///~/.local/share/virtualenvs/cs209b_hw2-Ofuqk_Uo/lib/python3.10/site-packages/theano/tensor/__init__.py?line=8'>9</a>\u001b[0m \u001b[39mfrom\u001b[39;00m \u001b[39mtheano\u001b[39;00m\u001b[39m.\u001b[39;00m\u001b[39mcompile\u001b[39;00m \u001b[39mimport\u001b[39;00m SpecifyShape, specify_shape\n\u001b[1;32m     <a href='file:///~/.local/share/virtualenvs/cs209b_hw2-Ofuqk_Uo/lib/python3.10/site-packages/theano/tensor/__init__.py?line=9'>10</a>\u001b[0m \u001b[39mfrom\u001b[39;00m \u001b[39mtheano\u001b[39;00m\u001b[39m.\u001b[39;00m\u001b[39mgradient\u001b[39;00m \u001b[39mimport\u001b[39;00m (\n\u001b[1;32m     <a href='file:///~/.local/share/virtualenvs/cs209b_hw2-Ofuqk_Uo/lib/python3.10/site-packages/theano/tensor/__init__.py?line=10'>11</a>\u001b[0m     Lop,\n\u001b[1;32m     <a href='file:///~/.local/share/virtualenvs/cs209b_hw2-Ofuqk_Uo/lib/python3.10/site-packages/theano/tensor/__init__.py?line=11'>12</a>\u001b[0m     Rop,\n\u001b[0;32m   (...)\u001b[0m\n\u001b[1;32m     <a href='file:///~/.local/share/virtualenvs/cs209b_hw2-Ofuqk_Uo/lib/python3.10/site-packages/theano/tensor/__init__.py?line=17'>18</a>\u001b[0m     verify_grad,\n\u001b[1;32m     <a href='file:///~/.local/share/virtualenvs/cs209b_hw2-Ofuqk_Uo/lib/python3.10/site-packages/theano/tensor/__init__.py?line=18'>19</a>\u001b[0m )\n\u001b[0;32m---> <a href='file:///~/.local/share/virtualenvs/cs209b_hw2-Ofuqk_Uo/lib/python3.10/site-packages/theano/tensor/__init__.py?line=19'>20</a>\u001b[0m \u001b[39mfrom\u001b[39;00m \u001b[39mtheano\u001b[39;00m\u001b[39m.\u001b[39;00m\u001b[39mtensor\u001b[39;00m \u001b[39mimport\u001b[39;00m nnet  \u001b[39m# used for softmax, sigmoid, etc.\u001b[39;00m\n\u001b[1;32m     <a href='file:///~/.local/share/virtualenvs/cs209b_hw2-Ofuqk_Uo/lib/python3.10/site-packages/theano/tensor/__init__.py?line=20'>21</a>\u001b[0m \u001b[39mfrom\u001b[39;00m \u001b[39mtheano\u001b[39;00m\u001b[39m.\u001b[39;00m\u001b[39mtensor\u001b[39;00m \u001b[39mimport\u001b[39;00m sharedvar  \u001b[39m# adds shared-variable constructors\u001b[39;00m\n\u001b[1;32m     <a href='file:///~/.local/share/virtualenvs/cs209b_hw2-Ofuqk_Uo/lib/python3.10/site-packages/theano/tensor/__init__.py?line=21'>22</a>\u001b[0m \u001b[39mfrom\u001b[39;00m \u001b[39mtheano\u001b[39;00m\u001b[39m.\u001b[39;00m\u001b[39mtensor\u001b[39;00m \u001b[39mimport\u001b[39;00m (\n\u001b[1;32m     <a href='file:///~/.local/share/virtualenvs/cs209b_hw2-Ofuqk_Uo/lib/python3.10/site-packages/theano/tensor/__init__.py?line=22'>23</a>\u001b[0m     blas,\n\u001b[1;32m     <a href='file:///~/.local/share/virtualenvs/cs209b_hw2-Ofuqk_Uo/lib/python3.10/site-packages/theano/tensor/__init__.py?line=23'>24</a>\u001b[0m     blas_c,\n\u001b[0;32m   (...)\u001b[0m\n\u001b[1;32m     <a href='file:///~/.local/share/virtualenvs/cs209b_hw2-Ofuqk_Uo/lib/python3.10/site-packages/theano/tensor/__init__.py?line=28'>29</a>\u001b[0m     xlogx,\n\u001b[1;32m     <a href='file:///~/.local/share/virtualenvs/cs209b_hw2-Ofuqk_Uo/lib/python3.10/site-packages/theano/tensor/__init__.py?line=29'>30</a>\u001b[0m )\n",
      "File \u001b[0;32m~/.local/share/virtualenvs/cs209b_hw2-Ofuqk_Uo/lib/python3.10/site-packages/theano/tensor/nnet/__init__.py:3\u001b[0m, in \u001b[0;36m<module>\u001b[0;34m\u001b[0m\n\u001b[1;32m      <a href='file:///~/.local/share/virtualenvs/cs209b_hw2-Ofuqk_Uo/lib/python3.10/site-packages/theano/tensor/nnet/__init__.py?line=0'>1</a>\u001b[0m \u001b[39mimport\u001b[39;00m \u001b[39mwarnings\u001b[39;00m\n\u001b[0;32m----> <a href='file:///~/.local/share/virtualenvs/cs209b_hw2-Ofuqk_Uo/lib/python3.10/site-packages/theano/tensor/nnet/__init__.py?line=2'>3</a>\u001b[0m \u001b[39mfrom\u001b[39;00m \u001b[39m.\u001b[39;00m \u001b[39mimport\u001b[39;00m opt\n\u001b[1;32m      <a href='file:///~/.local/share/virtualenvs/cs209b_hw2-Ofuqk_Uo/lib/python3.10/site-packages/theano/tensor/nnet/__init__.py?line=3'>4</a>\u001b[0m \u001b[39mfrom\u001b[39;00m \u001b[39m.\u001b[39;00m\u001b[39mabstract_conv\u001b[39;00m \u001b[39mimport\u001b[39;00m conv2d \u001b[39mas\u001b[39;00m abstract_conv2d\n\u001b[1;32m      <a href='file:///~/.local/share/virtualenvs/cs209b_hw2-Ofuqk_Uo/lib/python3.10/site-packages/theano/tensor/nnet/__init__.py?line=4'>5</a>\u001b[0m \u001b[39mfrom\u001b[39;00m \u001b[39m.\u001b[39;00m\u001b[39mabstract_conv\u001b[39;00m \u001b[39mimport\u001b[39;00m conv2d_grad_wrt_inputs, conv3d, separable_conv2d\n",
      "File \u001b[0;32m~/.local/share/virtualenvs/cs209b_hw2-Ofuqk_Uo/lib/python3.10/site-packages/theano/tensor/nnet/opt.py:32\u001b[0m, in \u001b[0;36m<module>\u001b[0;34m\u001b[0m\n\u001b[1;32m     <a href='file:///~/.local/share/virtualenvs/cs209b_hw2-Ofuqk_Uo/lib/python3.10/site-packages/theano/tensor/nnet/opt.py?line=23'>24</a>\u001b[0m \u001b[39mfrom\u001b[39;00m \u001b[39mtheano\u001b[39;00m\u001b[39m.\u001b[39;00m\u001b[39mtensor\u001b[39;00m\u001b[39m.\u001b[39;00m\u001b[39mnnet\u001b[39;00m\u001b[39m.\u001b[39;00m\u001b[39mblocksparse\u001b[39;00m \u001b[39mimport\u001b[39;00m (\n\u001b[1;32m     <a href='file:///~/.local/share/virtualenvs/cs209b_hw2-Ofuqk_Uo/lib/python3.10/site-packages/theano/tensor/nnet/opt.py?line=24'>25</a>\u001b[0m     SparseBlockGemv,\n\u001b[1;32m     <a href='file:///~/.local/share/virtualenvs/cs209b_hw2-Ofuqk_Uo/lib/python3.10/site-packages/theano/tensor/nnet/opt.py?line=25'>26</a>\u001b[0m     SparseBlockOuter,\n\u001b[1;32m     <a href='file:///~/.local/share/virtualenvs/cs209b_hw2-Ofuqk_Uo/lib/python3.10/site-packages/theano/tensor/nnet/opt.py?line=26'>27</a>\u001b[0m     sparse_block_gemv_inplace,\n\u001b[1;32m     <a href='file:///~/.local/share/virtualenvs/cs209b_hw2-Ofuqk_Uo/lib/python3.10/site-packages/theano/tensor/nnet/opt.py?line=27'>28</a>\u001b[0m     sparse_block_outer_inplace,\n\u001b[1;32m     <a href='file:///~/.local/share/virtualenvs/cs209b_hw2-Ofuqk_Uo/lib/python3.10/site-packages/theano/tensor/nnet/opt.py?line=28'>29</a>\u001b[0m )\n\u001b[1;32m     <a href='file:///~/.local/share/virtualenvs/cs209b_hw2-Ofuqk_Uo/lib/python3.10/site-packages/theano/tensor/nnet/opt.py?line=30'>31</a>\u001b[0m \u001b[39m# Cpu implementation\u001b[39;00m\n\u001b[0;32m---> <a href='file:///~/.local/share/virtualenvs/cs209b_hw2-Ofuqk_Uo/lib/python3.10/site-packages/theano/tensor/nnet/opt.py?line=31'>32</a>\u001b[0m \u001b[39mfrom\u001b[39;00m \u001b[39mtheano\u001b[39;00m\u001b[39m.\u001b[39;00m\u001b[39mtensor\u001b[39;00m\u001b[39m.\u001b[39;00m\u001b[39mnnet\u001b[39;00m\u001b[39m.\u001b[39;00m\u001b[39mconv\u001b[39;00m \u001b[39mimport\u001b[39;00m ConvOp, conv2d\n\u001b[1;32m     <a href='file:///~/.local/share/virtualenvs/cs209b_hw2-Ofuqk_Uo/lib/python3.10/site-packages/theano/tensor/nnet/opt.py?line=32'>33</a>\u001b[0m \u001b[39mfrom\u001b[39;00m \u001b[39mtheano\u001b[39;00m\u001b[39m.\u001b[39;00m\u001b[39mtensor\u001b[39;00m\u001b[39m.\u001b[39;00m\u001b[39mnnet\u001b[39;00m\u001b[39m.\u001b[39;00m\u001b[39mcorr\u001b[39;00m \u001b[39mimport\u001b[39;00m CorrMM, CorrMM_gradInputs, CorrMM_gradWeights\n\u001b[1;32m     <a href='file:///~/.local/share/virtualenvs/cs209b_hw2-Ofuqk_Uo/lib/python3.10/site-packages/theano/tensor/nnet/opt.py?line=33'>34</a>\u001b[0m \u001b[39mfrom\u001b[39;00m \u001b[39mtheano\u001b[39;00m\u001b[39m.\u001b[39;00m\u001b[39mtensor\u001b[39;00m\u001b[39m.\u001b[39;00m\u001b[39mnnet\u001b[39;00m\u001b[39m.\u001b[39;00m\u001b[39mcorr3d\u001b[39;00m \u001b[39mimport\u001b[39;00m Corr3dMM, Corr3dMMGradInputs, Corr3dMMGradWeights\n",
      "File \u001b[0;32m~/.local/share/virtualenvs/cs209b_hw2-Ofuqk_Uo/lib/python3.10/site-packages/theano/tensor/nnet/conv.py:20\u001b[0m, in \u001b[0;36m<module>\u001b[0;34m\u001b[0m\n\u001b[1;32m     <a href='file:///~/.local/share/virtualenvs/cs209b_hw2-Ofuqk_Uo/lib/python3.10/site-packages/theano/tensor/nnet/conv.py?line=17'>18</a>\u001b[0m \u001b[39mfrom\u001b[39;00m \u001b[39mtheano\u001b[39;00m\u001b[39m.\u001b[39;00m\u001b[39mgraph\u001b[39;00m\u001b[39m.\u001b[39;00m\u001b[39mbasic\u001b[39;00m \u001b[39mimport\u001b[39;00m Apply\n\u001b[1;32m     <a href='file:///~/.local/share/virtualenvs/cs209b_hw2-Ofuqk_Uo/lib/python3.10/site-packages/theano/tensor/nnet/conv.py?line=18'>19</a>\u001b[0m \u001b[39mfrom\u001b[39;00m \u001b[39mtheano\u001b[39;00m\u001b[39m.\u001b[39;00m\u001b[39mgraph\u001b[39;00m\u001b[39m.\u001b[39;00m\u001b[39mop\u001b[39;00m \u001b[39mimport\u001b[39;00m OpenMPOp\n\u001b[0;32m---> <a href='file:///~/.local/share/virtualenvs/cs209b_hw2-Ofuqk_Uo/lib/python3.10/site-packages/theano/tensor/nnet/conv.py?line=19'>20</a>\u001b[0m \u001b[39mfrom\u001b[39;00m \u001b[39mtheano\u001b[39;00m\u001b[39m.\u001b[39;00m\u001b[39mtensor\u001b[39;00m \u001b[39mimport\u001b[39;00m blas\n\u001b[1;32m     <a href='file:///~/.local/share/virtualenvs/cs209b_hw2-Ofuqk_Uo/lib/python3.10/site-packages/theano/tensor/nnet/conv.py?line=20'>21</a>\u001b[0m \u001b[39mfrom\u001b[39;00m \u001b[39mtheano\u001b[39;00m\u001b[39m.\u001b[39;00m\u001b[39mtensor\u001b[39;00m\u001b[39m.\u001b[39;00m\u001b[39mbasic\u001b[39;00m \u001b[39mimport\u001b[39;00m (\n\u001b[1;32m     <a href='file:///~/.local/share/virtualenvs/cs209b_hw2-Ofuqk_Uo/lib/python3.10/site-packages/theano/tensor/nnet/conv.py?line=21'>22</a>\u001b[0m     NotScalarConstantError,\n\u001b[1;32m     <a href='file:///~/.local/share/virtualenvs/cs209b_hw2-Ofuqk_Uo/lib/python3.10/site-packages/theano/tensor/nnet/conv.py?line=22'>23</a>\u001b[0m     as_tensor_variable,\n\u001b[1;32m     <a href='file:///~/.local/share/virtualenvs/cs209b_hw2-Ofuqk_Uo/lib/python3.10/site-packages/theano/tensor/nnet/conv.py?line=23'>24</a>\u001b[0m     get_scalar_constant_value,\n\u001b[1;32m     <a href='file:///~/.local/share/virtualenvs/cs209b_hw2-Ofuqk_Uo/lib/python3.10/site-packages/theano/tensor/nnet/conv.py?line=24'>25</a>\u001b[0m     patternbroadcast,\n\u001b[1;32m     <a href='file:///~/.local/share/virtualenvs/cs209b_hw2-Ofuqk_Uo/lib/python3.10/site-packages/theano/tensor/nnet/conv.py?line=25'>26</a>\u001b[0m )\n\u001b[1;32m     <a href='file:///~/.local/share/virtualenvs/cs209b_hw2-Ofuqk_Uo/lib/python3.10/site-packages/theano/tensor/nnet/conv.py?line=26'>27</a>\u001b[0m \u001b[39mfrom\u001b[39;00m \u001b[39mtheano\u001b[39;00m\u001b[39m.\u001b[39;00m\u001b[39mtensor\u001b[39;00m\u001b[39m.\u001b[39;00m\u001b[39mnnet\u001b[39;00m\u001b[39m.\u001b[39;00m\u001b[39mabstract_conv\u001b[39;00m \u001b[39mimport\u001b[39;00m get_conv_output_shape, get_conv_shape_1axis\n",
      "File \u001b[0;32m~/.local/share/virtualenvs/cs209b_hw2-Ofuqk_Uo/lib/python3.10/site-packages/theano/tensor/blas.py:163\u001b[0m, in \u001b[0;36m<module>\u001b[0;34m\u001b[0m\n\u001b[1;32m    <a href='file:///~/.local/share/virtualenvs/cs209b_hw2-Ofuqk_Uo/lib/python3.10/site-packages/theano/tensor/blas.py?line=160'>161</a>\u001b[0m \u001b[39mfrom\u001b[39;00m \u001b[39mtheano\u001b[39;00m\u001b[39m.\u001b[39;00m\u001b[39mscalar\u001b[39;00m \u001b[39mimport\u001b[39;00m \u001b[39mbool\u001b[39m \u001b[39mas\u001b[39;00m bool_t\n\u001b[1;32m    <a href='file:///~/.local/share/virtualenvs/cs209b_hw2-Ofuqk_Uo/lib/python3.10/site-packages/theano/tensor/blas.py?line=161'>162</a>\u001b[0m \u001b[39mfrom\u001b[39;00m \u001b[39mtheano\u001b[39;00m\u001b[39m.\u001b[39;00m\u001b[39mtensor\u001b[39;00m \u001b[39mimport\u001b[39;00m basic \u001b[39mas\u001b[39;00m tt\n\u001b[0;32m--> <a href='file:///~/.local/share/virtualenvs/cs209b_hw2-Ofuqk_Uo/lib/python3.10/site-packages/theano/tensor/blas.py?line=162'>163</a>\u001b[0m \u001b[39mfrom\u001b[39;00m \u001b[39mtheano\u001b[39;00m\u001b[39m.\u001b[39;00m\u001b[39mtensor\u001b[39;00m\u001b[39m.\u001b[39;00m\u001b[39mblas_headers\u001b[39;00m \u001b[39mimport\u001b[39;00m blas_header_text, blas_header_version\n\u001b[1;32m    <a href='file:///~/.local/share/virtualenvs/cs209b_hw2-Ofuqk_Uo/lib/python3.10/site-packages/theano/tensor/blas.py?line=163'>164</a>\u001b[0m \u001b[39mfrom\u001b[39;00m \u001b[39mtheano\u001b[39;00m\u001b[39m.\u001b[39;00m\u001b[39mtensor\u001b[39;00m\u001b[39m.\u001b[39;00m\u001b[39mopt\u001b[39;00m \u001b[39mimport\u001b[39;00m in2out, local_dimshuffle_lift\n\u001b[1;32m    <a href='file:///~/.local/share/virtualenvs/cs209b_hw2-Ofuqk_Uo/lib/python3.10/site-packages/theano/tensor/blas.py?line=164'>165</a>\u001b[0m \u001b[39mfrom\u001b[39;00m \u001b[39mtheano\u001b[39;00m\u001b[39m.\u001b[39;00m\u001b[39mtensor\u001b[39;00m\u001b[39m.\u001b[39;00m\u001b[39mtype\u001b[39;00m \u001b[39mimport\u001b[39;00m values_eq_approx_remove_inf_nan\n",
      "File \u001b[0;32m~/.local/share/virtualenvs/cs209b_hw2-Ofuqk_Uo/lib/python3.10/site-packages/theano/tensor/blas_headers.py:1016\u001b[0m, in \u001b[0;36m<module>\u001b[0;34m\u001b[0m\n\u001b[1;32m    <a href='file:///~/.local/share/virtualenvs/cs209b_hw2-Ofuqk_Uo/lib/python3.10/site-packages/theano/tensor/blas_headers.py?line=996'>997</a>\u001b[0m             header \u001b[39m+\u001b[39m\u001b[39m=\u001b[39m textwrap\u001b[39m.\u001b[39mdedent(\n\u001b[1;32m    <a href='file:///~/.local/share/virtualenvs/cs209b_hw2-Ofuqk_Uo/lib/python3.10/site-packages/theano/tensor/blas_headers.py?line=997'>998</a>\u001b[0m                 \u001b[39m\"\"\"\\\u001b[39;00m\n\u001b[1;32m    <a href='file:///~/.local/share/virtualenvs/cs209b_hw2-Ofuqk_Uo/lib/python3.10/site-packages/theano/tensor/blas_headers.py?line=998'>999</a>\u001b[0m \u001b[39m                    static float sdot_(int* Nx, float* x, int* Sx, float* y, int* Sy)\u001b[39;00m\n\u001b[0;32m   (...)\u001b[0m\n\u001b[1;32m   <a href='file:///~/.local/share/virtualenvs/cs209b_hw2-Ofuqk_Uo/lib/python3.10/site-packages/theano/tensor/blas_headers.py?line=1009'>1010</a>\u001b[0m \u001b[39m                    \"\"\"\u001b[39;00m\n\u001b[1;32m   <a href='file:///~/.local/share/virtualenvs/cs209b_hw2-Ofuqk_Uo/lib/python3.10/site-packages/theano/tensor/blas_headers.py?line=1010'>1011</a>\u001b[0m             )\n\u001b[1;32m   <a href='file:///~/.local/share/virtualenvs/cs209b_hw2-Ofuqk_Uo/lib/python3.10/site-packages/theano/tensor/blas_headers.py?line=1012'>1013</a>\u001b[0m     \u001b[39mreturn\u001b[39;00m header \u001b[39m+\u001b[39m blas_code\n\u001b[0;32m-> <a href='file:///~/.local/share/virtualenvs/cs209b_hw2-Ofuqk_Uo/lib/python3.10/site-packages/theano/tensor/blas_headers.py?line=1015'>1016</a>\u001b[0m \u001b[39mif\u001b[39;00m \u001b[39mnot\u001b[39;00m config\u001b[39m.\u001b[39;49mblas__ldflags:\n\u001b[1;32m   <a href='file:///~/.local/share/virtualenvs/cs209b_hw2-Ofuqk_Uo/lib/python3.10/site-packages/theano/tensor/blas_headers.py?line=1016'>1017</a>\u001b[0m     _logger\u001b[39m.\u001b[39mwarning(\u001b[39m\"\u001b[39m\u001b[39mUsing NumPy C-API based implementation for BLAS functions.\u001b[39m\u001b[39m\"\u001b[39m)\n\u001b[1;32m   <a href='file:///~/.local/share/virtualenvs/cs209b_hw2-Ofuqk_Uo/lib/python3.10/site-packages/theano/tensor/blas_headers.py?line=1019'>1020</a>\u001b[0m \u001b[39mdef\u001b[39;00m \u001b[39mmkl_threads_text\u001b[39m():\n",
      "File \u001b[0;32m~/.local/share/virtualenvs/cs209b_hw2-Ofuqk_Uo/lib/python3.10/site-packages/theano/configparser.py:358\u001b[0m, in \u001b[0;36mConfigParam.__get__\u001b[0;34m(self, cls, type_, delete_key)\u001b[0m\n\u001b[1;32m    <a href='file:///~/.local/share/virtualenvs/cs209b_hw2-Ofuqk_Uo/lib/python3.10/site-packages/theano/configparser.py?line=355'>356</a>\u001b[0m \u001b[39mexcept\u001b[39;00m \u001b[39mKeyError\u001b[39;00m:\n\u001b[1;32m    <a href='file:///~/.local/share/virtualenvs/cs209b_hw2-Ofuqk_Uo/lib/python3.10/site-packages/theano/configparser.py?line=356'>357</a>\u001b[0m     \u001b[39mif\u001b[39;00m callable(\u001b[39mself\u001b[39m\u001b[39m.\u001b[39mdefault):\n\u001b[0;32m--> <a href='file:///~/.local/share/virtualenvs/cs209b_hw2-Ofuqk_Uo/lib/python3.10/site-packages/theano/configparser.py?line=357'>358</a>\u001b[0m         val_str \u001b[39m=\u001b[39m \u001b[39mself\u001b[39;49m\u001b[39m.\u001b[39;49mdefault()\n\u001b[1;32m    <a href='file:///~/.local/share/virtualenvs/cs209b_hw2-Ofuqk_Uo/lib/python3.10/site-packages/theano/configparser.py?line=358'>359</a>\u001b[0m     \u001b[39melse\u001b[39;00m:\n\u001b[1;32m    <a href='file:///~/.local/share/virtualenvs/cs209b_hw2-Ofuqk_Uo/lib/python3.10/site-packages/theano/configparser.py?line=359'>360</a>\u001b[0m         val_str \u001b[39m=\u001b[39m \u001b[39mself\u001b[39m\u001b[39m.\u001b[39mdefault\n",
      "File \u001b[0;32m~/.local/share/virtualenvs/cs209b_hw2-Ofuqk_Uo/lib/python3.10/site-packages/theano/link/c/cmodule.py:2621\u001b[0m, in \u001b[0;36mdefault_blas_ldflags\u001b[0;34m()\u001b[0m\n\u001b[1;32m   <a href='file:///~/.local/share/virtualenvs/cs209b_hw2-Ofuqk_Uo/lib/python3.10/site-packages/theano/link/c/cmodule.py?line=2616'>2617</a>\u001b[0m \u001b[39mtry\u001b[39;00m:\n\u001b[1;32m   <a href='file:///~/.local/share/virtualenvs/cs209b_hw2-Ofuqk_Uo/lib/python3.10/site-packages/theano/link/c/cmodule.py?line=2617'>2618</a>\u001b[0m     \u001b[39mif\u001b[39;00m \u001b[39mhasattr\u001b[39m(numpy\u001b[39m.\u001b[39mdistutils, \u001b[39m\"\u001b[39m\u001b[39m__config__\u001b[39m\u001b[39m\"\u001b[39m) \u001b[39mand\u001b[39;00m numpy\u001b[39m.\u001b[39mdistutils\u001b[39m.\u001b[39m__config__:\n\u001b[1;32m   <a href='file:///~/.local/share/virtualenvs/cs209b_hw2-Ofuqk_Uo/lib/python3.10/site-packages/theano/link/c/cmodule.py?line=2618'>2619</a>\u001b[0m         \u001b[39m# If the old private interface is available use it as it\u001b[39;00m\n\u001b[1;32m   <a href='file:///~/.local/share/virtualenvs/cs209b_hw2-Ofuqk_Uo/lib/python3.10/site-packages/theano/link/c/cmodule.py?line=2619'>2620</a>\u001b[0m         \u001b[39m# don't print information to the user.\u001b[39;00m\n\u001b[0;32m-> <a href='file:///~/.local/share/virtualenvs/cs209b_hw2-Ofuqk_Uo/lib/python3.10/site-packages/theano/link/c/cmodule.py?line=2620'>2621</a>\u001b[0m         blas_info \u001b[39m=\u001b[39m numpy\u001b[39m.\u001b[39;49mdistutils\u001b[39m.\u001b[39;49m__config__\u001b[39m.\u001b[39;49mblas_opt_info\n\u001b[1;32m   <a href='file:///~/.local/share/virtualenvs/cs209b_hw2-Ofuqk_Uo/lib/python3.10/site-packages/theano/link/c/cmodule.py?line=2621'>2622</a>\u001b[0m     \u001b[39melse\u001b[39;00m:\n\u001b[1;32m   <a href='file:///~/.local/share/virtualenvs/cs209b_hw2-Ofuqk_Uo/lib/python3.10/site-packages/theano/link/c/cmodule.py?line=2622'>2623</a>\u001b[0m         \u001b[39m# We do this import only here, as in some setup, if we\u001b[39;00m\n\u001b[1;32m   <a href='file:///~/.local/share/virtualenvs/cs209b_hw2-Ofuqk_Uo/lib/python3.10/site-packages/theano/link/c/cmodule.py?line=2623'>2624</a>\u001b[0m         \u001b[39m# just import theano and exit, with the import at global\u001b[39;00m\n\u001b[0;32m   (...)\u001b[0m\n\u001b[1;32m   <a href='file:///~/.local/share/virtualenvs/cs209b_hw2-Ofuqk_Uo/lib/python3.10/site-packages/theano/link/c/cmodule.py?line=2629'>2630</a>\u001b[0m         \u001b[39m# This happen with Python 2.7.3 |EPD 7.3-1 and numpy 1.8.1\u001b[39;00m\n\u001b[1;32m   <a href='file:///~/.local/share/virtualenvs/cs209b_hw2-Ofuqk_Uo/lib/python3.10/site-packages/theano/link/c/cmodule.py?line=2630'>2631</a>\u001b[0m         \u001b[39m# isort: off\u001b[39;00m\n\u001b[1;32m   <a href='file:///~/.local/share/virtualenvs/cs209b_hw2-Ofuqk_Uo/lib/python3.10/site-packages/theano/link/c/cmodule.py?line=2631'>2632</a>\u001b[0m         \u001b[39mimport\u001b[39;00m \u001b[39mnumpy\u001b[39;00m\u001b[39m.\u001b[39;00m\u001b[39mdistutils\u001b[39;00m\u001b[39m.\u001b[39;00m\u001b[39msystem_info\u001b[39;00m  \u001b[39m# noqa\u001b[39;00m\n",
      "\u001b[0;31mAttributeError\u001b[0m: module 'numpy.distutils.__config__' has no attribute 'blas_opt_info'"
     ]
    }
   ],
   "source": [
    "import random\n",
    "from datetime import datetime as dt\n",
    "\n",
    "import arviz as az\n",
    "import matplotlib.pyplot as plt\n",
    "import numpy as np\n",
    "import pandas as pd\n",
    "import pymc3 as pm\n",
    "from scipy.special import expit\n",
    "\n",
    "%matplotlib inline\n",
    "\n",
    "print(f\"Using PyMC3 version: {pm.__version__}\")\n",
    "print(f\"Using ArviZ version: {az.__version__}\")"
   ]
  },
  {
   "cell_type": "code",
   "execution_count": 18,
   "metadata": {},
   "outputs": [],
   "source": [
    "# Ignore a common pymc3 warning that comes from library functions, not our code.\n",
    "# Pymc3 may throw additional warnings, but other warnings should be manageable\n",
    "# by following the instructions included within the warning messages.\n",
    "import warnings\n",
    "\n",
    "messages=[\n",
    "    \"Using `from_pymc3` without the model will be deprecated in a future release\",\n",
    "]\n",
    "\n",
    "for m in messages:\n",
    "    warnings.filterwarnings(\"ignore\", message=m)\n",
    "    "
   ]
  },
  {
   "cell_type": "markdown",
   "metadata": {},
   "source": [
    "<a id=\"contents\"></a>\n",
    "\n",
    "## Notebook Contents\n",
    "\n",
    "- [**Part 1: Rejection sampling and the weighted bootstrap**](#part1)\n",
    "  - [Overview](#part1intro)\n",
    "  - [Questions](#part1questions)\n",
    "  - [Solutions](#part1solutions)\n",
    "\n",
    "\n",
    "- [**Part 2: Bayesian Logistic Regression and Varying-Intercepts Model**](#part2)\n",
    "  - [Overview](#part2intro)\n",
    "  - [Questions](#part2questions)\n",
    "  - [Solutions](#part2solutions)\n",
    "\n",
    "\n",
    "- [**Part 3: Varying-Coefficients Model and Model Selection**](#part3)\n",
    "  - [Overview](#part3intro)\n",
    "  - [Questions](#part3questions)\n",
    "  - [Solutions](#part3solutions)\n"
   ]
  },
  {
   "cell_type": "markdown",
   "metadata": {},
   "source": [
    "## Dataset Information"
   ]
  },
  {
   "cell_type": "markdown",
   "metadata": {},
   "source": [
    "### Contraceptive Usage by Bangladeshi Women\n",
    "\n",
    "For this assignment, you are provided with data sets `dataset_2_train.csv` and `dataset_2_test.csv`containing details of contraceptive usage by 1,934 Bangladeshi women.\n",
    "\n",
    "There are four attributes for each woman, along with a label `contraceptive_use` indicating if she uses contraceptives. The attributes include:\n",
    "\n",
    "* `district`: identifying code for the district the woman lives in\n",
    "* `urban`: type of region of residence\n",
    "* `living.children`: number of living children\n",
    "* `age-mean`: age of the woman (in years, centered around mean)\n",
    "\n",
    "The women are grouped into 60 districts. The task is to build a classification model that can predict if a given woman uses contraceptives.\n"
   ]
  },
  {
   "cell_type": "markdown",
   "metadata": {},
   "source": [
    "<a id=\"part1\"></a>\n",
    "    \n",
    "<!-- <div class=\"alert alert-block alert-danger\" style=\"color:black;background-color:#E7F4FA\"> -->\n",
    "\n",
    "# Part 1:  Rejection sampling and the weighted bootstrap\n",
    "\n",
    "[Return to contents](#contents)"
   ]
  },
  {
   "cell_type": "markdown",
   "metadata": {},
   "source": [
    "<a id=\"part1intro\"></a>\n",
    "\n",
    "## Overview \n",
    "\n",
    "[Return to contents](#contents)\n",
    "\n",
    "For the first part of the problem, we will only work with the label `contraceptive_use` and ignore all the attributes.  Let $Y_i$ be 1 if woman $i$ uses contraceptives, and 0 otherwise.  Assume a Bernoulli model for the data:\n",
    "\n",
    "$$Y_{i} \\sim \\text{Bernoulli}(\\theta)$$\n",
    "\n",
    "where $i=1,\\ldots,N$, with $N$ being the number of observations in the training data set, and $\\theta$ is the unknown probability a woman uses contraception.  We will assume the following prior distribution on $\\theta$:\n",
    "\n",
    "$$\\theta \\sim \\text{Normal}(0.5, 0.5^2)$$\n",
    "\n",
    "subject to $0 \\leq \\theta \\leq 1$.  This is sometimes called a truncated normal distribution.  A value from this distribution can be randomly drawn by simulating a value from $\\text{Normal}(0.5, 0.5^2)$ and then keeping it if the value is between 0 and 1, and trying again if it is outside this range.  In fact, this is a form of rejection sampling.  The density for the truncated normal distribution is\n",
    "\n",
    "$$p(\\theta) = c\\times\\frac{1}{\\sqrt{2\\pi (0.5)^2}} \\: \\exp\\left(\\frac{-1}{2(0.5)^2}(\\theta-0.5)^2\\right) \\; \\text{for} \\; 0\\leq \\theta \\leq 1 \\; \\text{, and} \\; 0 \\; \\text{otherwise,}$$\n",
    "\n",
    "where $c$ is a normalizing constant that does not depend on $\\theta$."
   ]
  },
  {
   "cell_type": "markdown",
   "metadata": {},
   "source": [
    "<a id=\"part1questions\"></a>\n",
    "\n",
    "### <div class='exercise'>Part 1: Questions</div> \n",
    "\n",
    "[Return to contents](#contents)\n",
    "\n",
    "**1.1** Given the training data, what is the likelihood function $L(\\theta | y_1,\\ldots,y_n)$?  What is the MLE of $\\theta$ as a function of the $y_1,\\ldots,y_n$?  Compute the MLE from the data.\n",
    "\n",
    "**1.2** Using rejection sampling, simulate a sample of 10,000 accepted values $\\theta$ from the posterior distribution.  Plot a histogram of these values, and provide numerical summaries of the distribution of the 10,000 values. Interpret your findings.\n",
    "\n",
    "**Note: make sure $\\theta$ only takes on values which are valid for the parameter it represents and that all samples that do not pass the sampling criterion are rejected. Consult the lecture notes on rejection sampling if you need to review this criterion.**\n",
    "\n",
    "**1.3** Carry out the weighted bootstrap to simulate 1,000 values of $\\theta$ from the posterior distribution.  In doing so, simulate 10,000 values from the prior distribution to use as the discrete distribution from which the posterior draws will be simulated via the importance weights.  As above, plot a histogram of these values, and provide numerical summaries of the distribution of 1,000 values.  Interpret the results, and compare to the results of rejection sampling.\n"
   ]
  },
  {
   "cell_type": "markdown",
   "metadata": {},
   "source": [
    "<a id=\"part1solutions\"></a>\n",
    "\n",
    "## Part 1: Solutions\n",
    "\n",
    "[Return to contents](#contents)"
   ]
  },
  {
   "cell_type": "markdown",
   "metadata": {},
   "source": [
    "### Helper Functions\n"
   ]
  },
  {
   "cell_type": "code",
   "execution_count": 136,
   "metadata": {},
   "outputs": [],
   "source": [
    "from scipy import stats\n",
    "def read_data(filename = 'data/dataset_2_train.csv'):\n",
    "    data = pd.read_csv(filename)\n",
    "    return data\n",
    "\n",
    "\n",
    "def trunc_normal(n = 10, mean = 0.5, std_dev = 0.5, min = 0, max = 1):\n",
    "    '''\n",
    "    Returns n from a normal distribution ~N(mean, std_dev^2) truncated between min and max\n",
    "    '''\n",
    "    x_trunc = []\n",
    "    while len(x_trunc) < n:\n",
    "        x = np.random.normal(loc=mean, scale = std_dev)\n",
    "        if (x >=min and x<=max):\n",
    "            x_trunc.append(x)\n",
    "        \n",
    "    if len(x_trunc) == 1:\n",
    "        return x_trunc[0]\n",
    "    \n",
    "    return x_trunc\n",
    "\n"
   ]
  },
  {
   "cell_type": "markdown",
   "metadata": {},
   "source": [
    "<div class='exercise-r'>\n",
    "\n",
    "**1.1.a**  Given the training data, what is the likelihood function $L(\\theta | y_1,\\ldots,y_n)$?  \n",
    "\n",
    "\n",
    "\n",
    "</div>"
   ]
  },
  {
   "cell_type": "markdown",
   "metadata": {},
   "source": [
    "#### Answer\n",
    "\n",
    "Per the problem statement:\n",
    "$$\n",
    "Y_i = \n",
    "\\begin{cases}\n",
    "1    &\\text {if the $i$-th woman uses contraceptives} \\\\\n",
    "0 & \\text {otherwise}\n",
    "\\end{cases}\n",
    "$$\n",
    "\n",
    "We know that the probability model for a Bernoulli distribution is as follows:\n",
    "\n",
    "\n",
    "$$\n",
    "P(Y_i = y | \\theta)=\n",
    "\\begin{cases}\n",
    "\\theta    &\\text {for } y = 1\\\\\n",
    "1 - \\theta & \\text {for } y=0\\\\\n",
    "\\end{cases}\n",
    "$$\n",
    "\n",
    "Equivalent to:\n",
    "\\begin{aligned}\n",
    "P(Y_i = y | \\theta)\n",
    "&= \\theta^{y_i} (1-\\theta)^{1-y_i}\n",
    "\\end{aligned}\n",
    "\n",
    "Where $\\theta$ is the unknown probability a woman uses contraception.\n",
    "\n",
    "We get the likelihood function by calculating the probability of the data conditional on $\\theta$, viewed as a function of the parameter:\n",
    "\\begin{aligned}\n",
    "L(\\theta | y_1, y_2, ... , y_n)\n",
    "&=p(y_1, y_2, ... , y_n | \\theta)\\\\\n",
    "&= P(Y_1 = y_1 | \\theta) \\cdot P(Y_2 = y_2 | \\theta) \\cdot \\ldots P(Y_n = y_n | \\theta) \\\\ \n",
    "&= \\prod_{i=1}^n P(Y_i = y_i | \\theta) \\\\\n",
    "&= \\prod_{i=1}^n\\theta^{y_i}  (1-\\theta)^{1-y_i}\n",
    "\\end{aligned}\n",
    "\n"
   ]
  },
  {
   "cell_type": "markdown",
   "metadata": {},
   "source": [
    "<div class='exercise-r'>\n",
    "\n",
    "**1.1.b**   What is the MLE of $\\theta$ as a function of the $y_1,\\ldots,y_n$?  Compute the MLE from the data.\n",
    "\n",
    "</div>"
   ]
  },
  {
   "cell_type": "markdown",
   "metadata": {},
   "source": [
    "\n",
    "#### Answer\n",
    "We will take the log of $L(\\theta | y_1, y_2, ... , y_n)$ because it simplifies working with the expression:\n",
    "\n",
    "\\begin{aligned}\n",
    "\\ln({L(\\theta | y_1, y_2, ... , y_n)})\n",
    "&= \\ln \\left(\\prod_{i=1}^n\\ \\theta^{y_i}  (1-\\theta)^{1-y_i}  \\right)\\\\\n",
    "&= \\sum_{i=1}^n \\left[ y_i \\ln{\\theta} + (1-y_i) \\ln{(1-\\theta)} \\right]\\\\\n",
    "&=  \\left(y_1 \\ln(\\theta) + (1-y_1) \\ln(1-\\theta) \\right)  + \\ldots + \\left( y_n \\ln(\\theta) + (1-y_n) \\ln(1-\\theta) \\right)\\\\\n",
    "&=(y_1 + y_2 + ... + y_n)  \\cdot \\ln(\\theta) + [n - (y_1 + y_2 + ... + y_n)]\\cdot \\ln(1-\\theta) \n",
    "\\end{aligned}\n",
    "\n",
    "\n",
    "Letting $Y_i = (y_1 + y_2 + ... + y_n)$: \n",
    "\\begin{aligned}\n",
    "\\ln({L(\\theta | Y_i)}) \n",
    "&=(Y_i)  \\cdot \\ln(\\theta) + [n - Y_i]\\cdot \\ln(1-\\theta) \n",
    "\\end{aligned}\n",
    "\n",
    "The MLE is occurs at a value of \\theta where:\n",
    "\n",
    "\\begin{aligned}\n",
    "0  \n",
    "&= \\frac{d\\ln({L(\\theta | Y_i)}}{d\\theta} \\\\\n",
    "&=\\frac{d} {d\\theta} \\left[(Y_i)  \\cdot \\ln(\\theta) + [n - Y_i]\\cdot \\ln(1-\\theta) \\right] \\\\ 0\n",
    "&=  \\frac{Y_i}{\\theta} - \\frac{n - Y_i}{1-\\theta} \n",
    "\\end{aligned}\n",
    "\n",
    "Finally we solve for $\\theta_{MLE}$:\n",
    "$$\n",
    "\\theta_{MLE} = \\frac{Y_i}{n} = \\frac{y_1 + y_2 + ... + y_n} {n}\n",
    "$$ \n"
   ]
  },
  {
   "cell_type": "markdown",
   "metadata": {},
   "source": [
    "<div class='exercise-r'>\n",
    "\n",
    "**1.1.c**   Compute the MLE from the data.\n",
    "\n",
    "</div>"
   ]
  },
  {
   "cell_type": "code",
   "execution_count": 13,
   "metadata": {},
   "outputs": [
    {
     "name": "stdout",
     "output_type": "stream",
     "text": [
      "The MLE is 0.3899\n"
     ]
    }
   ],
   "source": [
    "df = read_data()\n",
    "n = df.shape[0]\n",
    "y_i = df['contraceptive_use'].sum()\n",
    "mle = y_i/n\n",
    "print(f'The MLE is {mle:.4f}')"
   ]
  },
  {
   "cell_type": "markdown",
   "metadata": {},
   "source": [
    "<div class='exercise-r'>\n",
    "\n",
    "**1.2**  Using rejection sampling, simulate a sample of 10,000 accepted values $\\theta$ from the posterior distribution.  Plot a histogram of these values, and provide numerical summaries of the distribution of the 10,000 values. Interpret your findings.\n",
    "\n",
    "**Note: make sure $\\theta$ only takes on values which are valid for the parameter it represents and that all samples that do not pass the sampling criterion are rejected. Consult the lecture notes on rejection sampling if you need to review this criterion.**\n",
    "\n",
    "\n",
    "\n",
    "</div>"
   ]
  },
  {
   "cell_type": "code",
   "execution_count": 169,
   "metadata": {},
   "outputs": [
    {
     "name": "stdout",
     "output_type": "stream",
     "text": [
      "Data has 967 rows\n",
      "Alpha = 378\n",
      "Beta = 591\n"
     ]
    },
    {
     "data": {
      "image/png": "[encoded data removed]",
      "text/plain": [
       "<Figure size 432x288 with 1 Axes>"
      ]
     },
     "metadata": {
      "needs_background": "light"
     },
     "output_type": "display_data"
    },
    {
     "name": "stdout",
     "output_type": "stream",
     "text": [
      "Summary of 10,000 sampled and accepted values of $\\theta$\n",
      " - Mean = 0.39045\n",
      " - Variance = 0.00025\n",
      " - Std. Dev = 0.01573\n",
      " - Median = 0.39037\n"
     ]
    }
   ],
   "source": [
    "def L(theta, alpha, beta):\n",
    "    l = (theta**(alpha-1)) * ((1-theta)**(beta-1))\n",
    "    return l\n",
    "\n",
    "df = read_data()\n",
    "n = df.shape[0]\n",
    "mle = y_i/n\n",
    "y_i = df['contraceptive_use'].sum()\n",
    "\n",
    "alpha, beta = (y_i+1, n-y_i + 1)\n",
    "\n",
    "\n",
    "print(\"Data has {} rows\".format(n))\n",
    "print(\"Alpha = {}\".format(alpha))\n",
    "print(\"Beta = {}\".format(beta))\n",
    "\n",
    "samples = 10000 # number of samples to draw\n",
    "mu, sigma = (0.5, 0.5)\n",
    "M  = L(mle, alpha, beta)\n",
    "thetas = []\n",
    "\n",
    "while len(thetas) <samples:\n",
    "    # simulate theta from p(theta)\n",
    "    \n",
    "    theta = trunc_normal(n = 1, mean = mu, std_dev = sigma, min = 0, max = 1)\n",
    "    \n",
    "    # generate U from uniform distribution\n",
    "    U = np.random.uniform(0, 1)\n",
    "    \n",
    "    # likelihood\n",
    "    likelihood = L(theta, alpha, beta)\n",
    "    likelihood_M = likelihood/M\n",
    "    \n",
    "    # acceptance check\n",
    "    accept = likelihood_M >= U\n",
    "\n",
    "    if accept:\n",
    "        thetas.append(theta)\n",
    "\n",
    "thetas = np.array(thetas)\n",
    "plt.hist(thetas, bins = 100)\n",
    "plt.ylabel('Count')\n",
    "plt.xlabel('$\\\\theta$')\n",
    "plt.title('Histogram of accepted $\\\\theta$ values from posterior distribution')\n",
    "plt.show()\n",
    "\n",
    "mean = thetas.mean()\n",
    "var = thetas.var()\n",
    "std = thetas.std()\n",
    "median = np.median(thetas)\n",
    "print('Summary of 10,000 sampled and accepted values of $\\\\theta$')\n",
    "print(' - Mean = {:.5f}'.format(mean))\n",
    "print(' - Variance = {:.5f}'.format(var))\n",
    "print(' - Std. Dev = {:.5f}'.format(std))\n",
    "print(' - Median = {:.5f}'.format(median))"
   ]
  },
  {
   "cell_type": "markdown",
   "metadata": {},
   "source": [
    "These simulated results, drawn from the posterior distribution, suggest that the probability that a woman uses contraception is closer to 0.39 than to the 0.5 initially assumed in the prior distribution $\\theta$. \n",
    "Our prior distribution should be updated to $\\theta \\sim \\text{Normal}(0.39, 0.015^2)$"
   ]
  },
  {
   "cell_type": "markdown",
   "metadata": {},
   "source": [
    "<div class='exercise-r'>\n",
    "\n",
    "**1.3**  Carry out the weighted bootstrap to simulate 1,000 values of $\\theta$ from the posterior distribution.  In doing so, simulate 10,000 values from the prior distribution to use as the discrete distribution from which the posterior draws will be simulated via the importance weights.  As above, plot a histogram of these values, and provide numerical summaries of the distribution of 1,000 values.  Interpret the results, and compare to the results of rejection sampling.\n",
    "\n",
    "\n",
    "</div>"
   ]
  },
  {
   "cell_type": "code",
   "execution_count": 194,
   "metadata": {},
   "outputs": [
    {
     "data": {
      "image/png": "[encoded data removed]",
      "text/plain": [
       "<Figure size 432x288 with 1 Axes>"
      ]
     },
     "metadata": {
      "needs_background": "light"
     },
     "output_type": "display_data"
    },
    {
     "name": "stdout",
     "output_type": "stream",
     "text": [
      "Summary of 10,000 sampled and accepted values of $\\theta$\n",
      " - Mean = 0.39027\n",
      " - Variance = 0.00026\n",
      " - Std. Dev = 0.01600\n"
     ]
    }
   ],
   "source": [
    "import random\n",
    "samples = 10000 # number of samples to draw\n",
    "mu, sigma = (0.5, 0.5)\n",
    "thetas = np.array(trunc_normal(n = samples, mean = mu, std_dev = sigma, min = 0, max = 1))\n",
    "likelihood = L(thetas, alpha, beta)\n",
    "weights = likelihood/likelihood.sum()\n",
    "v = random.choices(thetas,weights=weights,k=samples)\n",
    "\n",
    "thetas = np.array(v)\n",
    "plt.hist(thetas, bins = 100)\n",
    "plt.ylabel('Count')\n",
    "plt.xlabel('$\\\\theta$')\n",
    "plt.title('Histogram of accepted $\\\\theta$ values from posterior distribution')\n",
    "plt.show()\n",
    "\n",
    "mean = thetas.mean()\n",
    "var = thetas.var()\n",
    "std = thetas.std()\n",
    "median = np.median(thetas)\n",
    "print('Summary of 10,000 sampled and accepted values of $\\\\theta$')\n",
    "print(' - Mean = {:.5f}'.format(mean))\n",
    "print(' - Variance = {:.5f}'.format(var))\n",
    "print(' - Std. Dev = {:.5f}'.format(std))"
   ]
  },
  {
   "cell_type": "markdown",
   "metadata": {},
   "source": [
    "As with the rejection sampling, with the bootstrap approach we find that the probability that a woman uses contraception is closer to 0.39 than to the 0.5 initially assumed in the prior distribution $\\theta$. The only noticeable difference in the statistics is a slight change in the standard deviation, implying that the bootstrap method brings more uncertainty.\n",
    "Our prior distribution should be updated to $\\theta \\sim \\text{Normal}(0.39, 0.016^2)$"
   ]
  },
  {
   "cell_type": "markdown",
   "metadata": {},
   "source": [
    "<a id=\"part2\"></a>\n",
    "    \n",
    "<!-- <div class=\"alert alert-block alert-danger\" style=\"color:black;background-color:#E7F4FA\"> -->\n",
    "\n",
    "# Part 2: Bayesian Logistic Regression and Varying-Intercepts Model\n",
    "\n",
    "[Return to contents](#contents)\n",
    "\n"
   ]
  },
  {
   "cell_type": "markdown",
   "metadata": {},
   "source": [
    "<a id=\"part2intro\"></a>\n",
    "\n",
    "## Overview \n",
    "\n",
    "[Return to contents](#contents)\n",
    "\n",
    "The second model we will fit to the contraceptives data is a varying-intercept logistic regression model, where the intercept varies by district.\n",
    "\n",
    "Prior distributions:\n",
    "\n",
    "$$\n",
    "\\begin{split}\n",
    "\\beta_{0j} &\\sim N(\\mu_0,\\sigma_0^2)\\; \\text{, with} \\;\\; \\mu_0 \\sim N(0,10000)\\; \\text{and} \\; \\; \\frac{1}{\\sigma^2_0} \\sim \\text{Gamma}(0.1,0.1)\n",
    "\\\\\n",
    "\\beta_1 &\\sim N(0,10000) \n",
    "\\\\ \\\\ \n",
    "\\beta_2 &\\sim N(0,10000)\n",
    "\\\\ \\\\ \n",
    "\\beta_3 &\\sim N(0,10000)\n",
    "\\\\ \\\\\n",
    "\\end{split}\n",
    "$$\n",
    "\n",
    "Model for data:\n",
    "\n",
    "$$\n",
    "\\begin{split}\n",
    "Y_{ij} & \\sim \\text{Bernoulli}(p_{ij})\n",
    "\\\\ \\\\\n",
    "\\text{logit}\\:p_{ij} &= \\beta_{0j} + \\beta_1 \\times \\text{urban} + \\beta_2 \\times \\text{living.children} + \\beta_3 \\times \\text{age-mean}\n",
    "\\\\ \\\\\n",
    "\\end{split}\n",
    "$$\n",
    "\n",
    "Where $Y_{ij}$ is 1 if woman $i$ in district $j$ uses contraceptives, and 0 otherwise, and where $i \\in \\{1,...,N\\}$ and $j \\in \\{1,...,J\\}$. $N$ is the number of observations in the data, and $J$ is the number of districts. The above notation assumes $N(\\mu, \\sigma^2)$ is a Normal distribution with mean $\\mu$ and variance $\\sigma^2$.\n",
    "\n",
    "**PLEASE NOTE:** The $\\text{Gamma}$ distribution cited above, uses the $\\text{Gamma}(\\alpha, \\beta)$ parametrization, where $\\alpha$ is the shape and $\\beta$ is the rate.  "
   ]
  },
  {
   "cell_type": "markdown",
   "metadata": {},
   "source": [
    "<a id=\"part2questions\"></a>\n",
    "\n",
    "### <div class='exercise'>Part 2: Questions</div> \n",
    "\n",
    "[Return to contents](#contents)\n",
    "\n",
    "\n",
    "**2.1** As a preprocessing step, map the district number 61 to the number 54 so that the numbering is consecutive with no gaps. Also, re-name district 60 to be district 0 so that the districts are now numbered 0 through 59. **We use this numbering throughout the homework, and will grade using these district numbers**\n",
    "\n",
    "**2.2** We should verify that pymc3 can indeed recover the hidden parameter values. To do this, we'll hard-code known values of our choosing for the model parameters and simulate data from the model. Then, using this simulated data, we'll check if pymc3 can get back the parameter values we hard-coded. If it does, we'll have hope that it can get the hidden parameter values that generated the real data.\n",
    "\n",
    "**Note: These hard-coded parameters will be used in question 2.2 - 2.5**.\n",
    "\n",
    "Use the following hard-coded values:\n",
    "\n",
    "$$\n",
    "\\begin{split}\n",
    "\\mu_0 &= 2\n",
    "\\\\ \\\\\n",
    "\\sigma^2_0 &= 1\n",
    "\\\\ \\\\\n",
    "\\beta_{0j} &\\sim N(\\mu_0,\\sigma_0^2) \\; \\text{for all sixty districts}\n",
    "\\\\ \\\\\n",
    "\\beta_1 &= 4\n",
    "\\\\ \\\\ \n",
    "\\beta_2 &= -3\n",
    "\\\\ \\\\\n",
    "\\beta_3 &= -2\n",
    "\\\\ \\\\\n",
    "\\end{split}\n",
    "$$\n",
    "\n",
    "**Verify that these parameters generate data in which an average of 46 to 48 percent of subjects use contraceptives.**\n",
    "\n",
    "**2.3** Fit the varying-intercept model specified above to your simulated data. Reasonably good convergence may require adjustments to the number of tuning samples and the target acceptance rate as suggested in pymc3's warnings.\n",
    "\n",
    "**2.4** Plot the trace plots of the MCMC sampler for the parameters $\\mu_0, \\frac{1}{\\sigma^2_0}\\text{ (a.k.a., }\\tau_0\\text{)}, \\beta_1, \\beta_2, \\beta_3$. Based on these and the R-hat values, does it look like the samplers converged?\n",
    "\n",
    "**2.5** Plot histograms of the posterior distributions for the parameters $\\beta_{0,9}$, $\\beta_{0,19}$, $\\beta_{0,29}$, ..., $\\beta_{0,59}$. Are the actual parameters that you generated contained within these posterior distributions?\n",
    "\n",
    "**Hint: The `az.plot_posterior()` function might be helpful here.**\n",
    "\n",
    "**2.6** We now fit our model to the *actual* data. Fit the varying-intercept model to the real training data.\n",
    "\n",
    "**2.7** Check the convergence by examining the trace plots and R-hats, as you did with the simulated data. What do you observe?\n",
    "\n",
    "**2.8** Based on the posterior means, which district has the highest base rate of contraceptive usage (independent of other factors like urban population)? Which district has the lowest?\n",
    "\n",
    "**2.9** What are the posterior means of $\\mu_0$ and $\\sigma_0$? Do these values offer any evidence in support of or against the varying-intercept model, compared to a model with a single intercept value for all districts?"
   ]
  },
  {
   "cell_type": "markdown",
   "metadata": {
    "tags": []
   },
   "source": [
    "<a id=\"part2solutions\"></a>\n",
    "\n",
    "## Part 2: Solutions\n",
    "\n",
    "[Return to contents](#contents)"
   ]
  },
  {
   "cell_type": "markdown",
   "metadata": {},
   "source": [
    "<div class='exercise-r'>\n",
    "\n",
    "**2.1**  As a preprocessing step, map the district number 61 to the number 54 so that the numbering is consecutive with no gaps. Also, re-name district 60 to be district 0 so that the districts are now numbered 0 through 59. **We use this numbering throughout the homework, and will grade using these district numbers**\n",
    "\n",
    "\n",
    "\n",
    "</div>"
   ]
  },
  {
   "cell_type": "code",
   "execution_count": null,
   "metadata": {},
   "outputs": [],
   "source": [
    "# your code here\n",
    "\n"
   ]
  },
  {
   "cell_type": "markdown",
   "metadata": {},
   "source": [
    "<div class='exercise-r'>\n",
    "\n",
    "**2.2**  We should verify that pymc3 can indeed recover the hidden parameter values. To do this, we'll hard-code known values of our choosing for the model parameters and simulate data from the model. Then, using this simulated data, we'll check if pymc3 can get back the parameter values we hard-coded. If it does, we'll have hope that it can get the hidden parameter values that generated the real data.\n",
    "\n",
    "**Note: These hard-coded parameters will be used in question 2.2 - 2.5**.\n",
    "\n",
    "Use the following hard-coded values:\n",
    "\n",
    "$$\n",
    "\\begin{split}\n",
    "\\mu_0 &= 2\n",
    "\\\\ \\\\\n",
    "\\sigma^2_0 &= 1\n",
    "\\\\ \\\\\n",
    "\\beta_{0j} &\\sim N(\\mu_0,\\sigma_0^2) \\; \\text{for all sixty districts}\n",
    "\\\\ \\\\\n",
    "\\beta_1 &= 4\n",
    "\\\\ \\\\ \n",
    "\\beta_2 &= -3\n",
    "\\\\ \\\\\n",
    "\\beta_3 &= -2\n",
    "\\\\ \\\\\n",
    "\\end{split}\n",
    "$$\n",
    "\n",
    "**Verify that these parameters generate data in which an average of 46 to 48 percent of subjects use contraceptives.**\n",
    "\n",
    "\n",
    "\n",
    "</div>"
   ]
  },
  {
   "cell_type": "code",
   "execution_count": null,
   "metadata": {},
   "outputs": [],
   "source": [
    "# your code here\n",
    "\n"
   ]
  },
  {
   "cell_type": "markdown",
   "metadata": {},
   "source": [
    "<div class='exercise-r'>\n",
    "\n",
    "**2.3**  Fit the varying-intercept model specified above to your simulated data. Reasonably good convergence may require adjustments to the number of tuning samples and the target acceptance rate as suggested in pymc3's warnings.\n",
    "\n",
    "\n",
    "\n",
    "</div>"
   ]
  },
  {
   "cell_type": "code",
   "execution_count": null,
   "metadata": {},
   "outputs": [],
   "source": [
    "# your code here\n",
    "\n"
   ]
  },
  {
   "cell_type": "markdown",
   "metadata": {},
   "source": [
    "<div class='exercise-r'>\n",
    "\n",
    "**2.4**  Plot the trace plots of the MCMC sampler for the parameters $\\mu_0, \\frac{1}{\\sigma^2_0}\\text{ (a.k.a., }\\tau_0\\text{)}, \\beta_1, \\beta_2, \\beta_3$. Based on these and the R-hat values, does it look like the samplers converged?\n",
    "\n",
    "\n",
    "\n",
    "</div>"
   ]
  },
  {
   "cell_type": "code",
   "execution_count": null,
   "metadata": {},
   "outputs": [],
   "source": [
    "# your code here\n",
    "\n"
   ]
  },
  {
   "cell_type": "markdown",
   "metadata": {},
   "source": [
    "**your answer here**"
   ]
  },
  {
   "cell_type": "markdown",
   "metadata": {},
   "source": [
    "<div class='exercise-r'>\n",
    "\n",
    "**2.5**  Plot histograms of the posterior distributions for the parameters $\\beta_{0,9}$, $\\beta_{0,19}$, $\\beta_{0,29}$, ..., $\\beta_{0,59}$. Are the actual parameters that you generated contained within these posterior distributions?\n",
    "\n",
    "**Hint: The `az.plot_posterior()` function might be helpful here.**\n",
    "\n",
    "\n",
    "\n",
    "</div>"
   ]
  },
  {
   "cell_type": "code",
   "execution_count": null,
   "metadata": {},
   "outputs": [],
   "source": [
    "# your code here\n",
    "\n"
   ]
  },
  {
   "cell_type": "markdown",
   "metadata": {},
   "source": [
    "**your answer here**"
   ]
  },
  {
   "cell_type": "markdown",
   "metadata": {},
   "source": [
    "<div class='exercise-r'>\n",
    "\n",
    "**2.6**  We now fit our model to the *actual* data. Fit the varying-intercept model to the real training data.\n",
    "\n",
    "\n",
    "\n",
    "</div>"
   ]
  },
  {
   "cell_type": "code",
   "execution_count": null,
   "metadata": {},
   "outputs": [],
   "source": [
    "# your code here\n",
    "\n"
   ]
  },
  {
   "cell_type": "markdown",
   "metadata": {},
   "source": [
    "<div class='exercise-r'>\n",
    "\n",
    "**2.7**  Check the convergence by examining the trace plots and R-hats, as you did with the simulated data. What do you observe?\n",
    "\n",
    "\n",
    "\n",
    "</div>"
   ]
  },
  {
   "cell_type": "code",
   "execution_count": null,
   "metadata": {},
   "outputs": [],
   "source": [
    "# your code here\n",
    "\n"
   ]
  },
  {
   "cell_type": "markdown",
   "metadata": {},
   "source": [
    "**your answer here**"
   ]
  },
  {
   "cell_type": "markdown",
   "metadata": {},
   "source": [
    "<div class='exercise-r'>\n",
    "\n",
    "**2.8**  Based on the posterior means, which district has the highest base rate of contraceptive usage (independent of other factors like urban population)? Which district has the lowest?\n",
    "\n",
    "\n",
    "\n",
    "</div>"
   ]
  },
  {
   "cell_type": "code",
   "execution_count": null,
   "metadata": {},
   "outputs": [],
   "source": [
    "# your code here\n",
    "\n"
   ]
  },
  {
   "cell_type": "markdown",
   "metadata": {},
   "source": [
    "**your answer here**"
   ]
  },
  {
   "cell_type": "markdown",
   "metadata": {},
   "source": [
    "<div class='exercise-r'>\n",
    "\n",
    "**2.9**  What are the posterior means of $\\mu_0$ and $\\sigma_0$? Do these values offer any evidence in support of or against the varying-intercept model, compared to a model with a single intercept value for all districts?\n",
    "\n",
    "</div>"
   ]
  },
  {
   "cell_type": "code",
   "execution_count": null,
   "metadata": {},
   "outputs": [],
   "source": [
    "# your code here\n",
    "\n"
   ]
  },
  {
   "cell_type": "markdown",
   "metadata": {},
   "source": [
    "**your answer here**"
   ]
  },
  {
   "cell_type": "markdown",
   "metadata": {},
   "source": [
    "<a id=\"part3\"></a>\n",
    "    \n",
    "<!-- <div class=\"alert alert-block alert-danger\" style=\"color:black;background-color:#E7F4FA\"> -->\n",
    "\n",
    "# Part 3: Varying-Coefficients Model and Model Selection\n",
    "\n",
    "[Return to contents](#contents)\n"
   ]
  },
  {
   "cell_type": "markdown",
   "metadata": {},
   "source": [
    "<a id=\"part3intro\"></a>\n",
    "\n",
    "## Overview \n",
    "\n",
    "[Return to contents](#contents)\n",
    "\n",
    "The next model we will fit to the contraceptives data is a varying-coefficients logistic regression model, where the coefficients on `living.children`, `age_mean`, and `urban` vary by district.\n",
    "\n",
    "Prior distribution:\n",
    "\n",
    "$$\n",
    "\\begin{split}\n",
    "\\beta_{0j} &\\sim N(\\mu_0,\\sigma_0^2)\\; \\text{, with} \\;\\; \\mu_0 \\sim N(0,10000)\\; \\text{and} \\; \\; \\frac{1}{\\sigma^2_0} \\sim \\text{Gamma}(0.1,0.1)\n",
    "\\\\\n",
    "\\beta_{1j} &\\sim N(0,\\sigma_1^2)\\; \\text{, with} \\;\\; \\frac{1}{\\sigma^2_1} \\sim \\text{Gamma}(0.1,0.1) \n",
    "\\\\\n",
    "\\beta_{2j} &\\sim N(0,\\sigma_2^2)\\; \\text{, with} \\;\\; \\frac{1}{\\sigma^2_2} \\sim \\text{Gamma}(0.1,0.1)\n",
    "\\\\ \n",
    "\\beta_{3j} &\\sim N(0,\\sigma_3^2)\\; \\text{, with} \\;\\; \\frac{1}{\\sigma^2_3} \\sim \\text{Gamma}(0.1,0.1)\n",
    "\\\\\n",
    "\\end{split}\n",
    "$$\n",
    "\n",
    "Model for data:\n",
    "\n",
    "$$\n",
    "\\begin{split}\n",
    "Y_{ij} &\\sim \\text{Bernoulli}(p_{ij})\n",
    "\\\\ \\\\\n",
    "\\text{logit}\\:p_{ij} &= \\beta_{0j} + \\beta_{1j} \\times \\text{urban} + \\beta_{2j} \\times \\text{living.children} + \\beta_{3j} \\times \\text{age-mean}\n",
    "\\\\ \\\\\n",
    "\\end{split}\n",
    "$$\n",
    "\n",
    "**PLEASE NOTE:** Once again, the $\\text{Gamma}$ distribution uses the $\\text{Gamma}(\\alpha, \\beta)$ parametrization, where $\\alpha$ is the shape and $\\beta$ is the rate. "
   ]
  },
  {
   "cell_type": "markdown",
   "metadata": {},
   "source": [
    "<a id=\"part3questions\"></a>\n",
    "\n",
    "### <div class='exercise'>Part 3: Questions</div> \n",
    "\n",
    "[Return to contents](#contents)\n",
    "\n",
    "**3.1** Fit the varying-coefficients model described above to the real training data.\n",
    "\n",
    "**3.2** Check the convergence of your varying-coefficients model by examining the trace plots and R-hats, as you did with the prior varying-intercepts model. What do you observe?\n",
    "\n",
    "**3.3** Plot the distributions of posterior means and credible intervals for each predictor's coefficient by district. What do you conclude from these graphs?\n",
    "\n",
    "**HINT:** The ArviZ [`plot_forest()`](https://arviz-devs.github.io/arviz/api/generated/arviz.plot_forest.html) function is very well-suited for this task.\n",
    "\n",
    "**3.4** Use all of the information you've gleaned thus far to build Bayesian logistic regression classifiers for both your varying-intercepts model (from 2.7) and your varying-coefficients model (from 3.1). Then, use each model to make predictions on your training and test sets.\n",
    "\n",
    "  - Report each model's classification percentages and accuracy scores on both the training and test sets, as well as the trivial accuracy scores you would achieve with a \"naive\" model that predicts only the most frequent outcome observed in your training data.\n",
    "  \n",
    "  \n",
    "  - What do you observe from these results?\n",
    "  \n",
    "  \n",
    "  - Which model appears to be the best (i.e. varying-intercept or varying-coefficient), and what is your rationale?"
   ]
  },
  {
   "cell_type": "markdown",
   "metadata": {},
   "source": [
    "<a id=\"part3solutions\"></a>\n",
    "\n",
    "## Part 3: Solutions\n",
    "\n",
    "[Return to contents](#contents)"
   ]
  },
  {
   "cell_type": "markdown",
   "metadata": {},
   "source": [
    "<div class='exercise-r'>\n",
    "\n",
    "**3.1**  Fit the varying-coefficients model described above to the real training data.\n",
    "\n",
    "\n",
    "\n",
    "</div>"
   ]
  },
  {
   "cell_type": "code",
   "execution_count": null,
   "metadata": {},
   "outputs": [],
   "source": [
    "# your code here\n",
    "\n"
   ]
  },
  {
   "cell_type": "markdown",
   "metadata": {},
   "source": [
    "<div class='exercise-r'>\n",
    "\n",
    "**3.2**  Check the convergence of your varying-coefficients model by examining the trace plots and R-hats, as you did with the prior varying-intercepts model. What do you observe?\n",
    "\n",
    "\n",
    "\n",
    "</div>"
   ]
  },
  {
   "cell_type": "code",
   "execution_count": null,
   "metadata": {},
   "outputs": [],
   "source": [
    "# your code here\n",
    "\n"
   ]
  },
  {
   "cell_type": "markdown",
   "metadata": {},
   "source": [
    "**your answer here**"
   ]
  },
  {
   "cell_type": "markdown",
   "metadata": {},
   "source": [
    "<div class='exercise-r'>\n",
    "\n",
    "**3.3**  Plot the distributions of posterior means and credible intervals for each predictor's coefficient by district. What do you conclude from these graphs?\n",
    "\n",
    "**HINT:** The ArviZ [`plot_forest()`](https://arviz-devs.github.io/arviz/api/generated/arviz.plot_forest.html) function is very well-suited for this task.\n",
    "\n",
    "\n",
    "\n",
    "</div>"
   ]
  },
  {
   "cell_type": "code",
   "execution_count": null,
   "metadata": {},
   "outputs": [],
   "source": [
    "# your code here\n",
    "\n"
   ]
  },
  {
   "cell_type": "markdown",
   "metadata": {},
   "source": [
    "**your answer here**"
   ]
  },
  {
   "cell_type": "markdown",
   "metadata": {},
   "source": [
    "<div class='exercise-r'>\n",
    "\n",
    "**3.4**  Use all of the information you've gleaned thus far to build Bayesian logistic regression classifiers for both your varying-intercepts model (from 2.7) and your varying-coefficients model (from 3.1). Then, use each model to make predictions on your training and test sets.\n",
    "\n",
    "  - Report each model's classification percentages and accuracy scores on both the training and test sets, as well as the trivial accuracy scores you would achieve with a \"naive\" model that predicts only the most frequent outcome observed in your training data.\n",
    "  \n",
    "  \n",
    "  - What do you observe from these results?\n",
    "  \n",
    "  \n",
    "  - Which model appears to be the best (i.e. varying-intercept or varying-coefficient), and what is your rationale?\n",
    "\n",
    "</div>"
   ]
  },
  {
   "cell_type": "code",
   "execution_count": null,
   "metadata": {},
   "outputs": [],
   "source": [
    "# your code here\n",
    "\n"
   ]
  },
  {
   "cell_type": "markdown",
   "metadata": {},
   "source": [
    "**your answer here**"
   ]
  },
  {
   "cell_type": "markdown",
   "metadata": {},
   "source": []
  }
 ],
 "metadata": {
  "kernelspec": {
   "display_name": "Python 3 (ipykernel)",
   "language": "python",
   "name": "python3"
  },
  "language_info": {
   "codemirror_mode": {
    "name": "ipython",
    "version": 3
   },
   "file_extension": ".py",
   "mimetype": "text/x-python",
   "name": "python",
   "nbconvert_exporter": "python",
   "pygments_lexer": "ipython3",
   "version": "3.10.2"
  }
 },
 "nbformat": 4,
 "nbformat_minor": 4
}
