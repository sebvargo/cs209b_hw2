{
 "cells": [
  {
   "cell_type": "markdown",
   "metadata": {
    "tags": []
   },
   "source": [
    "# <img style=\"float: left; padding-right: 10px; width: 45px\" src=\"https://raw.githubusercontent.com/Harvard-IACS/2018-CS109A/master/content/styles/iacs.png\"> Data Science 2: Advanced Topics in Data Science \n",
    "\n",
    "## Homework 2: Bayesian Analysis\n",
    "\n",
    "\n",
    "\n",
    "**Harvard University**<br/>\n",
    "**Spring 2022**<br/>\n",
    "**Instructors**: Mark Glickman & Pavlos Protopapas\n",
    "\n",
    "\n",
    "<hr style=\"height:2pt\">"
   ]
  },
  {
   "cell_type": "code",
   "execution_count": 2,
   "metadata": {},
   "outputs": [
    {
     "ename": "ModuleNotFoundError",
     "evalue": "No module named 'IPython.core.discondplay'",
     "output_type": "error",
     "traceback": [
      "\u001b[0;31m---------------------------------------------------------------------------\u001b[0m",
      "\u001b[0;31mModuleNotFoundError\u001b[0m                       Traceback (most recent call last)",
      "\u001b[1;32m/Users/vargas/Desktop/cs209b_hw2/cs109b_hw2.ipynb Cell 2'\u001b[0m in \u001b[0;36m<module>\u001b[0;34m\u001b[0m\n\u001b[1;32m      <a href='vscode-notebook-cell:/Users/vargas/Desktop/cs209b_hw2/cs109b_hw2.ipynb#ch0000001?line=0'>1</a>\u001b[0m \u001b[39m# RUN THIS CELL \u001b[39;00m\n\u001b[1;32m      <a href='vscode-notebook-cell:/Users/vargas/Desktop/cs209b_hw2/cs109b_hw2.ipynb#ch0000001?line=1'>2</a>\u001b[0m \u001b[39mimport\u001b[39;00m \u001b[39mrequests\u001b[39;00m\n\u001b[0;32m----> <a href='vscode-notebook-cell:/Users/vargas/Desktop/cs209b_hw2/cs109b_hw2.ipynb#ch0000001?line=2'>3</a>\u001b[0m \u001b[39mfrom\u001b[39;00m \u001b[39mIPython\u001b[39;00m\u001b[39m.\u001b[39;00m\u001b[39mcore\u001b[39;00m\u001b[39m.\u001b[39;00m\u001b[39mdiscondplay\u001b[39;00m \u001b[39mimport\u001b[39;00m HTML\n\u001b[1;32m      <a href='vscode-notebook-cell:/Users/vargas/Desktop/cs209b_hw2/cs109b_hw2.ipynb#ch0000001?line=3'>4</a>\u001b[0m styles \u001b[39m=\u001b[39m requests\u001b[39m.\u001b[39mget(\n\u001b[1;32m      <a href='vscode-notebook-cell:/Users/vargas/Desktop/cs209b_hw2/cs109b_hw2.ipynb#ch0000001?line=4'>5</a>\u001b[0m     \u001b[39m\"\u001b[39m\u001b[39mhttps://raw.githubusercontent.com/Harvard-IACS/2018-CS109A/master/\u001b[39m\u001b[39m\"\u001b[39m\n\u001b[1;32m      <a href='vscode-notebook-cell:/Users/vargas/Desktop/cs209b_hw2/cs109b_hw2.ipynb#ch0000001?line=5'>6</a>\u001b[0m     \u001b[39m\"\u001b[39m\u001b[39mcontent/styles/cs109.css\u001b[39m\u001b[39m\"\u001b[39m\n\u001b[1;32m      <a href='vscode-notebook-cell:/Users/vargas/Desktop/cs209b_hw2/cs109b_hw2.ipynb#ch0000001?line=6'>7</a>\u001b[0m )\u001b[39m.\u001b[39mtext\n\u001b[1;32m      <a href='vscode-notebook-cell:/Users/vargas/Desktop/cs209b_hw2/cs109b_hw2.ipynb#ch0000001?line=7'>8</a>\u001b[0m HTML(styles)\n",
      "\u001b[0;31mModuleNotFoundError\u001b[0m: No module named 'IPython.core.discondplay'"
     ]
    }
   ],
   "source": [
    "# RUN THIS CELL \n",
    "import requests\n",
    "from IPython.core.discondplay import HTML\n",
    "styles = requests.get(\n",
    "    \"https://raw.githubusercontent.com/Harvard-IACS/2018-CS109A/master/\"\n",
    "    \"content/styles/cs109.css\"\n",
    ").text\n",
    "HTML(styles)"
   ]
  },
  {
   "cell_type": "markdown",
   "metadata": {},
   "source": [
    "<a id=\"instructions\"></a>\n",
    "\n",
    "<hr style=\"height:2pt\">\n",
    "\n",
    "### INSTRUCTIONS\n",
    "\n",
    "- This homework can be submitted **in pairs**.\n",
    "\n",
    "- To submit your assignment follow the instructions given in Canvas.\n",
    "\n",
    "- Please **restart the kernel and run the entire notebook again before you submit. But remember that it can take a long time to run, so give yourself enough time.** \n",
    "\n",
    "- Running cells out of order is a common pitfall in Jupyter Notebooks. To make sure your code continues to work, restart the kernel and rerun your notebook periodically while working through this assignment. \n",
    "\n",
    "- We have tried to include all the libraries you may need to do the assignment in the imports cell provided below. **Please use only the libraries provided in those imports.**\n",
    "\n",
    "- Please use `.head(...)` when viewing data. Do not submit a notebook that is **excessively long**. \n",
    "\n",
    "- In questions that require code to answer, such as \"calculate and report $R^2$\", do not just output the value from a cell. Write a `print(...)` function that clearly labels the output, includes a reference to the calculated value, and rounds it to a reasonable number of digits. **Do not hard code values in your printed output**. For example, this is an appropriate print statement:\n",
    "```python\n",
    "print(f'The R^2 is {R:.4f}')\n",
    "```\n",
    "- **Your plots MUST be clearly labeled and easy to read,** including clear labels for the $x$ and $y$ axes, a descriptive title (\"MSE plot\" is NOT a descriptive title; \"Training and validation MSE at varying degree polynomial regression models\" on the other hand is descriptive), a legend when appropriate, and clearly formatted text and graphics.\n",
    "\n",
    "- **Your code may also be evaluated for efficiency and clarity.** As a result, correct output is not always sufficient for full credit.\n",
    "\n",
    "<hr style=\"height:2pt\">"
   ]
  },
  {
   "cell_type": "code",
   "execution_count": 3,
   "metadata": {},
   "outputs": [
    {
     "name": "stdout",
     "output_type": "stream",
     "text": [
      "Using PyMC3 version: 3.11.4\n",
      "Using ArviZ version: 0.11.4\n"
     ]
    }
   ],
   "source": [
    "import random\n",
    "from datetime import datetime as dt\n",
    "\n",
    "import arviz as az\n",
    "import matplotlib.pyplot as plt\n",
    "import numpy as np\n",
    "import pandas as pd\n",
    "import pymc3 as pm\n",
    "from scipy.special import expit\n",
    "\n",
    "%matplotlib inline\n",
    "\n",
    "print(f\"Using PyMC3 version: {pm.__version__}\")\n",
    "print(f\"Using ArviZ version: {az.__version__}\")"
   ]
  },
  {
   "cell_type": "code",
   "execution_count": 4,
   "metadata": {},
   "outputs": [],
   "source": [
    "# Ignore a common pymc3 warning that comes from library functions, not our code.\n",
    "# Pymc3 may throw additional warnings, but other warnings should be manageable\n",
    "# by following the instructions included within the warning messages.\n",
    "import warnings\n",
    "\n",
    "messages=[\n",
    "    \"Using `from_pymc3` without the model will be deprecated in a future release\",\n",
    "]\n",
    "\n",
    "for m in messages:\n",
    "    warnings.filterwarnings(\"ignore\", message=m)\n",
    "    "
   ]
  },
  {
   "cell_type": "markdown",
   "metadata": {},
   "source": [
    "<a id=\"contents\"></a>\n",
    "\n",
    "## Notebook Contents\n",
    "\n",
    "- [**Part 1: Rejection sampling and the weighted bootstrap**](#part1)\n",
    "  - [Overview](#part1intro)\n",
    "  - [Questions](#part1questions)\n",
    "  - [Solutions](#part1solutions)\n",
    "\n",
    "\n",
    "- [**Part 2: Bayesian Logistic Regression and Varying-Intercepts Model**](#part2)\n",
    "  - [Overview](#part2intro)\n",
    "  - [Questions](#part2questions)\n",
    "  - [Solutions](#part2solutions)\n",
    "\n",
    "\n",
    "- [**Part 3: Varying-Coefficients Model and Model Selection**](#part3)\n",
    "  - [Overview](#part3intro)\n",
    "  - [Questions](#part3questions)\n",
    "  - [Solutions](#part3solutions)\n"
   ]
  },
  {
   "cell_type": "markdown",
   "metadata": {},
   "source": [
    "## Dataset Information"
   ]
  },
  {
   "cell_type": "markdown",
   "metadata": {},
   "source": [
    "### Contraceptive Usage by Bangladeshi Women\n",
    "\n",
    "For this assignment, you are provided with data sets `dataset_2_train.csv` and `dataset_2_test.csv`containing details of contraceptive usage by 1,934 Bangladeshi women.\n",
    "\n",
    "There are four attributes for each woman, along with a label `contraceptive_use` indicating if she uses contraceptives. The attributes include:\n",
    "\n",
    "* `district`: identifying code for the district the woman lives in\n",
    "* `urban`: type of region of residence\n",
    "* `living.children`: number of living children\n",
    "* `age-mean`: age of the woman (in years, centered around mean)\n",
    "\n",
    "The women are grouped into 60 districts. The task is to build a classification model that can predict if a given woman uses contraceptives.\n"
   ]
  },
  {
   "cell_type": "markdown",
   "metadata": {},
   "source": [
    "<a id=\"part1\"></a>\n",
    "    \n",
    "<!-- <div class=\"alert alert-block alert-danger\" style=\"color:black;background-color:#E7F4FA\"> -->\n",
    "\n",
    "# Part 1:  Rejection sampling and the weighted bootstrap\n",
    "\n",
    "[Return to contents](#contents)"
   ]
  },
  {
   "cell_type": "markdown",
   "metadata": {},
   "source": [
    "<a id=\"part1intro\"></a>\n",
    "\n",
    "## Overview \n",
    "\n",
    "[Return to contents](#contents)\n",
    "\n",
    "For the first part of the problem, we will only work with the label `contraceptive_use` and ignore all the attributes.  Let $Y_i$ be 1 if woman $i$ uses contraceptives, and 0 otherwise.  Assume a Bernoulli model for the data:\n",
    "\n",
    "$$Y_{i} \\sim \\text{Bernoulli}(\\theta)$$\n",
    "\n",
    "where $i=1,\\ldots,N$, with $N$ being the number of observations in the training data set, and $\\theta$ is the unknown probability a woman uses contraception.  We will assume the following prior distribution on $\\theta$:\n",
    "\n",
    "$$\\theta \\sim \\text{Normal}(0.5, 0.5^2)$$\n",
    "\n",
    "subject to $0 \\leq \\theta \\leq 1$.  This is sometimes called a truncated normal distribution.  A value from this distribution can be randomly drawn by simulating a value from $\\text{Normal}(0.5, 0.5^2)$ and then keeping it if the value is between 0 and 1, and trying again if it is outside this range.  In fact, this is a form of rejection sampling.  The density for the truncated normal distribution is\n",
    "\n",
    "$$p(\\theta) = c\\times\\frac{1}{\\sqrt{2\\pi (0.5)^2}} \\: \\exp\\left(\\frac{-1}{2(0.5)^2}(\\theta-0.5)^2\\right) \\; \\text{for} \\; 0\\leq \\theta \\leq 1 \\; \\text{, and} \\; 0 \\; \\text{otherwise,}$$\n",
    "\n",
    "where $c$ is a normalizing constant that does not depend on $\\theta$."
   ]
  },
  {
   "cell_type": "markdown",
   "metadata": {},
   "source": [
    "<a id=\"part1questions\"></a>\n",
    "\n",
    "### <div class='exercise'>Part 1: Questions</div> \n",
    "\n",
    "[Return to contents](#contents)\n",
    "\n",
    "**1.1** Given the training data, what is the likelihood function $L(\\theta | y_1,\\ldots,y_n)$?  What is the MLE of $\\theta$ as a function of the $y_1,\\ldots,y_n$?  Compute the MLE from the data.\n",
    "\n",
    "**1.2** Using rejection sampling, simulate a sample of 10,000 accepted values $\\theta$ from the posterior distribution.  Plot a histogram of these values, and provide numerical summaries of the distribution of the 10,000 values. Interpret your findings.\n",
    "\n",
    "**Note: make sure $\\theta$ only takes on values which are valid for the parameter it represents and that all samples that do not pass the sampling criterion are rejected. Consult the lecture notes on rejection sampling if you need to review this criterion.**\n",
    "\n",
    "**1.3** Carry out the weighted bootstrap to simulate 1,000 values of $\\theta$ from the posterior distribution.  In doing so, simulate 10,000 values from the prior distribution to use as the discrete distribution from which the posterior draws will be simulated via the importance weights.  As above, plot a histogram of these values, and provide numerical summaries of the distribution of 1,000 values.  Interpret the results, and compare to the results of rejection sampling.\n"
   ]
  },
  {
   "cell_type": "markdown",
   "metadata": {},
   "source": [
    "<a id=\"part1solutions\"></a>\n",
    "\n",
    "## Part 1: Solutions\n",
    "\n",
    "[Return to contents](#contents)"
   ]
  },
  {
   "cell_type": "markdown",
   "metadata": {},
   "source": [
    "### Helper Functions\n"
   ]
  },
  {
   "cell_type": "code",
   "execution_count": 5,
   "metadata": {},
   "outputs": [],
   "source": [
    "from scipy import stats\n",
    "def read_data(filename = 'data/dataset_2_train.csv', train = True):\n",
    "    if train:\n",
    "        data = pd.read_csv(filename)\n",
    "    return data\n",
    "\n",
    "\n",
    "def trunc_normal(n = 10, mean = 0.5, std_dev = 0.5, min = 0, max = 1):\n",
    "    '''\n",
    "    Returns n from a normal distribution ~N(mean, std_dev^2) truncated between min and max\n",
    "    '''\n",
    "    x_trunc = []\n",
    "    while len(x_trunc) < n:\n",
    "        x = np.random.normal(loc=mean, scale = std_dev)\n",
    "        if (x >=min and x<=max):\n",
    "            x_trunc.append(x)\n",
    "        \n",
    "    if len(x_trunc) == 1:\n",
    "        return x_trunc[0]\n",
    "    \n",
    "    return x_trunc\n",
    "\n"
   ]
  },
  {
   "cell_type": "markdown",
   "metadata": {},
   "source": [
    "<div class='exercise-r'>\n",
    "\n",
    "**1.1.a**  Given the training data, what is the likelihood function $L(\\theta | y_1,\\ldots,y_n)$?  \n",
    "\n",
    "\n",
    "\n",
    "</div>"
   ]
  },
  {
   "cell_type": "markdown",
   "metadata": {},
   "source": [
    "#### Answer\n",
    "\n",
    "Per the problem statement:\n",
    "$$\n",
    "Y_i = \n",
    "\\begin{cases}\n",
    "1    &\\text {if the $i$-th woman uses contraceptives} \\\\\n",
    "0 & \\text {otherwise}\n",
    "\\end{cases}\n",
    "$$\n",
    "\n",
    "We know that the probability model for a Bernoulli distribution is as follows:\n",
    "\n",
    "\n",
    "$$\n",
    "P(Y_i = y | \\theta)=\n",
    "\\begin{cases}\n",
    "\\theta    &\\text {for } y = 1\\\\\n",
    "1 - \\theta & \\text {for } y=0\\\\\n",
    "\\end{cases}\n",
    "$$\n",
    "\n",
    "Equivalent to:\n",
    "\\begin{aligned}\n",
    "P(Y_i = y | \\theta)\n",
    "&= \\theta^{y_i} (1-\\theta)^{1-y_i}\n",
    "\\end{aligned}\n",
    "\n",
    "Where $\\theta$ is the unknown probability a woman uses contraception.\n",
    "\n",
    "We get the likelihood function by calculating the probability of the data conditional on $\\theta$, viewed as a function of the parameter:\n",
    "\\begin{aligned}\n",
    "L(\\theta | y_1, y_2, ... , y_n)\n",
    "&=p(y_1, y_2, ... , y_n | \\theta)\\\\\n",
    "&= P(Y_1 = y_1 | \\theta) \\cdot P(Y_2 = y_2 | \\theta) \\cdot \\ldots P(Y_n = y_n | \\theta) \\\\ \n",
    "&= \\prod_{i=1}^n P(Y_i = y_i | \\theta) \\\\\n",
    "&= \\prod_{i=1}^n\\theta^{y_i}  (1-\\theta)^{1-y_i}\n",
    "\\end{aligned}\n",
    "\n"
   ]
  },
  {
   "cell_type": "markdown",
   "metadata": {},
   "source": [
    "<div class='exercise-r'>\n",
    "\n",
    "**1.1.b**   What is the MLE of $\\theta$ as a function of the $y_1,\\ldots,y_n$?  Compute the MLE from the data.\n",
    "\n",
    "</div>"
   ]
  },
  {
   "cell_type": "markdown",
   "metadata": {},
   "source": [
    "\n",
    "#### Answer\n",
    "We will take the log of $L(\\theta | y_1, y_2, ... , y_n)$ because it simplifies working with the expression:\n",
    "\n",
    "\\begin{aligned}\n",
    "\\ln({L(\\theta | y_1, y_2, ... , y_n)})\n",
    "&= \\ln \\left(\\prod_{i=1}^n\\ \\theta^{y_i}  (1-\\theta)^{1-y_i}  \\right)\\\\\n",
    "&= \\sum_{i=1}^n \\left[ y_i \\ln{\\theta} + (1-y_i) \\ln{(1-\\theta)} \\right]\\\\\n",
    "&=  \\left(y_1 \\ln(\\theta) + (1-y_1) \\ln(1-\\theta) \\right)  + \\ldots + \\left( y_n \\ln(\\theta) + (1-y_n) \\ln(1-\\theta) \\right)\\\\\n",
    "&=(y_1 + y_2 + ... + y_n)  \\cdot \\ln(\\theta) + [n - (y_1 + y_2 + ... + y_n)]\\cdot \\ln(1-\\theta) \n",
    "\\end{aligned}\n",
    "\n",
    "\n",
    "Letting $Y_i = (y_1 + y_2 + ... + y_n)$: \n",
    "\\begin{aligned}\n",
    "\\ln({L(\\theta | Y_i)}) \n",
    "&=(Y_i)  \\cdot \\ln(\\theta) + [n - Y_i]\\cdot \\ln(1-\\theta) \n",
    "\\end{aligned}\n",
    "\n",
    "The MLE is occurs at a value of \\theta where:\n",
    "\n",
    "\\begin{aligned}\n",
    "0  \n",
    "&= \\frac{d\\ln({L(\\theta | Y_i)}}{d\\theta} \\\\\n",
    "&=\\frac{d} {d\\theta} \\left[(Y_i)  \\cdot \\ln(\\theta) + [n - Y_i]\\cdot \\ln(1-\\theta) \\right] \\\\ 0\n",
    "&=  \\frac{Y_i}{\\theta} - \\frac{n - Y_i}{1-\\theta} \n",
    "\\end{aligned}\n",
    "\n",
    "Finally we solve for $\\theta_{MLE}$:\n",
    "$$\n",
    "\\theta_{MLE} = \\frac{Y_i}{n} = \\frac{y_1 + y_2 + ... + y_n} {n}\n",
    "$$ \n"
   ]
  },
  {
   "cell_type": "markdown",
   "metadata": {},
   "source": [
    "<div class='exercise-r'>\n",
    "\n",
    "**1.1.c**   Compute the MLE from the data.\n",
    "\n",
    "</div>"
   ]
  },
  {
   "cell_type": "code",
   "execution_count": null,
   "metadata": {},
   "outputs": [],
   "source": [
    "df = read_data()\n",
    "n = df.shape[0]\n",
    "y_i = df['contraceptive_use'].sum()\n",
    "mle = y_i/n\n",
    "print(f'The MLE is {mle:.4f}')"
   ]
  },
  {
   "cell_type": "markdown",
   "metadata": {},
   "source": [
    "<div class='exercise-r'>\n",
    "\n",
    "**1.2**  Using rejection sampling, simulate a sample of 10,000 accepted values $\\theta$ from the posterior distribution.  Plot a histogram of these values, and provide numerical summaries of the distribution of the 10,000 values. Interpret your findings.\n",
    "\n",
    "**Note: make sure $\\theta$ only takes on values which are valid for the parameter it represents and that all samples that do not pass the sampling criterion are rejected. Consult the lecture notes on rejection sampling if you need to review this criterion.**\n",
    "\n",
    "\n",
    "\n",
    "</div>"
   ]
  },
  {
   "cell_type": "code",
   "execution_count": null,
   "metadata": {},
   "outputs": [],
   "source": [
    "def L(theta, alpha, beta):\n",
    "    l = (theta**(alpha-1)) * ((1-theta)**(beta-1))\n",
    "    return l\n",
    "\n",
    "df = read_data()\n",
    "n = df.shape[0]\n",
    "mle = y_i/n\n",
    "y_i = df['contraceptive_use'].sum()\n",
    "\n",
    "alpha, beta = (y_i+1, n-y_i + 1)\n",
    "\n",
    "\n",
    "print(\"Data has {} rows\".format(n))\n",
    "print(\"Alpha = {}\".format(alpha))\n",
    "print(\"Beta = {}\".format(beta))\n",
    "\n",
    "samples = 10000 # number of samples to draw\n",
    "mu, sigma = (0.5, 0.5)\n",
    "M  = L(mle, alpha, beta)\n",
    "thetas = []\n",
    "\n",
    "while len(thetas) <samples:\n",
    "    # simulate theta from p(theta)\n",
    "    \n",
    "    theta = trunc_normal(n = 1, mean = mu, std_dev = sigma, min = 0, max = 1)\n",
    "    \n",
    "    # generate U from uniform distribution\n",
    "    U = np.random.uniform(0, 1)\n",
    "    \n",
    "    # likelihood\n",
    "    likelihood = L(theta, alpha, beta)\n",
    "    likelihood_M = likelihood/M\n",
    "    \n",
    "    # acceptance check\n",
    "    accept = likelihood_M >= U\n",
    "\n",
    "    if accept:\n",
    "        thetas.append(theta)\n",
    "\n",
    "thetas = np.array(thetas)\n",
    "plt.hist(thetas, bins = 100)\n",
    "plt.ylabel('Count')\n",
    "plt.xlabel('$\\\\theta$')\n",
    "plt.title('Histogram of accepted $\\\\theta$ values from posterior distribution')\n",
    "plt.show()\n",
    "\n",
    "mean = thetas.mean()\n",
    "var = thetas.var()\n",
    "std = thetas.std()\n",
    "median = np.median(thetas)\n",
    "print('Summary of 10,000 sampled and accepted values of $\\\\theta$')\n",
    "print(' - Mean = {:.5f}'.format(mean))\n",
    "print(' - Variance = {:.5f}'.format(var))\n",
    "print(' - Std. Dev = {:.5f}'.format(std))\n",
    "print(' - Median = {:.5f}'.format(median))"
   ]
  },
  {
   "cell_type": "markdown",
   "metadata": {},
   "source": [
    "These simulated results, drawn from the posterior distribution, suggest that the probability that a woman uses contraception is closer to 0.39 than to the 0.5 initially assumed in the prior distribution $\\theta$. \n",
    "Our prior distribution should be updated to $\\theta \\sim \\text{Normal}(0.39, 0.015^2)$"
   ]
  },
  {
   "cell_type": "markdown",
   "metadata": {},
   "source": [
    "<div class='exercise-r'>\n",
    "\n",
    "**1.3**  Carry out the weighted bootstrap to simulate 1,000 values of $\\theta$ from the posterior distribution.  In doing so, simulate 10,000 values from the prior distribution to use as the discrete distribution from which the posterior draws will be simulated via the importance weights.  As above, plot a histogram of these values, and provide numerical summaries of the distribution of 1,000 values.  Interpret the results, and compare to the results of rejection sampling.\n",
    "\n",
    "\n",
    "</div>"
   ]
  },
  {
   "cell_type": "code",
   "execution_count": null,
   "metadata": {},
   "outputs": [],
   "source": [
    "import random\n",
    "samples = 10000 # number of samples to draw\n",
    "mu, sigma = (0.5, 0.5)\n",
    "thetas = np.array(trunc_normal(n = samples, mean = mu, std_dev = sigma, min = 0, max = 1))\n",
    "likelihood = L(thetas, alpha, beta)\n",
    "weights = likelihood/likelihood.sum()\n",
    "v = random.choices(thetas,weights=weights,k=samples)\n",
    "\n",
    "thetas = np.array(v)\n",
    "plt.hist(thetas, bins = 100)\n",
    "plt.ylabel('Count')\n",
    "plt.xlabel('$\\\\theta$')\n",
    "plt.title('Histogram of accepted $\\\\theta$ values from posterior distribution')\n",
    "plt.show()\n",
    "\n",
    "mean = thetas.mean()\n",
    "var = thetas.var()\n",
    "std = thetas.std()\n",
    "median = np.median(thetas)\n",
    "print('Summary of 10,000 sampled and accepted values of $\\\\theta$')\n",
    "print(' - Mean = {:.5f}'.format(mean))\n",
    "print(' - Variance = {:.5f}'.format(var))\n",
    "print(' - Std. Dev = {:.5f}'.format(std))"
   ]
  },
  {
   "cell_type": "markdown",
   "metadata": {},
   "source": [
    "As with the rejection sampling, with the bootstrap approach we find that the probability that a woman uses contraception is closer to 0.39 than to the 0.5 initially assumed in the prior distribution $\\theta$. The only noticeable difference in the statistics is a slight change in the standard deviation, implying that the bootstrap method brings more uncertainty.\n",
    "Our prior distribution should be updated to $\\theta \\sim \\text{Normal}(0.39, 0.016^2)$"
   ]
  },
  {
   "cell_type": "markdown",
   "metadata": {},
   "source": [
    "<a id=\"part2\"></a>\n",
    "    \n",
    "<!-- <div class=\"alert alert-block alert-danger\" style=\"color:black;background-color:#E7F4FA\"> -->\n",
    "\n",
    "# Part 2: Bayesian Logistic Regression and Varying-Intercepts Model\n",
    "\n",
    "[Return to contents](#contents)\n",
    "\n"
   ]
  },
  {
   "cell_type": "markdown",
   "metadata": {},
   "source": [
    "<a id=\"part2intro\"></a>\n",
    "\n",
    "## Overview \n",
    "\n",
    "[Return to contents](#contents)\n",
    "\n",
    "The second model we will fit to the contraceptives data is a varying-intercept logistic regression model, where the intercept varies by district.\n",
    "\n",
    "Prior distributions:\n",
    "\n",
    "$$\n",
    "\\begin{split}\n",
    "\\beta_{0j} &\\sim N(\\mu_0,\\sigma_0^2)\\; \\text{, with} \\;\\; \\mu_0 \\sim N(0,10000)\\; \\text{and} \\; \\; \\frac{1}{\\sigma^2_0} \\sim \\text{Gamma}(0.1,0.1)\n",
    "\\\\\n",
    "\\beta_1 &\\sim N(0,10000) \n",
    "\\\\ \\\\ \n",
    "\\beta_2 &\\sim N(0,10000)\n",
    "\\\\ \\\\ \n",
    "\\beta_3 &\\sim N(0,10000)\n",
    "\\\\ \\\\\n",
    "\\end{split}\n",
    "$$\n",
    "\n",
    "Model for data:\n",
    "\n",
    "$$\n",
    "\\begin{split}\n",
    "Y_{ij} & \\sim \\text{Bernoulli}(p_{ij})\n",
    "\\\\ \\\\\n",
    "\\text{logit}\\:p_{ij} &= \\beta_{0j} + \\beta_1 \\times \\text{urban} + \\beta_2 \\times \\text{living.children} + \\beta_3 \\times \\text{age-mean}\n",
    "\\\\ \\\\\n",
    "\\end{split}\n",
    "$$\n",
    "\n",
    "Where $Y_{ij}$ is 1 if woman $i$ in district $j$ uses contraceptives, and 0 otherwise, and where $i \\in \\{1,...,N\\}$ and $j \\in \\{1,...,J\\}$. $N$ is the number of observations in the data, and $J$ is the number of districts. The above notation assumes $N(\\mu, \\sigma^2)$ is a Normal distribution with mean $\\mu$ and variance $\\sigma^2$.\n",
    "\n",
    "**PLEASE NOTE:** The $\\text{Gamma}$ distribution cited above, uses the $\\text{Gamma}(\\alpha, \\beta)$ parametrization, where $\\alpha$ is the shape and $\\beta$ is the rate.  "
   ]
  },
  {
   "cell_type": "markdown",
   "metadata": {},
   "source": [
    "<a id=\"part2questions\"></a>\n",
    "\n",
    "### <div class='exercise'>Part 2: Questions</div> \n",
    "\n",
    "[Return to contents](#contents)\n",
    "\n",
    "\n",
    "**2.1** As a preprocessing step, map the district number 61 to the number 54 so that the numbering is consecutive with no gaps. Also, re-name district 60 to be district 0 so that the districts are now numbered 0 through 59. **We use this numbering throughout the homework, and will grade using these district numbers**\n",
    "\n",
    "**2.2** We should verify that pymc3 can indeed recover the hidden parameter values. To do this, we'll hard-code known values of our choosing for the model parameters and simulate data from the model. Then, using this simulated data, we'll check if pymc3 can get back the parameter values we hard-coded. If it does, we'll have hope that it can get the hidden parameter values that generated the real data.\n",
    "\n",
    "**Note: These hard-coded parameters will be used in question 2.2 - 2.5**.\n",
    "\n",
    "Use the following hard-coded values:\n",
    "\n",
    "$$\n",
    "\\begin{split}\n",
    "\\mu_0 &= 2\n",
    "\\\\ \\\\\n",
    "\\sigma^2_0 &= 1\n",
    "\\\\ \\\\\n",
    "\\beta_{0j} &\\sim N(\\mu_0,\\sigma_0^2) \\; \\text{for all sixty districts}\n",
    "\\\\ \\\\\n",
    "\\beta_1 &= 4\n",
    "\\\\ \\\\ \n",
    "\\beta_2 &= -3\n",
    "\\\\ \\\\\n",
    "\\beta_3 &= -2\n",
    "\\\\ \\\\\n",
    "\\end{split}\n",
    "$$\n",
    "\n",
    "**Verify that these parameters generate data in which an average of 46 to 48 percent of subjects use contraceptives.**\n",
    "\n",
    "**2.3** Fit the varying-intercept model specified above to your simulated data. Reasonably good convergence may require adjustments to the number of tuning samples and the target acceptance rate as suggested in pymc3's warnings.\n",
    "\n",
    "**2.4** Plot the trace plots of the MCMC sampler for the parameters $\\mu_0, \\frac{1}{\\sigma^2_0}\\text{ (a.k.a., }\\tau_0\\text{)}, \\beta_1, \\beta_2, \\beta_3$. Based on these and the R-hat values, does it look like the samplers converged?\n",
    "\n",
    "**2.5** Plot histograms of the posterior distributions for the parameters $\\beta_{0,9}$, $\\beta_{0,19}$, $\\beta_{0,29}$, ..., $\\beta_{0,59}$. Are the actual parameters that you generated contained within these posterior distributions?\n",
    "\n",
    "**Hint: The `az.plot_posterior()` function might be helpful here.**\n",
    "\n",
    "**2.6** We now fit our model to the *actual* data. Fit the varying-intercept model to the real training data.\n",
    "\n",
    "**2.7** Check the convergence by examining the trace plots and R-hats, as you did with the simulated data. What do you observe?\n",
    "\n",
    "**2.8** Based on the posterior means, which district has the highest base rate of contraceptive usage (independent of other factors like urban population)? Which district has the lowest?\n",
    "\n",
    "**2.9** What are the posterior means of $\\mu_0$ and $\\sigma_0$? Do these values offer any evidence in support of or against the varying-intercept model, compared to a model with a single intercept value for all districts?"
   ]
  },
  {
   "cell_type": "markdown",
   "metadata": {
    "tags": []
   },
   "source": [
    "<a id=\"part2solutions\"></a>\n",
    "\n",
    "## Part 2: Solutions\n",
    "\n",
    "[Return to contents](#contents)"
   ]
  },
  {
   "cell_type": "markdown",
   "metadata": {},
   "source": [
    "<div class='exercise-r'>\n",
    "\n",
    "**2.1**  As a preprocessing step, map the district number 61 to the number 54 so that the numbering is consecutive with no gaps. Also, re-name district 60 to be district 0 so that the districts are now numbered 0 through 59. **We use this numbering throughout the homework, and will grade using these district numbers**\n",
    "\n",
    "\n",
    "\n",
    "</div>"
   ]
  },
  {
   "cell_type": "code",
   "execution_count": 6,
   "metadata": {},
   "outputs": [],
   "source": [
    "def read_data_part2():\n",
    "    # your code here\n",
    "    df = read_data()\n",
    "\n",
    "    # map district 61 to 54\n",
    "    df['district'] = df['district'].replace(61,54)\n",
    "\n",
    "    # rename district 60 to 0\n",
    "    df['district'] = df['district'].replace(60,0)\n",
    "    \n",
    "    return df\n",
    "\n",
    "data = read_data_part2()"
   ]
  },
  {
   "cell_type": "markdown",
   "metadata": {},
   "source": [
    "<div class='exercise-r'>\n",
    "\n",
    "**2.2**  We should verify that pymc3 can indeed recover the hidden parameter values. To do this, we'll hard-code known values of our choosing for the model parameters and simulate data from the model. Then, using this simulated data, we'll check if pymc3 can get back the parameter values we hard-coded. If it does, we'll have hope that it can get the hidden parameter values that generated the real data.\n",
    "\n",
    "**Note: These hard-coded parameters will be used in question 2.2 - 2.5**.\n",
    "\n",
    "Use the following hard-coded values:\n",
    "\n",
    "$$\n",
    "\\begin{split}\n",
    "\\mu_0 &= 2\n",
    "\\\\ \\\\\n",
    "\\sigma^2_0 &= 1\n",
    "\\\\ \\\\\n",
    "\\beta_{0j} &\\sim N(\\mu_0,\\sigma_0^2) \\; \\text{for all sixty districts}\n",
    "\\\\ \\\\\n",
    "\\beta_1 &= 4\n",
    "\\\\ \\\\ \n",
    "\\beta_2 &= -3\n",
    "\\\\ \\\\\n",
    "\\beta_3 &= -2\n",
    "\\\\ \\\\\n",
    "\\end{split}\n",
    "$$\n",
    "\n",
    "**Verify that these parameters generate data in which an average of 46 to 48 percent of subjects use contraceptives.**\n",
    "\n",
    "$\\text{logit}\\:p_{ij} = \\beta_{0j} + \\beta_1 \\times \\text{urban} + \\beta_2 \\times \\text{living.children} + \\beta_3 \\times \\text{age-mean}$\n",
    "\n",
    "\n",
    "\n",
    "</div>"
   ]
  },
  {
   "cell_type": "code",
   "execution_count": 7,
   "metadata": {},
   "outputs": [
    {
     "data": {
      "image/png": "[encoded data removed]",
      "text/plain": [
       "<Figure size 432x288 with 1 Axes>"
      ]
     },
     "metadata": {
      "needs_background": "light"
     },
     "output_type": "display_data"
    },
    {
     "name": "stdout",
     "output_type": "stream",
     "text": [
      "Summary of 10,000 simulations of contraceptive use\n",
      " - Mean = 0.47657\n",
      " - Variance = 0.00001\n",
      " - Std. Dev = 0.00382\n"
     ]
    }
   ],
   "source": [
    "def logit(logit_p):\n",
    "    p = 1/(1 + np.exp(-logit_p))\n",
    "    return p\n",
    "\n",
    "data = read_data_part2()\n",
    "\n",
    "\n",
    "# Hard coded values\n",
    "mu_0 = 2\n",
    "var_0 = 1\n",
    "sigma_0 = np.sqrt(var_0)\n",
    "data['beta_0'] = pd.Series(np.ones(data.shape[0]))\n",
    "\n",
    "betas = []\n",
    "for i in range(60):\n",
    "    betas.append(np.random.normal(mu_0, var_0))\n",
    "    \n",
    "for idx, beta in enumerate(betas):\n",
    "    data.loc[data['district'] == idx, 'beta_0'] = betas[idx]\n",
    "\n",
    "\n",
    "beta = [0, 4, -3, -2]\n",
    "\n",
    "samples = data.shape[0]\n",
    "\n",
    "beta_0 = data['beta_0']\n",
    "urban = data['urban']\n",
    "living_children = data['living.children'] \n",
    "age_mean = data['age_mean']\n",
    "\n",
    "ratio = []\n",
    "for i in range(10000):\n",
    "    logit_p = beta_0 + beta[1]*urban + beta[2]*living_children + beta[3]*age_mean\n",
    "    p = logit(logit_p)\n",
    "    Y = [np.random.binomial(1, pij) for pij in p]\n",
    "    ratio.append(sum(Y)/len(Y))\n",
    "    \n",
    "ratio = np.array(ratio)\n",
    "plt.hist(ratio, bins = 25)\n",
    "plt.ylabel('Count')\n",
    "plt.xlabel('% use of contraceptives')\n",
    "plt.title('Histogram of simulated % of women that use contraceptives')\n",
    "plt.show()\n",
    "\n",
    "\n",
    "mean = ratio.mean()\n",
    "var = ratio.var()\n",
    "std = ratio.std()\n",
    "median = np.median(ratio)\n",
    "print('Summary of 10,000 simulations of contraceptive use')\n",
    "print(' - Mean = {:.5f}'.format(mean))\n",
    "print(' - Variance = {:.5f}'.format(var))\n",
    "print(' - Std. Dev = {:.5f}'.format(std))\n",
    "\n"
   ]
  },
  {
   "cell_type": "markdown",
   "metadata": {},
   "source": [
    "<div class='exercise-r'>\n",
    "\n",
    "**2.3**  Fit the varying-intercept model specified above to your simulated data. Reasonably good convergence may require adjustments to the number of tuning samples and the target acceptance rate as suggested in pymc3's warnings.\n",
    "\n",
    "\n",
    "$$\n",
    "\\begin{split}\n",
    "\\beta_{0j} &\\sim N(\\mu_0,\\sigma_0^2)\\; \\text{, with} \\;\\; \\mu_0 \\sim N(0,10000)\\; \\text{and} \\; \\; \\frac{1}{\\sigma^2_0} \\sim \\text{Gamma}(0.1,0.1)\n",
    "\\\\\n",
    "\\beta_1 &\\sim N(0,10000) \n",
    "\\\\ \\\\ \n",
    "\\beta_2 &\\sim N(0,10000)\n",
    "\\\\ \\\\ \n",
    "\\beta_3 &\\sim N(0,10000)\n",
    "\\\\ \\\\\n",
    "\\end{split}\n",
    "$$\n",
    "\n",
    "Model for data:\n",
    "\n",
    "$$\n",
    "\\begin{split}\n",
    "Y_{ij} & \\sim \\text{Bernoulli}(p_{ij})\n",
    "\\\\ \\\\\n",
    "\\text{logit}\\:p_{ij} &= \\beta_{0j} + \\beta_1 \\times \\text{urban} + \\beta_2 \\times \\text{living.children} + \\beta_3 \\times \\text{age-mean}\n",
    "\\\\ \\\\\n",
    "\\end{split}\n",
    "$$\n",
    "\n",
    "</div>"
   ]
  },
  {
   "cell_type": "code",
   "execution_count": null,
   "metadata": {},
   "outputs": [],
   "source": [
    "# your code here\n",
    "from pymc3 import Model, Normal, HalfNormal, model_to_graphviz\n",
    "from pymc3 import NUTS, sample, find_MAP\n",
    "from scipy import optimize\n",
    "\n",
    "data = read_data_part2()\n",
    "  \n",
    "    \n",
    "# probability model\n",
    "sigma = np.sqrt(10000)\n",
    "with Model() as my_linear_model:\n",
    "    mu_0 = pm.Normal('mu_0', mu=0, sd = sigma)\n",
    "    tau_0 = pm.Gamma('tau_0', alpha=0.1, beta=0.1)\n",
    "    \n",
    "    beta_0 = pm.Normal('beta_0', mu=mu_0, tau=tau_0, shape=60)\n",
    "    beta_1 = pm.Normal('beta_1', mu=0, sd=sigma)\n",
    "    beta_2 = pm.Normal('beta_2', mu=0, sd=sigma)\n",
    "    beta_3 = pm.Normal('beta_3', mu=0, sd=sigma)\n",
    "    \n",
    "    logit_p = beta_0[data['district'].values] + beta_1*data['urban'].values + beta_2*data['living.children'].values + beta_3*data['age_mean'].values\n",
    "    p = logit(logit_p)\n",
    "    Y_obs = pm.Bernoulli(name = 'Y_obs', logit_p=logit_p, observed = Y)\n",
    "\n",
    "display(model_to_graphviz(my_linear_model) )\n",
    "\n",
    "with my_linear_model:\n",
    " \n",
    "    print(f'Starting MCMC process')\n",
    "    # draw 2000 posterior samples and run the default number of chains = 4 \n",
    "    trace = sample(draws = 20000, tune=1000, target_accept=0.975) \n",
    "    print(f'DONE')\n",
    "    \n",
    "    "
   ]
  },
  {
   "cell_type": "markdown",
   "metadata": {},
   "source": [
    "<div class='exercise-r'>\n",
    "\n",
    "**2.4**  Plot the trace plots of the MCMC sampler for the parameters $\\mu_0, \\frac{1}{\\sigma^2_0}\\text{ (a.k.a., }\\tau_0\\text{)}, \\beta_1, \\beta_2, \\beta_3$. Based on these and the R-hat values, does it look like the samplers converged?\n",
    "\n",
    "\n",
    "\n",
    "</div>"
   ]
  },
  {
   "cell_type": "code",
   "execution_count": null,
   "metadata": {},
   "outputs": [],
   "source": [
    "from pymc3 import traceplot, compareplot, plot_posterior, forestplot\n",
    "traceplot(trace)"
   ]
  },
  {
   "cell_type": "code",
   "execution_count": null,
   "metadata": {},
   "outputs": [],
   "source": [
    "pm.rhat(trace)"
   ]
  },
  {
   "cell_type": "markdown",
   "metadata": {},
   "source": [
    "Since all of the $\\hat{R}$ values for each parameter is < 1.01, we can conclude that we converged on a common distribution for each parameter in most of the iterations simulated. The plots visually confirm the result. "
   ]
  },
  {
   "cell_type": "markdown",
   "metadata": {},
   "source": [
    "<div class='exercise-r'>\n",
    "\n",
    "**2.5**  Plot histograms of the posterior distributions for the parameters $\\beta_{0,9}$, $\\beta_{0,19}$, $\\beta_{0,29}$, ..., $\\beta_{0,59}$. Are the actual parameters that you generated contained within these posterior distributions?\n",
    "\n",
    "**Hint: The `az.plot_posterior()` function might be helpful here.**\n",
    "\n",
    "\n",
    "\n",
    "</div>"
   ]
  },
  {
   "cell_type": "code",
   "execution_count": null,
   "metadata": {},
   "outputs": [],
   "source": [
    "# your code here\n",
    "plots = az.plot_posterior(trace, var_names=['beta_0'])"
   ]
  },
  {
   "cell_type": "markdown",
   "metadata": {},
   "source": [
    "<div class='exercise-r'>\n",
    "\n",
    "**2.6**  We now fit our model to the *actual* data. Fit the varying-intercept model to the real training data.\n",
    "\n",
    "\n",
    "\n",
    "</div>"
   ]
  },
  {
   "cell_type": "code",
   "execution_count": null,
   "metadata": {},
   "outputs": [],
   "source": [
    "# your code here\n",
    "from pymc3 import Model, Normal, HalfNormal, model_to_graphviz\n",
    "from pymc3 import NUTS, sample, find_MAP\n",
    "from scipy import optimize\n",
    "\n",
    "data = read_data_part2()\n",
    "  \n",
    "    \n",
    "# probability model\n",
    "sigma = np.sqrt(10000)\n",
    "with Model() as my_linear_model:\n",
    "    mu_0 = pm.Normal('mu_0', mu=0, sd = sigma)\n",
    "    tau_0 = pm.Gamma('tau_0', alpha=0.1, beta=0.1)\n",
    "    \n",
    "    beta_0 = pm.Normal('beta_0', mu=mu_0, tau=tau_0, shape=60)\n",
    "    beta_1 = pm.Normal('beta_1', mu=0, sd=sigma)\n",
    "    beta_2 = pm.Normal('beta_2', mu=0, sd=sigma)\n",
    "    beta_3 = pm.Normal('beta_3', mu=0, sd=sigma)\n",
    "    \n",
    "    logit_p = beta_0[data['district'].values] + beta_1*data['urban'].values + beta_2*data['living.children'].values + beta_3*data['age_mean'].values\n",
    "    p = logit(logit_p)\n",
    "    Y_obs = pm.Bernoulli(name = 'Y_obs', logit_p=logit_p, observed = data['contraceptive_use'])\n",
    "\n",
    "\n",
    "with my_linear_model:\n",
    " \n",
    "    print(f'Starting MCMC process')\n",
    "    # draw 2000 posterior samples and run the default number of chains = 4 \n",
    "    trace = sample(draws = 20000, tune=1000, target_accept=0.975) \n",
    "    print(f'DONE')\n",
    "    \n",
    "    \n",
    "\n"
   ]
  },
  {
   "cell_type": "markdown",
   "metadata": {},
   "source": [
    "<div class='exercise-r'>\n",
    "\n",
    "**2.7**  Check the convergence by examining the trace plots and R-hats, as you did with the simulated data. What do you observe?\n",
    "\n",
    "\n",
    "\n",
    "</div>"
   ]
  },
  {
   "cell_type": "code",
   "execution_count": null,
   "metadata": {},
   "outputs": [],
   "source": [
    "# your code here\n",
    "traceplot(trace)\n"
   ]
  },
  {
   "cell_type": "code",
   "execution_count": null,
   "metadata": {},
   "outputs": [],
   "source": [
    "pm.rhat(trace)"
   ]
  },
  {
   "cell_type": "markdown",
   "metadata": {},
   "source": [
    "THere was better convergence when fitting parameters on the real data and wider variance for $\\beta_0s$"
   ]
  },
  {
   "cell_type": "markdown",
   "metadata": {},
   "source": [
    "<div class='exercise-r'>\n",
    "\n",
    "**2.8**  Based on the posterior means, which district has the highest base rate of contraceptive usage (independent of other factors like urban population)? Which district has the lowest?\n",
    "\n",
    "\n",
    "\n",
    "</div>"
   ]
  },
  {
   "cell_type": "code",
   "execution_count": null,
   "metadata": {},
   "outputs": [],
   "source": [
    "summary = az.summary(trace)"
   ]
  },
  {
   "cell_type": "code",
   "execution_count": null,
   "metadata": {},
   "outputs": [],
   "source": [
    "summary = summary.reset_index()\n",
    "beta0_summary = summary.loc[summary['index'].str.contains('beta_0')]\n",
    "\n",
    "highest = beta0_summary.loc[beta0_summary['mean'] == beta0_summary['mean'].max() ]\n",
    "lowest = beta0_summary.loc[beta0_summary['mean'] == beta0_summary['mean'].min() ]\n",
    "\n",
    "print('District with highest base rate of contraceptive usage is district {}'.format(int(highest['index'].values[0].split('[')[1].split(']')[0])))\n",
    "print('District with(lowest base rate of contraceptive usage is district {}'.format(int(lowest['index'].values[0].split('[')[1].split(']')[0])))\n",
    "# beta0_summary"
   ]
  },
  {
   "cell_type": "markdown",
   "metadata": {},
   "source": [
    "<div class='exercise-r'>\n",
    "\n",
    "**2.9**  What are the posterior means of $\\mu_0$ and $\\sigma_0$? Do these values offer any evidence in support of or against the varying-intercept model, compared to a model with a single intercept value for all districts?\n",
    "\n",
    "</div>"
   ]
  },
  {
   "cell_type": "code",
   "execution_count": null,
   "metadata": {},
   "outputs": [],
   "source": [
    "logit_mu_0 = summary.loc[summary['index'].str.contains('mu_0'), 'mean'].values[0]\n",
    "mu_0 = logit(logit_mu_0)\n",
    "\n",
    "logit_tau_0 = summary.loc[summary['index'].str.contains('tau_0'), 'mean'].values[0]\n",
    "tau_0 = logit(logit_tau_0)\n",
    "\n",
    "sigma = np.sqrt(1/tau_0)\n",
    "\n",
    "print('mu_0 = {:.2f}'.format(mu_0))\n",
    "print('tau_0 = {:.2f}'.format(tau_0))\n",
    "print('sigma = {:.2f}'.format(sigma))\n"
   ]
  },
  {
   "cell_type": "code",
   "execution_count": null,
   "metadata": {},
   "outputs": [],
   "source": [
    "summary"
   ]
  },
  {
   "cell_type": "markdown",
   "metadata": {},
   "source": [
    "<a id=\"part3\"></a>\n",
    "    \n",
    "<!-- <div class=\"alert alert-block alert-danger\" style=\"color:black;background-color:#E7F4FA\"> -->\n",
    "\n",
    "# Part 3: Varying-Coefficients Model and Model Selection\n",
    "\n",
    "[Return to contents](#contents)\n"
   ]
  },
  {
   "cell_type": "markdown",
   "metadata": {},
   "source": [
    "<a id=\"part3intro\"></a>\n",
    "\n",
    "## Overview \n",
    "\n",
    "[Return to contents](#contents)\n",
    "\n",
    "The next model we will fit to the contraceptives data is a varying-coefficients logistic regression model, where the coefficients on `living.children`, `age_mean`, and `urban` vary by district.\n",
    "\n",
    "Prior distribution:\n",
    "\n",
    "$$\n",
    "\\begin{split}\n",
    "\\beta_{0j} &\\sim N(\\mu_0,\\sigma_0^2)\\; \\text{, with} \\;\\; \\mu_0 \\sim N(0,10000)\\; \\text{and} \\; \\; \\frac{1}{\\sigma^2_0} \\sim \\text{Gamma}(0.1,0.1)\n",
    "\\\\\n",
    "\\beta_{1j} &\\sim N(0,\\sigma_1^2)\\; \\text{, with} \\;\\; \\frac{1}{\\sigma^2_1} \\sim \\text{Gamma}(0.1,0.1) \n",
    "\\\\\n",
    "\\beta_{2j} &\\sim N(0,\\sigma_2^2)\\; \\text{, with} \\;\\; \\frac{1}{\\sigma^2_2} \\sim \\text{Gamma}(0.1,0.1)\n",
    "\\\\ \n",
    "\\beta_{3j} &\\sim N(0,\\sigma_3^2)\\; \\text{, with} \\;\\; \\frac{1}{\\sigma^2_3} \\sim \\text{Gamma}(0.1,0.1)\n",
    "\\\\\n",
    "\\end{split}\n",
    "$$\n",
    "\n",
    "Model for data:\n",
    "\n",
    "$$\n",
    "\\begin{split}\n",
    "Y_{ij} &\\sim \\text{Bernoulli}(p_{ij})\n",
    "\\\\ \\\\\n",
    "\\text{logit}\\:p_{ij} &= \\beta_{0j} + \\beta_{1j} \\times \\text{urban} + \\beta_{2j} \\times \\text{living.children} + \\beta_{3j} \\times \\text{age-mean}\n",
    "\\\\ \\\\\n",
    "\\end{split}\n",
    "$$\n",
    "\n",
    "**PLEASE NOTE:** Once again, the $\\text{Gamma}$ distribution uses the $\\text{Gamma}(\\alpha, \\beta)$ parametrization, where $\\alpha$ is the shape and $\\beta$ is the rate. "
   ]
  },
  {
   "cell_type": "markdown",
   "metadata": {},
   "source": [
    "<a id=\"part3questions\"></a>\n",
    "\n",
    "### <div class='exercise'>Part 3: Questions</div> \n",
    "\n",
    "[Return to contents](#contents)\n",
    "\n",
    "**3.1** Fit the varying-coefficients model described above to the real training data.\n",
    "\n",
    "**3.2** Check the convergence of your varying-coefficients model by examining the trace plots and R-hats, as you did with the prior varying-intercepts model. What do you observe?\n",
    "\n",
    "**3.3** Plot the distributions of posterior means and credible intervals for each predictor's coefficient by district. What do you conclude from these graphs?\n",
    "\n",
    "**HINT:** The ArviZ [`plot_forest()`](https://arviz-devs.github.io/arviz/api/generated/arviz.plot_forest.html) function is very well-suited for this task.\n",
    "\n",
    "**3.4** Use all of the information you've gleaned thus far to build Bayesian logistic regression classifiers for both your varying-intercepts model (from 2.7) and your varying-coefficients model (from 3.1). Then, use each model to make predictions on your training and test sets.\n",
    "\n",
    "  - Report each model's classification percentages and accuracy scores on both the training and test sets, as well as the trivial accuracy scores you would achieve with a \"naive\" model that predicts only the most frequent outcome observed in your training data.\n",
    "  \n",
    "  \n",
    "  - What do you observe from these results?\n",
    "  \n",
    "  \n",
    "  - Which model appears to be the best (i.e. varying-intercept or varying-coefficient), and what is your rationale?"
   ]
  },
  {
   "cell_type": "markdown",
   "metadata": {},
   "source": [
    "<a id=\"part3solutions\"></a>\n",
    "\n",
    "## Part 3: Solutions\n",
    "\n",
    "[Return to contents](#contents)"
   ]
  },
  {
   "cell_type": "markdown",
   "metadata": {},
   "source": [
    "<div class='exercise-r'>\n",
    "\n",
    "**3.1**  Fit the varying-coefficients model described above to the real training data.\n",
    "\n",
    "\n",
    "\n",
    "</div>"
   ]
  },
  {
   "cell_type": "code",
   "execution_count": null,
   "metadata": {},
   "outputs": [],
   "source": [
    "# your code here\n",
    "\n"
   ]
  },
  {
   "cell_type": "markdown",
   "metadata": {},
   "source": [
    "<div class='exercise-r'>\n",
    "\n",
    "**3.2**  Check the convergence of your varying-coefficients model by examining the trace plots and R-hats, as you did with the prior varying-intercepts model. What do you observe?\n",
    "\n",
    "\n",
    "\n",
    "</div>"
   ]
  },
  {
   "cell_type": "code",
   "execution_count": null,
   "metadata": {},
   "outputs": [],
   "source": [
    "# your code here\n",
    "\n"
   ]
  },
  {
   "cell_type": "markdown",
   "metadata": {},
   "source": [
    "**your answer here**"
   ]
  },
  {
   "cell_type": "markdown",
   "metadata": {},
   "source": [
    "<div class='exercise-r'>\n",
    "\n",
    "**3.3**  Plot the distributions of posterior means and credible intervals for each predictor's coefficient by district. What do you conclude from these graphs?\n",
    "\n",
    "**HINT:** The ArviZ [`plot_forest()`](https://arviz-devs.github.io/arviz/api/generated/arviz.plot_forest.html) function is very well-suited for this task.\n",
    "\n",
    "\n",
    "\n",
    "</div>"
   ]
  },
  {
   "cell_type": "code",
   "execution_count": null,
   "metadata": {},
   "outputs": [],
   "source": [
    "# your code here\n",
    "\n"
   ]
  },
  {
   "cell_type": "markdown",
   "metadata": {},
   "source": [
    "**your answer here**"
   ]
  },
  {
   "cell_type": "markdown",
   "metadata": {},
   "source": [
    "<div class='exercise-r'>\n",
    "\n",
    "**3.4**  Use all of the information you've gleaned thus far to build Bayesian logistic regression classifiers for both your varying-intercepts model (from 2.7) and your varying-coefficients model (from 3.1). Then, use each model to make predictions on your training and test sets.\n",
    "\n",
    "  - Report each model's classification percentages and accuracy scores on both the training and test sets, as well as the trivial accuracy scores you would achieve with a \"naive\" model that predicts only the most frequent outcome observed in your training data.\n",
    "  \n",
    "  \n",
    "  - What do you observe from these results?\n",
    "  \n",
    "  \n",
    "  - Which model appears to be the best (i.e. varying-intercept or varying-coefficient), and what is your rationale?\n",
    "\n",
    "</div>"
   ]
  },
  {
   "cell_type": "code",
   "execution_count": null,
   "metadata": {},
   "outputs": [],
   "source": [
    "# your code here\n",
    "\n"
   ]
  },
  {
   "cell_type": "markdown",
   "metadata": {},
   "source": [
    "**your answer here**"
   ]
  },
  {
   "cell_type": "markdown",
   "metadata": {},
   "source": []
  }
 ],
 "metadata": {
  "kernelspec": {
   "display_name": "Python 3 (ipykernel)",
   "language": "python",
   "name": "python3"
  },
  "language_info": {
   "codemirror_mode": {
    "name": "ipython",
    "version": 3
   },
   "file_extension": ".py",
   "mimetype": "text/x-python",
   "name": "python",
   "nbconvert_exporter": "python",
   "pygments_lexer": "ipython3",
   "version": "3.9.10"
  }
 },
 "nbformat": 4,
 "nbformat_minor": 4
}
